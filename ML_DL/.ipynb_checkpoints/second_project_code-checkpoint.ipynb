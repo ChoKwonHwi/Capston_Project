{
 "cells": [
  {
   "cell_type": "code",
   "execution_count": 1,
   "id": "6c56580b",
   "metadata": {},
   "outputs": [],
   "source": [
    "from sklearn.impute import KNNImputer\n",
    "import pandas as pd\n",
    "import numpy as np\n",
    "import ast"
   ]
  },
  {
   "cell_type": "code",
   "execution_count": 2,
   "id": "3eaf401e",
   "metadata": {},
   "outputs": [],
   "source": [
    "baby_df = pd.read_csv(\"./babyInfo.csv\")\n",
    "# 데이터 불러오기"
   ]
  },
  {
   "cell_type": "code",
   "execution_count": 3,
   "id": "ce34e2aa",
   "metadata": {},
   "outputs": [],
   "source": [
    "baby_growth_df = baby_df.dropna(subset=['growth','gender']) \n",
    "# growth, gender 결측치 제거"
   ]
  },
  {
   "cell_type": "code",
   "execution_count": 4,
   "id": "753c159e",
   "metadata": {},
   "outputs": [
    {
     "name": "stderr",
     "output_type": "stream",
     "text": [
      "C:\\Users\\82108\\AppData\\Local\\Temp\\ipykernel_11472\\3092223480.py:1: SettingWithCopyWarning: \n",
      "A value is trying to be set on a copy of a slice from a DataFrame.\n",
      "Try using .loc[row_indexer,col_indexer] = value instead\n",
      "\n",
      "See the caveats in the documentation: https://pandas.pydata.org/pandas-docs/stable/user_guide/indexing.html#returning-a-view-versus-a-copy\n",
      "  baby_growth_df['growth'] = baby_growth_df['growth'].apply(ast.literal_eval)\n",
      "C:\\Users\\82108\\AppData\\Local\\Temp\\ipykernel_11472\\3092223480.py:3: SettingWithCopyWarning: \n",
      "A value is trying to be set on a copy of a slice from a DataFrame.\n",
      "Try using .loc[row_indexer,col_indexer] = value instead\n",
      "\n",
      "See the caveats in the documentation: https://pandas.pydata.org/pandas-docs/stable/user_guide/indexing.html#returning-a-view-versus-a-copy\n",
      "  baby_growth_df['height'] = baby_growth_df['growth'].apply(lambda x: x.get('height', {}).get('value', None))\n",
      "C:\\Users\\82108\\AppData\\Local\\Temp\\ipykernel_11472\\3092223480.py:4: SettingWithCopyWarning: \n",
      "A value is trying to be set on a copy of a slice from a DataFrame.\n",
      "Try using .loc[row_indexer,col_indexer] = value instead\n",
      "\n",
      "See the caveats in the documentation: https://pandas.pydata.org/pandas-docs/stable/user_guide/indexing.html#returning-a-view-versus-a-copy\n",
      "  baby_growth_df['weight'] = baby_growth_df['growth'].apply(lambda x: x.get('weight', {}).get('value', None))\n"
     ]
    }
   ],
   "source": [
    "baby_growth_df['growth'] = baby_growth_df['growth'].apply(ast.literal_eval) \n",
    "# 문자열 -> 딕셔너리 형태로 변환\n",
    "baby_growth_df['height'] = baby_growth_df['growth'].apply(lambda x: x.get('height', {}).get('value', None))\n",
    "baby_growth_df['weight'] = baby_growth_df['growth'].apply(lambda x: x.get('weight', {}).get('value', None))"
   ]
  },
  {
   "cell_type": "code",
   "execution_count": 5,
   "id": "8cbe884e",
   "metadata": {},
   "outputs": [
    {
     "data": {
      "text/html": [
       "<div>\n",
       "<style scoped>\n",
       "    .dataframe tbody tr th:only-of-type {\n",
       "        vertical-align: middle;\n",
       "    }\n",
       "\n",
       "    .dataframe tbody tr th {\n",
       "        vertical-align: top;\n",
       "    }\n",
       "\n",
       "    .dataframe thead th {\n",
       "        text-align: right;\n",
       "    }\n",
       "</style>\n",
       "<table border=\"1\" class=\"dataframe\">\n",
       "  <thead>\n",
       "    <tr style=\"text-align: right;\">\n",
       "      <th></th>\n",
       "      <th>_id</th>\n",
       "      <th>days</th>\n",
       "      <th>desc</th>\n",
       "      <th>gender</th>\n",
       "      <th>__v</th>\n",
       "      <th>growth</th>\n",
       "      <th>height</th>\n",
       "      <th>weight</th>\n",
       "    </tr>\n",
       "  </thead>\n",
       "  <tbody>\n",
       "    <tr>\n",
       "      <th>2239</th>\n",
       "      <td>63490ebc4f30a39628aefdc9</td>\n",
       "      <td>19</td>\n",
       "      <td>어찌저찌 어제보다는 오늘 한결 수월하다!\\n그래도 할일은 너무 많고\\n너가 울면 어...</td>\n",
       "      <td>M</td>\n",
       "      <td>0</td>\n",
       "      <td>{'head': {'value': 37, 'unit': 'cm', 'std': 37}}</td>\n",
       "      <td>NaN</td>\n",
       "      <td>NaN</td>\n",
       "    </tr>\n",
       "    <tr>\n",
       "      <th>6393</th>\n",
       "      <td>63a96fee0ec395c9ce32feb3</td>\n",
       "      <td>54</td>\n",
       "      <td>NaN</td>\n",
       "      <td>M</td>\n",
       "      <td>0</td>\n",
       "      <td>{'head': {'value': 39, 'unit': 'cm', 'std': 39}}</td>\n",
       "      <td>NaN</td>\n",
       "      <td>NaN</td>\n",
       "    </tr>\n",
       "    <tr>\n",
       "      <th>9350</th>\n",
       "      <td>6325346f204f507df3e5a1b3</td>\n",
       "      <td>78</td>\n",
       "      <td>78일차 아가 성장표\\n\\n🎀모빌도 좋아하지만 이제는 아기체육관을 더 좋아함\\n🎀잘...</td>\n",
       "      <td>F</td>\n",
       "      <td>0</td>\n",
       "      <td>{'head': {'value': 41, 'unit': 'cm', 'std': 41}}</td>\n",
       "      <td>NaN</td>\n",
       "      <td>NaN</td>\n",
       "    </tr>\n",
       "    <tr>\n",
       "      <th>9414</th>\n",
       "      <td>638bd1daffe5f9567ae18982</td>\n",
       "      <td>79</td>\n",
       "      <td>🤎11시간 통잠 4일차 \\n🤎밤잠 시작 시간을 7:30pm으로 본인이 정한 듯함\\n...</td>\n",
       "      <td>F</td>\n",
       "      <td>0</td>\n",
       "      <td>{'head': {'value': 39, 'unit': 'cm', 'std': 39}}</td>\n",
       "      <td>NaN</td>\n",
       "      <td>NaN</td>\n",
       "    </tr>\n",
       "    <tr>\n",
       "      <th>9920</th>\n",
       "      <td>63639f4e7382e0031c9b5560</td>\n",
       "      <td>83</td>\n",
       "      <td>NaN</td>\n",
       "      <td>M</td>\n",
       "      <td>0</td>\n",
       "      <td>{'head': {'value': 39.6, 'unit': 'cm', 'std': ...</td>\n",
       "      <td>NaN</td>\n",
       "      <td>NaN</td>\n",
       "    </tr>\n",
       "    <tr>\n",
       "      <th>...</th>\n",
       "      <td>...</td>\n",
       "      <td>...</td>\n",
       "      <td>...</td>\n",
       "      <td>...</td>\n",
       "      <td>...</td>\n",
       "      <td>...</td>\n",
       "      <td>...</td>\n",
       "      <td>...</td>\n",
       "    </tr>\n",
       "    <tr>\n",
       "      <th>223985</th>\n",
       "      <td>590c7241b9ede03a5c586eb9</td>\n",
       "      <td>131</td>\n",
       "      <td>NaN</td>\n",
       "      <td>M</td>\n",
       "      <td>0</td>\n",
       "      <td>{'head': {'std': 43, 'value': 43, 'unit': 'cm'}}</td>\n",
       "      <td>NaN</td>\n",
       "      <td>NaN</td>\n",
       "    </tr>\n",
       "    <tr>\n",
       "      <th>224346</th>\n",
       "      <td>61080e04babd662a6282d83c</td>\n",
       "      <td>132</td>\n",
       "      <td>NaN</td>\n",
       "      <td>M</td>\n",
       "      <td>0</td>\n",
       "      <td>{'head': {'value': 42.5, 'unit': 'cm', 'std': ...</td>\n",
       "      <td>NaN</td>\n",
       "      <td>NaN</td>\n",
       "    </tr>\n",
       "    <tr>\n",
       "      <th>225178</th>\n",
       "      <td>59bfb0b41787fa4328598fe9</td>\n",
       "      <td>132</td>\n",
       "      <td>NaN</td>\n",
       "      <td>M</td>\n",
       "      <td>0</td>\n",
       "      <td>{'head': {'unit': 'cm', 'value': 43, 'std': 43}}</td>\n",
       "      <td>NaN</td>\n",
       "      <td>NaN</td>\n",
       "    </tr>\n",
       "    <tr>\n",
       "      <th>226391</th>\n",
       "      <td>5a1cb41c01a81b7476aa0877</td>\n",
       "      <td>133</td>\n",
       "      <td>NaN</td>\n",
       "      <td>M</td>\n",
       "      <td>0</td>\n",
       "      <td>{'head': {'value': 42.9, 'unit': 'cm', 'std': ...</td>\n",
       "      <td>NaN</td>\n",
       "      <td>NaN</td>\n",
       "    </tr>\n",
       "    <tr>\n",
       "      <th>227432</th>\n",
       "      <td>5c7924b0f69662488be8eea4</td>\n",
       "      <td>134</td>\n",
       "      <td>누워서 낮잠도 예쁘게 잘자고 잘놀고 이쁜짓을 많이 해서 할아버지가 하루종일 이쁘다고...</td>\n",
       "      <td>F</td>\n",
       "      <td>0</td>\n",
       "      <td>{'head': {'std': 42, 'value': 42, 'unit': 'cm'}}</td>\n",
       "      <td>NaN</td>\n",
       "      <td>NaN</td>\n",
       "    </tr>\n",
       "  </tbody>\n",
       "</table>\n",
       "<p>219 rows × 8 columns</p>\n",
       "</div>"
      ],
      "text/plain": [
       "                             _id  days  \\\n",
       "2239    63490ebc4f30a39628aefdc9    19   \n",
       "6393    63a96fee0ec395c9ce32feb3    54   \n",
       "9350    6325346f204f507df3e5a1b3    78   \n",
       "9414    638bd1daffe5f9567ae18982    79   \n",
       "9920    63639f4e7382e0031c9b5560    83   \n",
       "...                          ...   ...   \n",
       "223985  590c7241b9ede03a5c586eb9   131   \n",
       "224346  61080e04babd662a6282d83c   132   \n",
       "225178  59bfb0b41787fa4328598fe9   132   \n",
       "226391  5a1cb41c01a81b7476aa0877   133   \n",
       "227432  5c7924b0f69662488be8eea4   134   \n",
       "\n",
       "                                                     desc gender  __v  \\\n",
       "2239    어찌저찌 어제보다는 오늘 한결 수월하다!\\n그래도 할일은 너무 많고\\n너가 울면 어...      M    0   \n",
       "6393                                                  NaN      M    0   \n",
       "9350    78일차 아가 성장표\\n\\n🎀모빌도 좋아하지만 이제는 아기체육관을 더 좋아함\\n🎀잘...      F    0   \n",
       "9414    🤎11시간 통잠 4일차 \\n🤎밤잠 시작 시간을 7:30pm으로 본인이 정한 듯함\\n...      F    0   \n",
       "9920                                                  NaN      M    0   \n",
       "...                                                   ...    ...  ...   \n",
       "223985                                                NaN      M    0   \n",
       "224346                                                NaN      M    0   \n",
       "225178                                                NaN      M    0   \n",
       "226391                                                NaN      M    0   \n",
       "227432  누워서 낮잠도 예쁘게 잘자고 잘놀고 이쁜짓을 많이 해서 할아버지가 하루종일 이쁘다고...      F    0   \n",
       "\n",
       "                                                   growth  height  weight  \n",
       "2239     {'head': {'value': 37, 'unit': 'cm', 'std': 37}}     NaN     NaN  \n",
       "6393     {'head': {'value': 39, 'unit': 'cm', 'std': 39}}     NaN     NaN  \n",
       "9350     {'head': {'value': 41, 'unit': 'cm', 'std': 41}}     NaN     NaN  \n",
       "9414     {'head': {'value': 39, 'unit': 'cm', 'std': 39}}     NaN     NaN  \n",
       "9920    {'head': {'value': 39.6, 'unit': 'cm', 'std': ...     NaN     NaN  \n",
       "...                                                   ...     ...     ...  \n",
       "223985   {'head': {'std': 43, 'value': 43, 'unit': 'cm'}}     NaN     NaN  \n",
       "224346  {'head': {'value': 42.5, 'unit': 'cm', 'std': ...     NaN     NaN  \n",
       "225178   {'head': {'unit': 'cm', 'value': 43, 'std': 43}}     NaN     NaN  \n",
       "226391  {'head': {'value': 42.9, 'unit': 'cm', 'std': ...     NaN     NaN  \n",
       "227432   {'head': {'std': 42, 'value': 42, 'unit': 'cm'}}     NaN     NaN  \n",
       "\n",
       "[219 rows x 8 columns]"
      ]
     },
     "execution_count": 5,
     "metadata": {},
     "output_type": "execute_result"
    }
   ],
   "source": [
    "baby_growth_df[baby_growth_df['weight'].isna() & baby_growth_df['height'].isna()] \n",
    "# height,weight 둘 다 결측치인 행 확인"
   ]
  },
  {
   "cell_type": "code",
   "execution_count": 6,
   "id": "5a538e12",
   "metadata": {},
   "outputs": [],
   "source": [
    "baby_growth_df = baby_growth_df.dropna(axis='index', how='all', subset=['height','weight']) \n",
    "# 둘 다 결측치인 행 제거"
   ]
  },
  {
   "cell_type": "code",
   "execution_count": 7,
   "id": "d75e4a55",
   "metadata": {},
   "outputs": [],
   "source": [
    "baby_growth_df = baby_growth_df[baby_growth_df['gender'] != 'U'] \n",
    "# 성별이 Unknown인 행 삭제"
   ]
  },
  {
   "cell_type": "code",
   "execution_count": 8,
   "id": "f38f84fb",
   "metadata": {},
   "outputs": [],
   "source": [
    "# 'gender' column 추출\n",
    "gender = baby_growth_df['gender']\n",
    "\n",
    "# 'gender' column을 one-hot 인코딩하여 새로운 데이터프레임 생성\n",
    "gender_onehot = pd.get_dummies(gender, prefix='gender')\n",
    "\n",
    "# 원래 데이터프레임과 합치기\n",
    "baby_growth_df = pd.concat([baby_growth_df, gender_onehot], axis=1)\n",
    "\n",
    "# 'gender' column 삭제\n",
    "baby_growth_df = baby_growth_df.drop('gender', axis=1)"
   ]
  },
  {
   "cell_type": "code",
   "execution_count": 9,
   "id": "e6c57abb",
   "metadata": {},
   "outputs": [],
   "source": [
    "baby_growth_df.sort_values(by='days', inplace=True) # 생후 개월 수로 오름차순 정렬"
   ]
  },
  {
   "cell_type": "code",
   "execution_count": 10,
   "id": "b0ded8e9",
   "metadata": {},
   "outputs": [],
   "source": [
    "baby_growth_df['days'] = pd.to_numeric(baby_growth_df['days'])"
   ]
  },
  {
   "cell_type": "code",
   "execution_count": 11,
   "id": "91145bea",
   "metadata": {},
   "outputs": [],
   "source": [
    "male_df = baby_growth_df[baby_growth_df['gender_M']==1].copy()\n",
    "female_df = baby_growth_df[baby_growth_df['gender_F']==1].copy()"
   ]
  },
  {
   "cell_type": "code",
   "execution_count": 12,
   "id": "79b92ad8",
   "metadata": {},
   "outputs": [],
   "source": [
    "male_df.drop(['gender_F'], axis=1, inplace=True)"
   ]
  },
  {
   "cell_type": "code",
   "execution_count": 13,
   "id": "2d431e82",
   "metadata": {},
   "outputs": [],
   "source": [
    "female_df.drop(['gender_M'], axis=1, inplace=True)"
   ]
  },
  {
   "cell_type": "markdown",
   "id": "1ee4ed89",
   "metadata": {},
   "source": [
    "## 결측치 처리 - KNNImputer"
   ]
  },
  {
   "cell_type": "code",
   "execution_count": 14,
   "id": "a95fceb4",
   "metadata": {},
   "outputs": [],
   "source": [
    "imputer = KNNImputer(n_neighbors=5)"
   ]
  },
  {
   "cell_type": "code",
   "execution_count": 15,
   "id": "53eb0e41",
   "metadata": {},
   "outputs": [],
   "source": [
    "# male_df에서 height 칼럼의 결측치 처리\n",
    "male_df_height = male_df['height'].values.reshape(-1, 1)\n",
    "imputed_male_df_height = imputer.fit_transform(male_df_height)\n",
    "male_df['height'] = imputed_male_df_height\n",
    "\n",
    "# female_df에서 height 칼럼의 결측치 처리\n",
    "female_df_height = female_df['height'].values.reshape(-1, 1)\n",
    "imputed_female_df_height = imputer.fit_transform(female_df_height)\n",
    "female_df['height'] = imputed_female_df_height"
   ]
  },
  {
   "cell_type": "code",
   "execution_count": 16,
   "id": "19c08b88",
   "metadata": {},
   "outputs": [],
   "source": [
    "# male_df에서 weight 칼럼의 결측치 처리\n",
    "male_df_weight = male_df['weight'].values.reshape(-1, 1)\n",
    "imputed_male_df_weight = imputer.fit_transform(male_df_weight)\n",
    "male_df['weight'] = imputed_male_df_weight\n",
    "\n",
    "# female_df에서 weight 칼럼의 결측치 처리\n",
    "female_df_weight = female_df['weight'].values.reshape(-1, 1)\n",
    "imputed_female_df_weight = imputer.fit_transform(female_df_height)\n",
    "female_df['weight'] = imputed_female_df_weight"
   ]
  },
  {
   "cell_type": "code",
   "execution_count": 17,
   "id": "bc07c095",
   "metadata": {},
   "outputs": [],
   "source": [
    "male_df['height'] = male_df.groupby('days')['height'].transform(lambda x: x.fillna(x.median()))\n",
    "male_df['weight'] = male_df.groupby('days')['weight'].transform(lambda x: x.fillna(x.median()))\n",
    "female_df['height'] = female_df.groupby('days')['height'].transform(lambda x: x.fillna(x.median()))\n",
    "female_df['weight'] = female_df.groupby('days')['weight'].transform(lambda x: x.fillna(x.median()))"
   ]
  },
  {
   "cell_type": "code",
   "execution_count": 18,
   "id": "68040bb7",
   "metadata": {},
   "outputs": [],
   "source": [
    "# 이상치 제거 함수\n",
    "def remove_outliers(df, col):\n",
    "    q1 = df[col].quantile(0.25)\n",
    "    q3 = df[col].quantile(0.75)\n",
    "    iqr = q3 - q1\n",
    "    lower_bound = q1 - 1.5*iqr\n",
    "    upper_bound = q3 + 1.5*iqr\n",
    "    df = df.loc[(df[col] >= lower_bound) & (df[col] <= upper_bound)]\n",
    "    return df"
   ]
  },
  {
   "cell_type": "code",
   "execution_count": 19,
   "id": "66f58c44",
   "metadata": {},
   "outputs": [],
   "source": [
    "# 남성 생후 일 수 별로 그룹화\n",
    "grouped_male = male_df.groupby('days')\n",
    "\n",
    "# 각 생후 일 수별로 이상치 제거된 데이터프레임을 저장할 빈 데이터프레임 생성\n",
    "cleaned_df_male = pd.DataFrame(columns=male_df.columns)\n",
    "\n",
    "# 생후 일 수(days)별로 이상치 제거된 데이터를 cleaned_df_male에 추가\n",
    "for name, group in grouped_male:\n",
    "    group = remove_outliers(group, 'height')\n",
    "    group = remove_outliers(group, 'weight')\n",
    "    cleaned_df_male = pd.concat([cleaned_df_male, group])\n"
   ]
  },
  {
   "cell_type": "code",
   "execution_count": 20,
   "id": "f7875fbd",
   "metadata": {},
   "outputs": [],
   "source": [
    "# 여성 생후 일 수 별로 그룹화\n",
    "grouped_female = female_df.groupby('days')\n",
    "\n",
    "# 각 생후 일 수별로 이상치 제거된 데이터프레임을 저장할 빈 데이터프레임 생성\n",
    "cleaned_df_female = pd.DataFrame(columns=female_df.columns)\n",
    "\n",
    "# 생후 일 수(days)별로 이상치 제거된 데이터를 cleaned_df_female에 추가\n",
    "for name, group in grouped_female:\n",
    "    group = remove_outliers(group, 'height')\n",
    "    group = remove_outliers(group, 'weight')\n",
    "    cleaned_df_female = pd.concat([cleaned_df_female, group])\n"
   ]
  },
  {
   "cell_type": "code",
   "execution_count": 21,
   "id": "d6607821",
   "metadata": {},
   "outputs": [
    {
     "data": {
      "text/html": [
       "<div>\n",
       "<style scoped>\n",
       "    .dataframe tbody tr th:only-of-type {\n",
       "        vertical-align: middle;\n",
       "    }\n",
       "\n",
       "    .dataframe tbody tr th {\n",
       "        vertical-align: top;\n",
       "    }\n",
       "\n",
       "    .dataframe thead th {\n",
       "        text-align: right;\n",
       "    }\n",
       "</style>\n",
       "<table border=\"1\" class=\"dataframe\">\n",
       "  <thead>\n",
       "    <tr style=\"text-align: right;\">\n",
       "      <th></th>\n",
       "      <th>_id</th>\n",
       "      <th>days</th>\n",
       "      <th>desc</th>\n",
       "      <th>__v</th>\n",
       "      <th>growth</th>\n",
       "      <th>height</th>\n",
       "      <th>weight</th>\n",
       "      <th>gender_M</th>\n",
       "      <th>gender_F</th>\n",
       "    </tr>\n",
       "  </thead>\n",
       "  <tbody>\n",
       "    <tr>\n",
       "      <th>0</th>\n",
       "      <td>5ab0230abbd2ac53661aaa2a</td>\n",
       "      <td>0</td>\n",
       "      <td>NaN</td>\n",
       "      <td>0</td>\n",
       "      <td>{'weight': {'unit': 'kg', 'value': 3.78, 'std'...</td>\n",
       "      <td>52.000000</td>\n",
       "      <td>3.780000</td>\n",
       "      <td>1</td>\n",
       "      <td>NaN</td>\n",
       "    </tr>\n",
       "    <tr>\n",
       "      <th>1</th>\n",
       "      <td>5ab023294ba8ac623954eec1</td>\n",
       "      <td>0</td>\n",
       "      <td>청각검사 정상</td>\n",
       "      <td>0</td>\n",
       "      <td>{'weight': {'unit': 'kg', 'std': 3.78, 'value'...</td>\n",
       "      <td>52.000000</td>\n",
       "      <td>3.780000</td>\n",
       "      <td>1</td>\n",
       "      <td>NaN</td>\n",
       "    </tr>\n",
       "    <tr>\n",
       "      <th>2</th>\n",
       "      <td>58e81abdaa513c73561e5b40</td>\n",
       "      <td>0</td>\n",
       "      <td>NaN</td>\n",
       "      <td>0</td>\n",
       "      <td>{'weight': {'std': 3.2, 'unit': 'kg', 'value':...</td>\n",
       "      <td>50.000000</td>\n",
       "      <td>3.200000</td>\n",
       "      <td>1</td>\n",
       "      <td>NaN</td>\n",
       "    </tr>\n",
       "    <tr>\n",
       "      <th>3</th>\n",
       "      <td>5bc8208036373c1537505616</td>\n",
       "      <td>1</td>\n",
       "      <td>기쁨이가 태어났어요!!\\n\\n이틀 전부터 진통이 왔는데 5분주기의 짧은 진통은\\n안...</td>\n",
       "      <td>0</td>\n",
       "      <td>{'height': {'std': 50, 'unit': 'cm', 'value': ...</td>\n",
       "      <td>50.000000</td>\n",
       "      <td>2.800000</td>\n",
       "      <td>1</td>\n",
       "      <td>NaN</td>\n",
       "    </tr>\n",
       "    <tr>\n",
       "      <th>4</th>\n",
       "      <td>5bc84dbc5f7de302e608c4b7</td>\n",
       "      <td>1</td>\n",
       "      <td>NaN</td>\n",
       "      <td>0</td>\n",
       "      <td>{'weight': {'unit': 'kg', 'value': 3.51, 'std'...</td>\n",
       "      <td>51.500000</td>\n",
       "      <td>3.510000</td>\n",
       "      <td>1</td>\n",
       "      <td>NaN</td>\n",
       "    </tr>\n",
       "    <tr>\n",
       "      <th>...</th>\n",
       "      <td>...</td>\n",
       "      <td>...</td>\n",
       "      <td>...</td>\n",
       "      <td>...</td>\n",
       "      <td>...</td>\n",
       "      <td>...</td>\n",
       "      <td>...</td>\n",
       "      <td>...</td>\n",
       "      <td>...</td>\n",
       "    </tr>\n",
       "    <tr>\n",
       "      <th>93783</th>\n",
       "      <td>61768ecf383ebb9ee23d044d</td>\n",
       "      <td>365</td>\n",
       "      <td>NaN</td>\n",
       "      <td>0</td>\n",
       "      <td>{'weight': {'value': 9.4, 'unit': 'kg', 'std':...</td>\n",
       "      <td>59.363307</td>\n",
       "      <td>59.363307</td>\n",
       "      <td>NaN</td>\n",
       "      <td>1</td>\n",
       "    </tr>\n",
       "    <tr>\n",
       "      <th>93784</th>\n",
       "      <td>613826c0c2c8aad5e5e99981</td>\n",
       "      <td>365</td>\n",
       "      <td>NaN</td>\n",
       "      <td>0</td>\n",
       "      <td>{'height': {'value': 76.3, 'unit': 'cm', 'std'...</td>\n",
       "      <td>76.300000</td>\n",
       "      <td>76.300000</td>\n",
       "      <td>NaN</td>\n",
       "      <td>1</td>\n",
       "    </tr>\n",
       "    <tr>\n",
       "      <th>93785</th>\n",
       "      <td>60e7cd722f0e2f96d8e1b099</td>\n",
       "      <td>365</td>\n",
       "      <td>젖병떼기 연습.\\n빨대컵에 분유주기 시작.</td>\n",
       "      <td>0</td>\n",
       "      <td>{'weight': {'value': 9.4, 'unit': 'kg', 'std':...</td>\n",
       "      <td>59.363307</td>\n",
       "      <td>59.363307</td>\n",
       "      <td>NaN</td>\n",
       "      <td>1</td>\n",
       "    </tr>\n",
       "    <tr>\n",
       "      <th>93786</th>\n",
       "      <td>625209693a0059de267cae3a</td>\n",
       "      <td>365</td>\n",
       "      <td>NaN</td>\n",
       "      <td>0</td>\n",
       "      <td>{'weight': {'value': 3.2, 'unit': 'kg', 'std':...</td>\n",
       "      <td>59.363307</td>\n",
       "      <td>59.363307</td>\n",
       "      <td>NaN</td>\n",
       "      <td>1</td>\n",
       "    </tr>\n",
       "    <tr>\n",
       "      <th>93787</th>\n",
       "      <td>5e4fdd2bbf7c2d77972da014</td>\n",
       "      <td>365</td>\n",
       "      <td>쪽쪽이 끊기 1일차\\n\\n낮잠 2번 잘잠\\n\\n밤잠 울진않고 손빨거나 쪽쪽이 빠는행...</td>\n",
       "      <td>0</td>\n",
       "      <td>{'weight': {'value': 8.2, 'unit': 'kg', 'std':...</td>\n",
       "      <td>59.363307</td>\n",
       "      <td>59.363307</td>\n",
       "      <td>NaN</td>\n",
       "      <td>1</td>\n",
       "    </tr>\n",
       "  </tbody>\n",
       "</table>\n",
       "<p>93788 rows × 9 columns</p>\n",
       "</div>"
      ],
      "text/plain": [
       "                            _id days  \\\n",
       "0      5ab0230abbd2ac53661aaa2a    0   \n",
       "1      5ab023294ba8ac623954eec1    0   \n",
       "2      58e81abdaa513c73561e5b40    0   \n",
       "3      5bc8208036373c1537505616    1   \n",
       "4      5bc84dbc5f7de302e608c4b7    1   \n",
       "...                         ...  ...   \n",
       "93783  61768ecf383ebb9ee23d044d  365   \n",
       "93784  613826c0c2c8aad5e5e99981  365   \n",
       "93785  60e7cd722f0e2f96d8e1b099  365   \n",
       "93786  625209693a0059de267cae3a  365   \n",
       "93787  5e4fdd2bbf7c2d77972da014  365   \n",
       "\n",
       "                                                    desc __v  \\\n",
       "0                                                    NaN   0   \n",
       "1                                                청각검사 정상   0   \n",
       "2                                                    NaN   0   \n",
       "3      기쁨이가 태어났어요!!\\n\\n이틀 전부터 진통이 왔는데 5분주기의 짧은 진통은\\n안...   0   \n",
       "4                                                    NaN   0   \n",
       "...                                                  ...  ..   \n",
       "93783                                                NaN   0   \n",
       "93784                                                NaN   0   \n",
       "93785                            젖병떼기 연습.\\n빨대컵에 분유주기 시작.   0   \n",
       "93786                                                NaN   0   \n",
       "93787  쪽쪽이 끊기 1일차\\n\\n낮잠 2번 잘잠\\n\\n밤잠 울진않고 손빨거나 쪽쪽이 빠는행...   0   \n",
       "\n",
       "                                                  growth     height  \\\n",
       "0      {'weight': {'unit': 'kg', 'value': 3.78, 'std'...  52.000000   \n",
       "1      {'weight': {'unit': 'kg', 'std': 3.78, 'value'...  52.000000   \n",
       "2      {'weight': {'std': 3.2, 'unit': 'kg', 'value':...  50.000000   \n",
       "3      {'height': {'std': 50, 'unit': 'cm', 'value': ...  50.000000   \n",
       "4      {'weight': {'unit': 'kg', 'value': 3.51, 'std'...  51.500000   \n",
       "...                                                  ...        ...   \n",
       "93783  {'weight': {'value': 9.4, 'unit': 'kg', 'std':...  59.363307   \n",
       "93784  {'height': {'value': 76.3, 'unit': 'cm', 'std'...  76.300000   \n",
       "93785  {'weight': {'value': 9.4, 'unit': 'kg', 'std':...  59.363307   \n",
       "93786  {'weight': {'value': 3.2, 'unit': 'kg', 'std':...  59.363307   \n",
       "93787  {'weight': {'value': 8.2, 'unit': 'kg', 'std':...  59.363307   \n",
       "\n",
       "          weight gender_M gender_F  \n",
       "0       3.780000        1      NaN  \n",
       "1       3.780000        1      NaN  \n",
       "2       3.200000        1      NaN  \n",
       "3       2.800000        1      NaN  \n",
       "4       3.510000        1      NaN  \n",
       "...          ...      ...      ...  \n",
       "93783  59.363307      NaN        1  \n",
       "93784  76.300000      NaN        1  \n",
       "93785  59.363307      NaN        1  \n",
       "93786  59.363307      NaN        1  \n",
       "93787  59.363307      NaN        1  \n",
       "\n",
       "[93788 rows x 9 columns]"
      ]
     },
     "execution_count": 21,
     "metadata": {},
     "output_type": "execute_result"
    }
   ],
   "source": [
    "baby_growth_df = pd.concat([cleaned_df_male, cleaned_df_female], ignore_index=True)"
   ]
  },
  {
   "cell_type": "code",
   "execution_count": 22,
   "id": "f0152d3e",
   "metadata": {},
   "outputs": [],
   "source": [
    "baby_growth_df['gender_F'].fillna(0, inplace=True)\n",
    "baby_growth_df['gender_M'].fillna(0, inplace=True)"
   ]
  },
  {
   "cell_type": "code",
   "execution_count": 23,
   "id": "e73e1d7e",
   "metadata": {},
   "outputs": [],
   "source": [
    "baby_growth_df['gender'] = 0\n",
    "baby_growth_df.loc[baby_growth_df['gender_M'] == True, 'gender'] = 1"
   ]
  },
  {
   "cell_type": "code",
   "execution_count": 24,
   "id": "ecd2c043",
   "metadata": {},
   "outputs": [],
   "source": [
    "baby_growth_df.drop(['gender_M', 'gender_F'], axis = 1, inplace = True)"
   ]
  },
  {
   "cell_type": "code",
   "execution_count": 28,
   "id": "1cbf569a",
   "metadata": {},
   "outputs": [
    {
     "data": {
      "text/plain": [
       "0        1\n",
       "1        1\n",
       "2        1\n",
       "3        1\n",
       "4        1\n",
       "        ..\n",
       "93783    0\n",
       "93784    0\n",
       "93785    0\n",
       "93786    0\n",
       "93787    0\n",
       "Name: gender, Length: 93788, dtype: int64"
      ]
     },
     "execution_count": 28,
     "metadata": {},
     "output_type": "execute_result"
    }
   ],
   "source": [
    "baby_growth_df['gender']"
   ]
  },
  {
   "cell_type": "markdown",
   "id": "b85a2865",
   "metadata": {},
   "source": [
    "## 현재 성장정도 예측"
   ]
  },
  {
   "cell_type": "code",
   "execution_count": 29,
   "id": "2ca4cc81",
   "metadata": {},
   "outputs": [
    {
     "name": "stdout",
     "output_type": "stream",
     "text": [
      "1.0, 3.0, 55.0, 4.5\n"
     ]
    }
   ],
   "source": [
    "input_gender, input_days, input_height, input_weight = map(float, input().split(','))"
   ]
  },
  {
   "cell_type": "code",
   "execution_count": 30,
   "id": "6f420a67",
   "metadata": {},
   "outputs": [],
   "source": [
    "compare_df = baby_growth_df[(baby_growth_df['gender'] == input_gender) \n",
    "                            & (baby_growth_df['days'] == input_days)]\n",
    "# 생후일수와 성별이 동일한 아이들의 집합 데이터프레임"
   ]
  },
  {
   "cell_type": "code",
   "execution_count": 31,
   "id": "af8a1b9b",
   "metadata": {},
   "outputs": [],
   "source": [
    "height_rank = (compare_df['height'] > input_height).sum() + 1\n",
    "weight_rank = (compare_df['weight'] > input_weight).sum() + 1\n",
    "\n",
    "height_percent = height_rank/len(compare_df)\n",
    "weight_percent = weight_rank/len(compare_df)"
   ]
  },
  {
   "cell_type": "code",
   "execution_count": 32,
   "id": "83612cd3",
   "metadata": {},
   "outputs": [
    {
     "name": "stdout",
     "output_type": "stream",
     "text": [
      "아이의 신장은 상위 0.61% 입니다.\n",
      "아이의 체중은 상위 0.01% 입니다.\n"
     ]
    }
   ],
   "source": [
    "print(\"아이의 신장은 상위 %.2f%% 입니다.\" %height_percent)\n",
    "print(\"아이의 체중은 상위 %.2f%% 입니다.\" %weight_percent)"
   ]
  }
 ],
 "metadata": {
  "kernelspec": {
   "display_name": "Python 3 (ipykernel)",
   "language": "python",
   "name": "python3"
  },
  "language_info": {
   "codemirror_mode": {
    "name": "ipython",
    "version": 3
   },
   "file_extension": ".py",
   "mimetype": "text/x-python",
   "name": "python",
   "nbconvert_exporter": "python",
   "pygments_lexer": "ipython3",
   "version": "3.9.15"
  }
 },
 "nbformat": 4,
 "nbformat_minor": 5
}

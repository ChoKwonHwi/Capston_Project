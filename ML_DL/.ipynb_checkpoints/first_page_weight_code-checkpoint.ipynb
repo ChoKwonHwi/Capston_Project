{
 "cells": [
  {
   "cell_type": "code",
   "execution_count": 42,
   "id": "6c56580b",
   "metadata": {},
   "outputs": [],
   "source": [
    "import ast\n",
    "import warnings\n",
    "import pandas as pd\n",
    "import numpy as np\n",
    "import xgboost as xgb\n",
    "\n",
    "from sklearn.preprocessing import StandardScaler\n",
    "from sklearn.preprocessing import RobustScaler\n",
    "from sklearn.preprocessing import MinMaxScaler\n",
    "from xgboost import XGBRegressor\n",
    "from xgboost import XGBClassifier\n",
    "from sklearn.linear_model import LinearRegression\n",
    "from sklearn.ensemble import GradientBoostingRegressor\n",
    "from sklearn.ensemble import RandomForestRegressor\n",
    "from sklearn.model_selection import train_test_split\n",
    "from sklearn.impute import KNNImputer\n",
    "from sklearn.model_selection import GridSearchCV"
   ]
  },
  {
   "cell_type": "code",
   "execution_count": 43,
   "id": "7f64b583",
   "metadata": {},
   "outputs": [],
   "source": [
    "warnings.simplefilter(action='ignore')\n",
    "pd.set_option('display.max_columns', None)"
   ]
  },
  {
   "cell_type": "code",
   "execution_count": 2,
   "id": "3eaf401e",
   "metadata": {},
   "outputs": [],
   "source": [
    "baby_df = pd.read_csv(\"./babyInfo.csv\")\n",
    "# 데이터 불러오기"
   ]
  },
  {
   "cell_type": "code",
   "execution_count": 3,
   "id": "ce34e2aa",
   "metadata": {},
   "outputs": [],
   "source": [
    "baby_growth_df = baby_df.dropna(subset=['growth','gender']) \n",
    "# growth, gender 결측치 제거"
   ]
  },
  {
   "cell_type": "code",
   "execution_count": 4,
   "id": "753c159e",
   "metadata": {},
   "outputs": [
    {
     "name": "stderr",
     "output_type": "stream",
     "text": [
      "C:\\Users\\82108\\AppData\\Local\\Temp\\ipykernel_7232\\3092223480.py:1: SettingWithCopyWarning: \n",
      "A value is trying to be set on a copy of a slice from a DataFrame.\n",
      "Try using .loc[row_indexer,col_indexer] = value instead\n",
      "\n",
      "See the caveats in the documentation: https://pandas.pydata.org/pandas-docs/stable/user_guide/indexing.html#returning-a-view-versus-a-copy\n",
      "  baby_growth_df['growth'] = baby_growth_df['growth'].apply(ast.literal_eval)\n",
      "C:\\Users\\82108\\AppData\\Local\\Temp\\ipykernel_7232\\3092223480.py:3: SettingWithCopyWarning: \n",
      "A value is trying to be set on a copy of a slice from a DataFrame.\n",
      "Try using .loc[row_indexer,col_indexer] = value instead\n",
      "\n",
      "See the caveats in the documentation: https://pandas.pydata.org/pandas-docs/stable/user_guide/indexing.html#returning-a-view-versus-a-copy\n",
      "  baby_growth_df['height'] = baby_growth_df['growth'].apply(lambda x: x.get('height', {}).get('value', None))\n",
      "C:\\Users\\82108\\AppData\\Local\\Temp\\ipykernel_7232\\3092223480.py:4: SettingWithCopyWarning: \n",
      "A value is trying to be set on a copy of a slice from a DataFrame.\n",
      "Try using .loc[row_indexer,col_indexer] = value instead\n",
      "\n",
      "See the caveats in the documentation: https://pandas.pydata.org/pandas-docs/stable/user_guide/indexing.html#returning-a-view-versus-a-copy\n",
      "  baby_growth_df['weight'] = baby_growth_df['growth'].apply(lambda x: x.get('weight', {}).get('value', None))\n"
     ]
    }
   ],
   "source": [
    "baby_growth_df['growth'] = baby_growth_df['growth'].apply(ast.literal_eval) \n",
    "# 문자열 -> 딕셔너리 형태로 변환\n",
    "baby_growth_df['height'] = baby_growth_df['growth'].apply(lambda x: x.get('height', {}).get('value', None))\n",
    "baby_growth_df['weight'] = baby_growth_df['growth'].apply(lambda x: x.get('weight', {}).get('value', None))"
   ]
  },
  {
   "cell_type": "code",
   "execution_count": 5,
   "id": "8cbe884e",
   "metadata": {},
   "outputs": [
    {
     "data": {
      "text/html": [
       "<div>\n",
       "<style scoped>\n",
       "    .dataframe tbody tr th:only-of-type {\n",
       "        vertical-align: middle;\n",
       "    }\n",
       "\n",
       "    .dataframe tbody tr th {\n",
       "        vertical-align: top;\n",
       "    }\n",
       "\n",
       "    .dataframe thead th {\n",
       "        text-align: right;\n",
       "    }\n",
       "</style>\n",
       "<table border=\"1\" class=\"dataframe\">\n",
       "  <thead>\n",
       "    <tr style=\"text-align: right;\">\n",
       "      <th></th>\n",
       "      <th>_id</th>\n",
       "      <th>days</th>\n",
       "      <th>desc</th>\n",
       "      <th>gender</th>\n",
       "      <th>__v</th>\n",
       "      <th>growth</th>\n",
       "      <th>height</th>\n",
       "      <th>weight</th>\n",
       "    </tr>\n",
       "  </thead>\n",
       "  <tbody>\n",
       "    <tr>\n",
       "      <th>2239</th>\n",
       "      <td>63490ebc4f30a39628aefdc9</td>\n",
       "      <td>19</td>\n",
       "      <td>어찌저찌 어제보다는 오늘 한결 수월하다!\\n그래도 할일은 너무 많고\\n너가 울면 어...</td>\n",
       "      <td>M</td>\n",
       "      <td>0</td>\n",
       "      <td>{'head': {'value': 37, 'unit': 'cm', 'std': 37}}</td>\n",
       "      <td>NaN</td>\n",
       "      <td>NaN</td>\n",
       "    </tr>\n",
       "    <tr>\n",
       "      <th>6393</th>\n",
       "      <td>63a96fee0ec395c9ce32feb3</td>\n",
       "      <td>54</td>\n",
       "      <td>NaN</td>\n",
       "      <td>M</td>\n",
       "      <td>0</td>\n",
       "      <td>{'head': {'value': 39, 'unit': 'cm', 'std': 39}}</td>\n",
       "      <td>NaN</td>\n",
       "      <td>NaN</td>\n",
       "    </tr>\n",
       "    <tr>\n",
       "      <th>9350</th>\n",
       "      <td>6325346f204f507df3e5a1b3</td>\n",
       "      <td>78</td>\n",
       "      <td>78일차 아가 성장표\\n\\n🎀모빌도 좋아하지만 이제는 아기체육관을 더 좋아함\\n🎀잘...</td>\n",
       "      <td>F</td>\n",
       "      <td>0</td>\n",
       "      <td>{'head': {'value': 41, 'unit': 'cm', 'std': 41}}</td>\n",
       "      <td>NaN</td>\n",
       "      <td>NaN</td>\n",
       "    </tr>\n",
       "    <tr>\n",
       "      <th>9414</th>\n",
       "      <td>638bd1daffe5f9567ae18982</td>\n",
       "      <td>79</td>\n",
       "      <td>🤎11시간 통잠 4일차 \\n🤎밤잠 시작 시간을 7:30pm으로 본인이 정한 듯함\\n...</td>\n",
       "      <td>F</td>\n",
       "      <td>0</td>\n",
       "      <td>{'head': {'value': 39, 'unit': 'cm', 'std': 39}}</td>\n",
       "      <td>NaN</td>\n",
       "      <td>NaN</td>\n",
       "    </tr>\n",
       "    <tr>\n",
       "      <th>9920</th>\n",
       "      <td>63639f4e7382e0031c9b5560</td>\n",
       "      <td>83</td>\n",
       "      <td>NaN</td>\n",
       "      <td>M</td>\n",
       "      <td>0</td>\n",
       "      <td>{'head': {'value': 39.6, 'unit': 'cm', 'std': ...</td>\n",
       "      <td>NaN</td>\n",
       "      <td>NaN</td>\n",
       "    </tr>\n",
       "    <tr>\n",
       "      <th>...</th>\n",
       "      <td>...</td>\n",
       "      <td>...</td>\n",
       "      <td>...</td>\n",
       "      <td>...</td>\n",
       "      <td>...</td>\n",
       "      <td>...</td>\n",
       "      <td>...</td>\n",
       "      <td>...</td>\n",
       "    </tr>\n",
       "    <tr>\n",
       "      <th>223985</th>\n",
       "      <td>590c7241b9ede03a5c586eb9</td>\n",
       "      <td>131</td>\n",
       "      <td>NaN</td>\n",
       "      <td>M</td>\n",
       "      <td>0</td>\n",
       "      <td>{'head': {'std': 43, 'value': 43, 'unit': 'cm'}}</td>\n",
       "      <td>NaN</td>\n",
       "      <td>NaN</td>\n",
       "    </tr>\n",
       "    <tr>\n",
       "      <th>224346</th>\n",
       "      <td>61080e04babd662a6282d83c</td>\n",
       "      <td>132</td>\n",
       "      <td>NaN</td>\n",
       "      <td>M</td>\n",
       "      <td>0</td>\n",
       "      <td>{'head': {'value': 42.5, 'unit': 'cm', 'std': ...</td>\n",
       "      <td>NaN</td>\n",
       "      <td>NaN</td>\n",
       "    </tr>\n",
       "    <tr>\n",
       "      <th>225178</th>\n",
       "      <td>59bfb0b41787fa4328598fe9</td>\n",
       "      <td>132</td>\n",
       "      <td>NaN</td>\n",
       "      <td>M</td>\n",
       "      <td>0</td>\n",
       "      <td>{'head': {'unit': 'cm', 'value': 43, 'std': 43}}</td>\n",
       "      <td>NaN</td>\n",
       "      <td>NaN</td>\n",
       "    </tr>\n",
       "    <tr>\n",
       "      <th>226391</th>\n",
       "      <td>5a1cb41c01a81b7476aa0877</td>\n",
       "      <td>133</td>\n",
       "      <td>NaN</td>\n",
       "      <td>M</td>\n",
       "      <td>0</td>\n",
       "      <td>{'head': {'value': 42.9, 'unit': 'cm', 'std': ...</td>\n",
       "      <td>NaN</td>\n",
       "      <td>NaN</td>\n",
       "    </tr>\n",
       "    <tr>\n",
       "      <th>227432</th>\n",
       "      <td>5c7924b0f69662488be8eea4</td>\n",
       "      <td>134</td>\n",
       "      <td>누워서 낮잠도 예쁘게 잘자고 잘놀고 이쁜짓을 많이 해서 할아버지가 하루종일 이쁘다고...</td>\n",
       "      <td>F</td>\n",
       "      <td>0</td>\n",
       "      <td>{'head': {'std': 42, 'value': 42, 'unit': 'cm'}}</td>\n",
       "      <td>NaN</td>\n",
       "      <td>NaN</td>\n",
       "    </tr>\n",
       "  </tbody>\n",
       "</table>\n",
       "<p>219 rows × 8 columns</p>\n",
       "</div>"
      ],
      "text/plain": [
       "                             _id  days  \\\n",
       "2239    63490ebc4f30a39628aefdc9    19   \n",
       "6393    63a96fee0ec395c9ce32feb3    54   \n",
       "9350    6325346f204f507df3e5a1b3    78   \n",
       "9414    638bd1daffe5f9567ae18982    79   \n",
       "9920    63639f4e7382e0031c9b5560    83   \n",
       "...                          ...   ...   \n",
       "223985  590c7241b9ede03a5c586eb9   131   \n",
       "224346  61080e04babd662a6282d83c   132   \n",
       "225178  59bfb0b41787fa4328598fe9   132   \n",
       "226391  5a1cb41c01a81b7476aa0877   133   \n",
       "227432  5c7924b0f69662488be8eea4   134   \n",
       "\n",
       "                                                     desc gender  __v  \\\n",
       "2239    어찌저찌 어제보다는 오늘 한결 수월하다!\\n그래도 할일은 너무 많고\\n너가 울면 어...      M    0   \n",
       "6393                                                  NaN      M    0   \n",
       "9350    78일차 아가 성장표\\n\\n🎀모빌도 좋아하지만 이제는 아기체육관을 더 좋아함\\n🎀잘...      F    0   \n",
       "9414    🤎11시간 통잠 4일차 \\n🤎밤잠 시작 시간을 7:30pm으로 본인이 정한 듯함\\n...      F    0   \n",
       "9920                                                  NaN      M    0   \n",
       "...                                                   ...    ...  ...   \n",
       "223985                                                NaN      M    0   \n",
       "224346                                                NaN      M    0   \n",
       "225178                                                NaN      M    0   \n",
       "226391                                                NaN      M    0   \n",
       "227432  누워서 낮잠도 예쁘게 잘자고 잘놀고 이쁜짓을 많이 해서 할아버지가 하루종일 이쁘다고...      F    0   \n",
       "\n",
       "                                                   growth  height  weight  \n",
       "2239     {'head': {'value': 37, 'unit': 'cm', 'std': 37}}     NaN     NaN  \n",
       "6393     {'head': {'value': 39, 'unit': 'cm', 'std': 39}}     NaN     NaN  \n",
       "9350     {'head': {'value': 41, 'unit': 'cm', 'std': 41}}     NaN     NaN  \n",
       "9414     {'head': {'value': 39, 'unit': 'cm', 'std': 39}}     NaN     NaN  \n",
       "9920    {'head': {'value': 39.6, 'unit': 'cm', 'std': ...     NaN     NaN  \n",
       "...                                                   ...     ...     ...  \n",
       "223985   {'head': {'std': 43, 'value': 43, 'unit': 'cm'}}     NaN     NaN  \n",
       "224346  {'head': {'value': 42.5, 'unit': 'cm', 'std': ...     NaN     NaN  \n",
       "225178   {'head': {'unit': 'cm', 'value': 43, 'std': 43}}     NaN     NaN  \n",
       "226391  {'head': {'value': 42.9, 'unit': 'cm', 'std': ...     NaN     NaN  \n",
       "227432   {'head': {'std': 42, 'value': 42, 'unit': 'cm'}}     NaN     NaN  \n",
       "\n",
       "[219 rows x 8 columns]"
      ]
     },
     "execution_count": 5,
     "metadata": {},
     "output_type": "execute_result"
    }
   ],
   "source": [
    "baby_growth_df[baby_growth_df['weight'].isna() & baby_growth_df['height'].isna()] \n",
    "# height,weight 둘 다 결측치인 행 확인"
   ]
  },
  {
   "cell_type": "code",
   "execution_count": 6,
   "id": "5a538e12",
   "metadata": {},
   "outputs": [],
   "source": [
    "baby_growth_df = baby_growth_df.dropna(axis='index', how='all', subset=['height','weight']) \n",
    "# 둘 다 결측치인 행 제거"
   ]
  },
  {
   "cell_type": "code",
   "execution_count": 7,
   "id": "d75e4a55",
   "metadata": {},
   "outputs": [],
   "source": [
    "baby_growth_df = baby_growth_df[baby_growth_df['gender'] != 'U'] \n",
    "# 성별이 Unknown인 행 삭제"
   ]
  },
  {
   "cell_type": "code",
   "execution_count": 8,
   "id": "f38f84fb",
   "metadata": {},
   "outputs": [],
   "source": [
    "# 'gender' column 추출\n",
    "gender = baby_growth_df['gender']\n",
    "\n",
    "# 'gender' column을 one-hot 인코딩하여 새로운 데이터프레임 생성\n",
    "gender_onehot = pd.get_dummies(gender, prefix='gender')\n",
    "\n",
    "# 원래 데이터프레임과 합치기\n",
    "baby_growth_df = pd.concat([baby_growth_df, gender_onehot], axis=1)\n",
    "\n",
    "# 'gender' column 삭제\n",
    "baby_growth_df = baby_growth_df.drop('gender', axis=1)"
   ]
  },
  {
   "cell_type": "code",
   "execution_count": 9,
   "id": "e6c57abb",
   "metadata": {},
   "outputs": [],
   "source": [
    "baby_growth_df.sort_values(by='days', inplace=True) # 생후 개월 수로 오름차순 정렬"
   ]
  },
  {
   "cell_type": "code",
   "execution_count": 10,
   "id": "b0ded8e9",
   "metadata": {},
   "outputs": [],
   "source": [
    "baby_growth_df['days'] = pd.to_numeric(baby_growth_df['days'])"
   ]
  },
  {
   "cell_type": "code",
   "execution_count": 11,
   "id": "91145bea",
   "metadata": {},
   "outputs": [],
   "source": [
    "male_df = baby_growth_df[baby_growth_df['gender_M']==1].copy()\n",
    "female_df = baby_growth_df[baby_growth_df['gender_F']==1].copy()"
   ]
  },
  {
   "cell_type": "code",
   "execution_count": 12,
   "id": "79b92ad8",
   "metadata": {},
   "outputs": [],
   "source": [
    "male_df.drop(['gender_F'], axis=1, inplace=True)"
   ]
  },
  {
   "cell_type": "code",
   "execution_count": 13,
   "id": "2d431e82",
   "metadata": {},
   "outputs": [],
   "source": [
    "female_df.drop(['gender_M'], axis=1, inplace=True)"
   ]
  },
  {
   "cell_type": "markdown",
   "id": "1ee4ed89",
   "metadata": {},
   "source": [
    "## 결측치 처리 - KNNImputer"
   ]
  },
  {
   "cell_type": "code",
   "execution_count": 14,
   "id": "a95fceb4",
   "metadata": {},
   "outputs": [],
   "source": [
    "#imputer = KNNImputer(n_neighbors=5)"
   ]
  },
  {
   "cell_type": "code",
   "execution_count": 15,
   "id": "53eb0e41",
   "metadata": {},
   "outputs": [
    {
     "data": {
      "text/plain": [
       "\"\\nmale_df_height = male_df['height'].values.reshape(-1, 1)\\nimputed_male_df_height = imputer.fit_transform(male_df_height)\\nmale_df['height'] = imputed_male_df_height\\n\\n# female_df에서 height 칼럼의 결측치 처리\\nfemale_df_height = female_df['height'].values.reshape(-1, 1)\\nimputed_female_df_height = imputer.fit_transform(female_df_height)\\nfemale_df['height'] = imputed_female_df_height\\n\""
      ]
     },
     "execution_count": 15,
     "metadata": {},
     "output_type": "execute_result"
    }
   ],
   "source": [
    "# male_df에서 height 칼럼의 결측치 처리\n",
    "\"\"\"\n",
    "male_df_height = male_df['height'].values.reshape(-1, 1)\n",
    "imputed_male_df_height = imputer.fit_transform(male_df_height)\n",
    "male_df['height'] = imputed_male_df_height\n",
    "\n",
    "# female_df에서 height 칼럼의 결측치 처리\n",
    "female_df_height = female_df['height'].values.reshape(-1, 1)\n",
    "imputed_female_df_height = imputer.fit_transform(female_df_height)\n",
    "female_df['height'] = imputed_female_df_height\n",
    "\"\"\""
   ]
  },
  {
   "cell_type": "code",
   "execution_count": 16,
   "id": "19c08b88",
   "metadata": {},
   "outputs": [
    {
     "data": {
      "text/plain": [
       "\"# male_df에서 weight 칼럼의 결측치 처리\\nmale_df_weight = male_df['weight'].values.reshape(-1, 1)\\nimputed_male_df_weight = imputer.fit_transform(male_df_weight)\\nmale_df['weight'] = imputed_male_df_weight\\n\\n# female_df에서 weight 칼럼의 결측치 처리\\nfemale_df_weight = female_df['weight'].values.reshape(-1, 1)\\nimputed_female_df_weight = imputer.fit_transform(female_df_height)\\nfemale_df['weight'] = imputed_female_df_weight\""
      ]
     },
     "execution_count": 16,
     "metadata": {},
     "output_type": "execute_result"
    }
   ],
   "source": [
    "\"\"\"# male_df에서 weight 칼럼의 결측치 처리\n",
    "male_df_weight = male_df['weight'].values.reshape(-1, 1)\n",
    "imputed_male_df_weight = imputer.fit_transform(male_df_weight)\n",
    "male_df['weight'] = imputed_male_df_weight\n",
    "\n",
    "# female_df에서 weight 칼럼의 결측치 처리\n",
    "female_df_weight = female_df['weight'].values.reshape(-1, 1)\n",
    "imputed_female_df_weight = imputer.fit_transform(female_df_height)\n",
    "female_df['weight'] = imputed_female_df_weight\"\"\""
   ]
  },
  {
   "cell_type": "code",
   "execution_count": 17,
   "id": "bc07c095",
   "metadata": {},
   "outputs": [],
   "source": [
    "male_df['height'] = male_df.groupby('days')['height'].transform(lambda x: x.fillna(x.median()))\n",
    "male_df['weight'] = male_df.groupby('days')['weight'].transform(lambda x: x.fillna(x.median()))\n",
    "female_df['height'] = female_df.groupby('days')['height'].transform(lambda x: x.fillna(x.median()))\n",
    "female_df['weight'] = female_df.groupby('days')['weight'].transform(lambda x: x.fillna(x.median()))"
   ]
  },
  {
   "cell_type": "code",
   "execution_count": 18,
   "id": "68040bb7",
   "metadata": {},
   "outputs": [],
   "source": [
    "# 이상치 제거 함수\n",
    "def remove_outliers(df, col):\n",
    "    q1 = df[col].quantile(0.25)\n",
    "    q3 = df[col].quantile(0.75)\n",
    "    iqr = q3 - q1\n",
    "    lower_bound = q1 - 1.5*iqr\n",
    "    upper_bound = q3 + 1.5*iqr\n",
    "    df = df.loc[(df[col] >= lower_bound) & (df[col] <= upper_bound)]\n",
    "    return df"
   ]
  },
  {
   "cell_type": "code",
   "execution_count": 19,
   "id": "66f58c44",
   "metadata": {},
   "outputs": [],
   "source": [
    "# 남성 생후 일 수 별로 그룹화\n",
    "grouped_male = male_df.groupby('days')\n",
    "\n",
    "# 각 생후 일 수별로 이상치 제거된 데이터프레임을 저장할 빈 데이터프레임 생성\n",
    "cleaned_df_male = pd.DataFrame(columns=male_df.columns)\n",
    "\n",
    "# 생후 일 수(days)별로 이상치 제거된 데이터를 cleaned_df_male에 추가\n",
    "for name, group in grouped_male:\n",
    "    group = remove_outliers(group, 'height')\n",
    "    group = remove_outliers(group, 'weight')\n",
    "    cleaned_df_male = pd.concat([cleaned_df_male, group])\n"
   ]
  },
  {
   "cell_type": "code",
   "execution_count": 20,
   "id": "f7875fbd",
   "metadata": {},
   "outputs": [],
   "source": [
    "# 여성 생후 일 수 별로 그룹화\n",
    "grouped_female = female_df.groupby('days')\n",
    "\n",
    "# 각 생후 일 수별로 이상치 제거된 데이터프레임을 저장할 빈 데이터프레임 생성\n",
    "cleaned_df_female = pd.DataFrame(columns=female_df.columns)\n",
    "\n",
    "# 생후 일 수(days)별로 이상치 제거된 데이터를 cleaned_df_female에 추가\n",
    "for name, group in grouped_female:\n",
    "    group = remove_outliers(group, 'height')\n",
    "    group = remove_outliers(group, 'weight')\n",
    "    cleaned_df_female = pd.concat([cleaned_df_female, group])\n"
   ]
  },
  {
   "cell_type": "code",
   "execution_count": 21,
   "id": "d6607821",
   "metadata": {},
   "outputs": [],
   "source": [
    "baby_growth_df = pd.concat([cleaned_df_male, cleaned_df_female], ignore_index=True)"
   ]
  },
  {
   "cell_type": "code",
   "execution_count": 22,
   "id": "f0152d3e",
   "metadata": {},
   "outputs": [],
   "source": [
    "baby_growth_df['gender_F'].fillna(0, inplace=True)\n",
    "baby_growth_df['gender_M'].fillna(0, inplace=True)"
   ]
  },
  {
   "cell_type": "code",
   "execution_count": 23,
   "id": "e73e1d7e",
   "metadata": {},
   "outputs": [],
   "source": [
    "baby_growth_df['gender'] = 0\n",
    "baby_growth_df.loc[baby_growth_df['gender_M'] == True, 'gender'] = 1"
   ]
  },
  {
   "cell_type": "code",
   "execution_count": 24,
   "id": "ecd2c043",
   "metadata": {},
   "outputs": [],
   "source": [
    "baby_growth_df.drop(['gender_M', 'gender_F'], axis = 1, inplace = True)"
   ]
  },
  {
   "cell_type": "code",
   "execution_count": 25,
   "id": "3de17694",
   "metadata": {},
   "outputs": [
    {
     "data": {
      "text/html": [
       "<div>\n",
       "<style scoped>\n",
       "    .dataframe tbody tr th:only-of-type {\n",
       "        vertical-align: middle;\n",
       "    }\n",
       "\n",
       "    .dataframe tbody tr th {\n",
       "        vertical-align: top;\n",
       "    }\n",
       "\n",
       "    .dataframe thead th {\n",
       "        text-align: right;\n",
       "    }\n",
       "</style>\n",
       "<table border=\"1\" class=\"dataframe\">\n",
       "  <thead>\n",
       "    <tr style=\"text-align: right;\">\n",
       "      <th></th>\n",
       "      <th>_id</th>\n",
       "      <th>days</th>\n",
       "      <th>desc</th>\n",
       "      <th>__v</th>\n",
       "      <th>growth</th>\n",
       "      <th>height</th>\n",
       "      <th>weight</th>\n",
       "      <th>gender</th>\n",
       "    </tr>\n",
       "  </thead>\n",
       "  <tbody>\n",
       "    <tr>\n",
       "      <th>0</th>\n",
       "      <td>5ab0230abbd2ac53661aaa2a</td>\n",
       "      <td>0</td>\n",
       "      <td>NaN</td>\n",
       "      <td>0</td>\n",
       "      <td>{'weight': {'unit': 'kg', 'value': 3.78, 'std'...</td>\n",
       "      <td>52.0</td>\n",
       "      <td>3.78</td>\n",
       "      <td>1</td>\n",
       "    </tr>\n",
       "    <tr>\n",
       "      <th>1</th>\n",
       "      <td>5ab023294ba8ac623954eec1</td>\n",
       "      <td>0</td>\n",
       "      <td>청각검사 정상</td>\n",
       "      <td>0</td>\n",
       "      <td>{'weight': {'unit': 'kg', 'std': 3.78, 'value'...</td>\n",
       "      <td>52.0</td>\n",
       "      <td>3.78</td>\n",
       "      <td>1</td>\n",
       "    </tr>\n",
       "    <tr>\n",
       "      <th>2</th>\n",
       "      <td>58e81abdaa513c73561e5b40</td>\n",
       "      <td>0</td>\n",
       "      <td>NaN</td>\n",
       "      <td>0</td>\n",
       "      <td>{'weight': {'std': 3.2, 'unit': 'kg', 'value':...</td>\n",
       "      <td>50.0</td>\n",
       "      <td>3.20</td>\n",
       "      <td>1</td>\n",
       "    </tr>\n",
       "    <tr>\n",
       "      <th>3</th>\n",
       "      <td>5bcba32fb9ede04f165f3ffd</td>\n",
       "      <td>1</td>\n",
       "      <td>NaN</td>\n",
       "      <td>0</td>\n",
       "      <td>{'weight': {'unit': 'kg', 'std': 2.45, 'value'...</td>\n",
       "      <td>51.0</td>\n",
       "      <td>2.45</td>\n",
       "      <td>1</td>\n",
       "    </tr>\n",
       "    <tr>\n",
       "      <th>4</th>\n",
       "      <td>5bc8208036373c1537505616</td>\n",
       "      <td>1</td>\n",
       "      <td>기쁨이가 태어났어요!!\\n\\n이틀 전부터 진통이 왔는데 5분주기의 짧은 진통은\\n안...</td>\n",
       "      <td>0</td>\n",
       "      <td>{'height': {'std': 50, 'unit': 'cm', 'value': ...</td>\n",
       "      <td>50.0</td>\n",
       "      <td>2.80</td>\n",
       "      <td>1</td>\n",
       "    </tr>\n",
       "    <tr>\n",
       "      <th>...</th>\n",
       "      <td>...</td>\n",
       "      <td>...</td>\n",
       "      <td>...</td>\n",
       "      <td>...</td>\n",
       "      <td>...</td>\n",
       "      <td>...</td>\n",
       "      <td>...</td>\n",
       "      <td>...</td>\n",
       "    </tr>\n",
       "    <tr>\n",
       "      <th>79344</th>\n",
       "      <td>6272a1c3e0ff637706e8a345</td>\n",
       "      <td>365</td>\n",
       "      <td>NaN</td>\n",
       "      <td>0</td>\n",
       "      <td>{'weight': {'value': 9.6, 'unit': 'kg', 'std':...</td>\n",
       "      <td>74.6</td>\n",
       "      <td>9.60</td>\n",
       "      <td>0</td>\n",
       "    </tr>\n",
       "    <tr>\n",
       "      <th>79345</th>\n",
       "      <td>6225ee63f67e6cf242486ac2</td>\n",
       "      <td>365</td>\n",
       "      <td>어제 돌잔치를 무사히 끝내고 내일이면 우리 연서의 첫 생일 이구나.. 뱃속 10달,...</td>\n",
       "      <td>0</td>\n",
       "      <td>{'weight': {'value': 8.6, 'unit': 'kg', 'std':...</td>\n",
       "      <td>74.6</td>\n",
       "      <td>8.60</td>\n",
       "      <td>0</td>\n",
       "    </tr>\n",
       "    <tr>\n",
       "      <th>79346</th>\n",
       "      <td>61768ecf383ebb9ee23d044d</td>\n",
       "      <td>365</td>\n",
       "      <td>NaN</td>\n",
       "      <td>0</td>\n",
       "      <td>{'weight': {'value': 9.4, 'unit': 'kg', 'std':...</td>\n",
       "      <td>74.6</td>\n",
       "      <td>9.40</td>\n",
       "      <td>0</td>\n",
       "    </tr>\n",
       "    <tr>\n",
       "      <th>79347</th>\n",
       "      <td>60e7cd722f0e2f96d8e1b099</td>\n",
       "      <td>365</td>\n",
       "      <td>젖병떼기 연습.\\n빨대컵에 분유주기 시작.</td>\n",
       "      <td>0</td>\n",
       "      <td>{'weight': {'value': 9.4, 'unit': 'kg', 'std':...</td>\n",
       "      <td>74.6</td>\n",
       "      <td>9.40</td>\n",
       "      <td>0</td>\n",
       "    </tr>\n",
       "    <tr>\n",
       "      <th>79348</th>\n",
       "      <td>5e4fdd2bbf7c2d77972da014</td>\n",
       "      <td>365</td>\n",
       "      <td>쪽쪽이 끊기 1일차\\n\\n낮잠 2번 잘잠\\n\\n밤잠 울진않고 손빨거나 쪽쪽이 빠는행...</td>\n",
       "      <td>0</td>\n",
       "      <td>{'weight': {'value': 8.2, 'unit': 'kg', 'std':...</td>\n",
       "      <td>74.6</td>\n",
       "      <td>8.20</td>\n",
       "      <td>0</td>\n",
       "    </tr>\n",
       "  </tbody>\n",
       "</table>\n",
       "<p>79349 rows × 8 columns</p>\n",
       "</div>"
      ],
      "text/plain": [
       "                            _id days  \\\n",
       "0      5ab0230abbd2ac53661aaa2a    0   \n",
       "1      5ab023294ba8ac623954eec1    0   \n",
       "2      58e81abdaa513c73561e5b40    0   \n",
       "3      5bcba32fb9ede04f165f3ffd    1   \n",
       "4      5bc8208036373c1537505616    1   \n",
       "...                         ...  ...   \n",
       "79344  6272a1c3e0ff637706e8a345  365   \n",
       "79345  6225ee63f67e6cf242486ac2  365   \n",
       "79346  61768ecf383ebb9ee23d044d  365   \n",
       "79347  60e7cd722f0e2f96d8e1b099  365   \n",
       "79348  5e4fdd2bbf7c2d77972da014  365   \n",
       "\n",
       "                                                    desc __v  \\\n",
       "0                                                    NaN   0   \n",
       "1                                                청각검사 정상   0   \n",
       "2                                                    NaN   0   \n",
       "3                                                    NaN   0   \n",
       "4      기쁨이가 태어났어요!!\\n\\n이틀 전부터 진통이 왔는데 5분주기의 짧은 진통은\\n안...   0   \n",
       "...                                                  ...  ..   \n",
       "79344                                                NaN   0   \n",
       "79345  어제 돌잔치를 무사히 끝내고 내일이면 우리 연서의 첫 생일 이구나.. 뱃속 10달,...   0   \n",
       "79346                                                NaN   0   \n",
       "79347                            젖병떼기 연습.\\n빨대컵에 분유주기 시작.   0   \n",
       "79348  쪽쪽이 끊기 1일차\\n\\n낮잠 2번 잘잠\\n\\n밤잠 울진않고 손빨거나 쪽쪽이 빠는행...   0   \n",
       "\n",
       "                                                  growth  height  weight  \\\n",
       "0      {'weight': {'unit': 'kg', 'value': 3.78, 'std'...    52.0    3.78   \n",
       "1      {'weight': {'unit': 'kg', 'std': 3.78, 'value'...    52.0    3.78   \n",
       "2      {'weight': {'std': 3.2, 'unit': 'kg', 'value':...    50.0    3.20   \n",
       "3      {'weight': {'unit': 'kg', 'std': 2.45, 'value'...    51.0    2.45   \n",
       "4      {'height': {'std': 50, 'unit': 'cm', 'value': ...    50.0    2.80   \n",
       "...                                                  ...     ...     ...   \n",
       "79344  {'weight': {'value': 9.6, 'unit': 'kg', 'std':...    74.6    9.60   \n",
       "79345  {'weight': {'value': 8.6, 'unit': 'kg', 'std':...    74.6    8.60   \n",
       "79346  {'weight': {'value': 9.4, 'unit': 'kg', 'std':...    74.6    9.40   \n",
       "79347  {'weight': {'value': 9.4, 'unit': 'kg', 'std':...    74.6    9.40   \n",
       "79348  {'weight': {'value': 8.2, 'unit': 'kg', 'std':...    74.6    8.20   \n",
       "\n",
       "       gender  \n",
       "0           1  \n",
       "1           1  \n",
       "2           1  \n",
       "3           1  \n",
       "4           1  \n",
       "...       ...  \n",
       "79344       0  \n",
       "79345       0  \n",
       "79346       0  \n",
       "79347       0  \n",
       "79348       0  \n",
       "\n",
       "[79349 rows x 8 columns]"
      ]
     },
     "execution_count": 25,
     "metadata": {},
     "output_type": "execute_result"
    }
   ],
   "source": [
    "baby_growth_df"
   ]
  },
  {
   "cell_type": "markdown",
   "id": "b85a2865",
   "metadata": {},
   "source": [
    "## 체중 예측 모델"
   ]
  },
  {
   "cell_type": "code",
   "execution_count": 26,
   "id": "2ca4cc81",
   "metadata": {},
   "outputs": [
    {
     "name": "stdout",
     "output_type": "stream",
     "text": [
      "0.0, 40.0, 60.0, 6.0\n"
     ]
    }
   ],
   "source": [
    "input_gender, input_days, input_height, input_weight = map(float, input().split(','))"
   ]
  },
  {
   "cell_type": "code",
   "execution_count": 27,
   "id": "6f420a67",
   "metadata": {},
   "outputs": [],
   "source": [
    "y_target = baby_growth_df['weight']\n",
    "x_data = baby_growth_df.drop(['_id', 'desc', '__v', 'growth', 'weight', 'height'], axis = 1)"
   ]
  },
  {
   "cell_type": "code",
   "execution_count": 28,
   "id": "af8a1b9b",
   "metadata": {},
   "outputs": [],
   "source": [
    "x_train, x_test, y_train, y_test = train_test_split(x_data, y_target, test_size = 0.2, stratify = x_data['gender'], random_state=42)"
   ]
  },
  {
   "cell_type": "code",
   "execution_count": 29,
   "id": "7015d7dd",
   "metadata": {},
   "outputs": [
    {
     "name": "stdout",
     "output_type": "stream",
     "text": [
      "(63479, 2) (15870, 2) (63479,) (15870,)\n"
     ]
    }
   ],
   "source": [
    "print(x_train.shape, x_test.shape, y_train.shape, y_test.shape)"
   ]
  },
  {
   "cell_type": "code",
   "execution_count": 30,
   "id": "c7c3603d",
   "metadata": {},
   "outputs": [],
   "source": [
    "x_data = x_data.astype({'days' : 'int'})"
   ]
  },
  {
   "cell_type": "markdown",
   "id": "cfce3db5",
   "metadata": {},
   "source": [
    "## RandomForestRegressor"
   ]
  },
  {
   "cell_type": "code",
   "execution_count": 31,
   "id": "009b87b7",
   "metadata": {},
   "outputs": [
    {
     "name": "stdout",
     "output_type": "stream",
     "text": [
      "최적 하이퍼 파라미터:  {'max_depth': 8, 'min_samples_leaf': 4, 'min_samples_split': 8, 'n_estimators': 50}\n",
      "최고 예측 정확도: 0.8890\n"
     ]
    }
   ],
   "source": [
    "params ={\n",
    "    'n_estimators':[50, 100, 300, 500],\n",
    "    'max_depth':[8, 12, 16],\n",
    "    'min_samples_leaf':[4, 8, 12],\n",
    "    'min_samples_split':[4, 8, 12]\n",
    "}\n",
    "\n",
    "rf_model = RandomForestRegressor()\n",
    "grid_cv = GridSearchCV(rf_model, param_grid=params, cv=2, n_jobs=-1)\n",
    "grid_cv.fit(x_train,y_train)\n",
    "\n",
    "print('최적 하이퍼 파라미터: ', grid_cv.best_params_)\n",
    "print('최고 예측 정확도: {:.4f}'.format(grid_cv.best_score_))"
   ]
  },
  {
   "cell_type": "code",
   "execution_count": 32,
   "id": "0d22af26",
   "metadata": {},
   "outputs": [
    {
     "name": "stdout",
     "output_type": "stream",
     "text": [
      "훈련 세트 정확도: 0.891\n",
      "테스트 세트 정확도: 0.888\n",
      "OOB 샘플의 정확도: 0.890\n"
     ]
    }
   ],
   "source": [
    "# 모델 학습\n",
    "rf_model = RandomForestRegressor(n_estimators = 50, max_depth = 8, min_samples_leaf = 4, min_samples_split = 8, random_state=42, oob_score=True)\n",
    "rf_model.fit(x_train, y_train)\n",
    "\n",
    "pred = rf_model.predict(x_test)\n",
    "\n",
    "# 평가\n",
    "print(\"훈련 세트 정확도: {:.3f}\".format(rf_model.score(x_train, y_train)))\n",
    "print(\"테스트 세트 정확도: {:.3f}\".format(rf_model.score(x_test, y_test)))\n",
    "print(\"OOB 샘플의 정확도: {:.3f}\".format(rf_model.oob_score_))"
   ]
  },
  {
   "cell_type": "markdown",
   "id": "44ccee88",
   "metadata": {},
   "source": [
    "## LinearRegressor"
   ]
  },
  {
   "cell_type": "code",
   "execution_count": 33,
   "id": "921d65a7",
   "metadata": {},
   "outputs": [
    {
     "name": "stdout",
     "output_type": "stream",
     "text": [
      "훈련 세트 정확도: 0.792\n",
      "테스트 세트 정확도: 0.791\n"
     ]
    }
   ],
   "source": [
    "lr_model = LinearRegression()\n",
    "\n",
    "lr_model.fit(x_train, y_train)\n",
    "lr_model.score(x_test, y_test)\n",
    "\n",
    "print(\"훈련 세트 정확도: {:.3f}\".format(lr_model.score(x_train, y_train)))\n",
    "print(\"테스트 세트 정확도: {:.3f}\".format(lr_model.score(x_test, y_test)))"
   ]
  },
  {
   "cell_type": "markdown",
   "id": "f4f6e9d0",
   "metadata": {},
   "source": [
    "## GradientBoostingRegressor"
   ]
  },
  {
   "cell_type": "code",
   "execution_count": 34,
   "id": "121597f1",
   "metadata": {},
   "outputs": [
    {
     "name": "stdout",
     "output_type": "stream",
     "text": [
      "훈련 세트 정확도: 0.891\n",
      "테스트 세트 정확도: 0.888\n"
     ]
    }
   ],
   "source": [
    "gbr_model = GradientBoostingRegressor()\n",
    "\n",
    "gbr_model.fit(x_train, y_train)\n",
    "\n",
    "# 평가\n",
    "print(\"훈련 세트 정확도: {:.3f}\".format(gbr_model.score(x_train, y_train)))\n",
    "print(\"테스트 세트 정확도: {:.3f}\".format(gbr_model.score(x_test, y_test)))"
   ]
  },
  {
   "cell_type": "code",
   "execution_count": 35,
   "id": "4eb08c8d",
   "metadata": {},
   "outputs": [
    {
     "name": "stderr",
     "output_type": "stream",
     "text": [
      "C:\\Users\\82108\\anaconda3\\lib\\site-packages\\sklearn\\base.py:450: UserWarning: X does not have valid feature names, but GradientBoostingRegressor was fitted with feature names\n",
      "  warnings.warn(\n"
     ]
    },
    {
     "data": {
      "text/plain": [
       "array([5.69340705])"
      ]
     },
     "execution_count": 35,
     "metadata": {},
     "output_type": "execute_result"
    }
   ],
   "source": [
    "gbr_model.predict(np.array([input_days+30, input_gender]).reshape(1, -1))"
   ]
  },
  {
   "cell_type": "code",
   "execution_count": 54,
   "id": "69654a2b",
   "metadata": {},
   "outputs": [],
   "source": [
    "graph = []\n",
    "for i in range(1, 181) :\n",
    "    graph.append(round(gbr_model.predict(np.array([input_days + i, input_gender]).reshape(1, -1))[0], 2))"
   ]
  },
  {
   "cell_type": "code",
   "execution_count": 55,
   "id": "81e1549e",
   "metadata": {},
   "outputs": [
    {
     "data": {
      "text/plain": [
       "[4.76,\n",
       " 4.81,\n",
       " 4.83,\n",
       " 4.9,\n",
       " 4.97,\n",
       " 4.98,\n",
       " 5.0,\n",
       " 5.0,\n",
       " 5.03,\n",
       " 5.1,\n",
       " 5.12,\n",
       " 5.16,\n",
       " 5.19,\n",
       " 5.23,\n",
       " 5.28,\n",
       " 5.28,\n",
       " 5.31,\n",
       " 5.31,\n",
       " 5.39,\n",
       " 5.39,\n",
       " 5.47,\n",
       " 5.48,\n",
       " 5.56,\n",
       " 5.57,\n",
       " 5.57,\n",
       " 5.6,\n",
       " 5.6,\n",
       " 5.67,\n",
       " 5.67,\n",
       " 5.69,\n",
       " 5.69,\n",
       " 5.76,\n",
       " 5.77,\n",
       " 5.77,\n",
       " 5.83,\n",
       " 5.89,\n",
       " 5.89,\n",
       " 5.96,\n",
       " 6.0,\n",
       " 6.0,\n",
       " 5.99,\n",
       " 5.99,\n",
       " 6.08,\n",
       " 6.11,\n",
       " 6.15,\n",
       " 6.18,\n",
       " 6.22,\n",
       " 6.22,\n",
       " 6.22,\n",
       " 6.29,\n",
       " 6.29,\n",
       " 6.33,\n",
       " 6.33,\n",
       " 6.33,\n",
       " 6.35,\n",
       " 6.35,\n",
       " 6.46,\n",
       " 6.46,\n",
       " 6.5,\n",
       " 6.5,\n",
       " 6.5,\n",
       " 6.58,\n",
       " 6.58,\n",
       " 6.65,\n",
       " 6.65,\n",
       " 6.65,\n",
       " 6.65,\n",
       " 6.65,\n",
       " 6.66,\n",
       " 6.76,\n",
       " 6.76,\n",
       " 6.76,\n",
       " 6.76,\n",
       " 6.76,\n",
       " 6.76,\n",
       " 6.82,\n",
       " 6.89,\n",
       " 6.89,\n",
       " 6.97,\n",
       " 6.97,\n",
       " 6.97,\n",
       " 7.0,\n",
       " 7.04,\n",
       " 7.04,\n",
       " 7.04,\n",
       " 7.04,\n",
       " 7.04,\n",
       " 7.09,\n",
       " 7.14,\n",
       " 7.14,\n",
       " 7.15,\n",
       " 7.15,\n",
       " 7.19,\n",
       " 7.19,\n",
       " 7.19,\n",
       " 7.19,\n",
       " 7.2,\n",
       " 7.2,\n",
       " 7.2,\n",
       " 7.2,\n",
       " 7.2,\n",
       " 7.2,\n",
       " 7.25,\n",
       " 7.25,\n",
       " 7.41,\n",
       " 7.41,\n",
       " 7.42,\n",
       " 7.42,\n",
       " 7.42,\n",
       " 7.42,\n",
       " 7.48,\n",
       " 7.48,\n",
       " 7.48,\n",
       " 7.48,\n",
       " 7.51,\n",
       " 7.51,\n",
       " 7.47,\n",
       " 7.49,\n",
       " 7.49,\n",
       " 7.49,\n",
       " 7.49,\n",
       " 7.49,\n",
       " 7.6,\n",
       " 7.6,\n",
       " 7.6,\n",
       " 7.6,\n",
       " 7.74,\n",
       " 7.85,\n",
       " 7.85,\n",
       " 7.85,\n",
       " 7.85,\n",
       " 7.85,\n",
       " 7.85,\n",
       " 7.85,\n",
       " 7.85,\n",
       " 7.85,\n",
       " 7.85,\n",
       " 7.85,\n",
       " 7.85,\n",
       " 7.85,\n",
       " 7.95,\n",
       " 7.95,\n",
       " 7.95,\n",
       " 8.02,\n",
       " 8.02,\n",
       " 8.02,\n",
       " 8.02,\n",
       " 8.02,\n",
       " 8.17,\n",
       " 8.17,\n",
       " 8.17,\n",
       " 8.17,\n",
       " 8.17,\n",
       " 8.17,\n",
       " 8.17,\n",
       " 8.21,\n",
       " 8.21,\n",
       " 8.21,\n",
       " 8.21,\n",
       " 8.21,\n",
       " 8.21,\n",
       " 8.25,\n",
       " 8.25,\n",
       " 8.25,\n",
       " 8.25,\n",
       " 8.25,\n",
       " 8.25,\n",
       " 8.32,\n",
       " 8.32,\n",
       " 8.4,\n",
       " 8.36,\n",
       " 8.37,\n",
       " 8.37,\n",
       " 8.37,\n",
       " 8.42,\n",
       " 8.43,\n",
       " 8.42,\n",
       " 8.4,\n",
       " 8.4,\n",
       " 8.4]"
      ]
     },
     "execution_count": 55,
     "metadata": {},
     "output_type": "execute_result"
    }
   ],
   "source": [
    "graph"
   ]
  },
  {
   "cell_type": "code",
   "execution_count": null,
   "id": "3d8bd409",
   "metadata": {},
   "outputs": [],
   "source": []
  }
 ],
 "metadata": {
  "kernelspec": {
   "display_name": "Python 3 (ipykernel)",
   "language": "python",
   "name": "python3"
  },
  "language_info": {
   "codemirror_mode": {
    "name": "ipython",
    "version": 3
   },
   "file_extension": ".py",
   "mimetype": "text/x-python",
   "name": "python",
   "nbconvert_exporter": "python",
   "pygments_lexer": "ipython3",
   "version": "3.9.15"
  }
 },
 "nbformat": 4,
 "nbformat_minor": 5
}

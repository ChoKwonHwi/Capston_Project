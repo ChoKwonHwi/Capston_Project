{
 "cells": [
  {
   "cell_type": "code",
   "execution_count": 129,
   "metadata": {},
   "outputs": [],
   "source": [
    "import pandas as pd\n",
    "import numpy as np"
   ]
  },
  {
   "cell_type": "code",
   "execution_count": 130,
   "metadata": {},
   "outputs": [],
   "source": [
    "import warnings\n",
    "warnings.filterwarnings(action='ignore')"
   ]
  },
  {
   "cell_type": "markdown",
   "metadata": {},
   "source": [
    "### 전처리된 데이터 불러오기"
   ]
  },
  {
   "cell_type": "code",
   "execution_count": 131,
   "metadata": {},
   "outputs": [
    {
     "data": {
      "text/html": [
       "<div>\n",
       "<style scoped>\n",
       "    .dataframe tbody tr th:only-of-type {\n",
       "        vertical-align: middle;\n",
       "    }\n",
       "\n",
       "    .dataframe tbody tr th {\n",
       "        vertical-align: top;\n",
       "    }\n",
       "\n",
       "    .dataframe thead th {\n",
       "        text-align: right;\n",
       "    }\n",
       "</style>\n",
       "<table border=\"1\" class=\"dataframe\">\n",
       "  <thead>\n",
       "    <tr style=\"text-align: right;\">\n",
       "      <th></th>\n",
       "      <th>days</th>\n",
       "      <th>height</th>\n",
       "      <th>weight</th>\n",
       "      <th>gender</th>\n",
       "    </tr>\n",
       "  </thead>\n",
       "  <tbody>\n",
       "    <tr>\n",
       "      <th>0</th>\n",
       "      <td>0</td>\n",
       "      <td>52.0</td>\n",
       "      <td>3.78</td>\n",
       "      <td>1</td>\n",
       "    </tr>\n",
       "    <tr>\n",
       "      <th>1</th>\n",
       "      <td>0</td>\n",
       "      <td>52.0</td>\n",
       "      <td>3.78</td>\n",
       "      <td>1</td>\n",
       "    </tr>\n",
       "    <tr>\n",
       "      <th>2</th>\n",
       "      <td>0</td>\n",
       "      <td>50.0</td>\n",
       "      <td>3.20</td>\n",
       "      <td>1</td>\n",
       "    </tr>\n",
       "    <tr>\n",
       "      <th>3</th>\n",
       "      <td>1</td>\n",
       "      <td>51.0</td>\n",
       "      <td>2.45</td>\n",
       "      <td>1</td>\n",
       "    </tr>\n",
       "    <tr>\n",
       "      <th>4</th>\n",
       "      <td>1</td>\n",
       "      <td>50.0</td>\n",
       "      <td>2.80</td>\n",
       "      <td>1</td>\n",
       "    </tr>\n",
       "    <tr>\n",
       "      <th>...</th>\n",
       "      <td>...</td>\n",
       "      <td>...</td>\n",
       "      <td>...</td>\n",
       "      <td>...</td>\n",
       "    </tr>\n",
       "    <tr>\n",
       "      <th>79344</th>\n",
       "      <td>365</td>\n",
       "      <td>74.6</td>\n",
       "      <td>9.60</td>\n",
       "      <td>0</td>\n",
       "    </tr>\n",
       "    <tr>\n",
       "      <th>79345</th>\n",
       "      <td>365</td>\n",
       "      <td>74.6</td>\n",
       "      <td>8.60</td>\n",
       "      <td>0</td>\n",
       "    </tr>\n",
       "    <tr>\n",
       "      <th>79346</th>\n",
       "      <td>365</td>\n",
       "      <td>74.6</td>\n",
       "      <td>9.40</td>\n",
       "      <td>0</td>\n",
       "    </tr>\n",
       "    <tr>\n",
       "      <th>79347</th>\n",
       "      <td>365</td>\n",
       "      <td>74.6</td>\n",
       "      <td>9.40</td>\n",
       "      <td>0</td>\n",
       "    </tr>\n",
       "    <tr>\n",
       "      <th>79348</th>\n",
       "      <td>365</td>\n",
       "      <td>74.6</td>\n",
       "      <td>8.20</td>\n",
       "      <td>0</td>\n",
       "    </tr>\n",
       "  </tbody>\n",
       "</table>\n",
       "<p>79349 rows × 4 columns</p>\n",
       "</div>"
      ],
      "text/plain": [
       "       days  height  weight  gender\n",
       "0         0    52.0    3.78       1\n",
       "1         0    52.0    3.78       1\n",
       "2         0    50.0    3.20       1\n",
       "3         1    51.0    2.45       1\n",
       "4         1    50.0    2.80       1\n",
       "...     ...     ...     ...     ...\n",
       "79344   365    74.6    9.60       0\n",
       "79345   365    74.6    8.60       0\n",
       "79346   365    74.6    9.40       0\n",
       "79347   365    74.6    9.40       0\n",
       "79348   365    74.6    8.20       0\n",
       "\n",
       "[79349 rows x 4 columns]"
      ]
     },
     "execution_count": 131,
     "metadata": {},
     "output_type": "execute_result"
    }
   ],
   "source": [
    "baby_growth_df = pd.read_csv(\"./baby_growth_df.csv\")\n",
    "baby_growth_df"
   ]
  },
  {
   "cell_type": "code",
   "execution_count": 133,
   "metadata": {},
   "outputs": [],
   "source": [
    "from sklearn.model_selection import train_test_split\n",
    "from sklearn.linear_model import LinearRegression\n",
    "from sklearn.ensemble import RandomForestRegressor\n",
    "from xgboost import XGBRegressor\n",
    "from lightgbm import LGBMRegressor\n",
    "from sklearn.ensemble import GradientBoostingRegressor\n",
    "from sklearn.preprocessing import PolynomialFeatures\n",
    "from sklearn.model_selection import GridSearchCV\n",
    "from sklearn.metrics import mean_squared_error, mean_absolute_error, r2_score"
   ]
  },
  {
   "cell_type": "markdown",
   "metadata": {},
   "source": [
    "### height 예측 모델링"
   ]
  },
  {
   "cell_type": "code",
   "execution_count": 157,
   "metadata": {},
   "outputs": [],
   "source": [
    "# 독립 변수와 종속 변수 분리\n",
    "X = baby_growth_df[['days','gender']]\n",
    "y = baby_growth_df['height']\n",
    "\n",
    "# train/test 데이터 분리, 성별 비중 유지\n",
    "X_train, X_test, y_train, y_test = train_test_split(X, y, test_size=0.25, stratify=X['gender'], random_state=42)"
   ]
  },
  {
   "cell_type": "markdown",
   "metadata": {},
   "source": [
    "### (1) LinearRegression - height 예측 모델"
   ]
  },
  {
   "cell_type": "code",
   "execution_count": 158,
   "metadata": {},
   "outputs": [
    {
     "name": "stdout",
     "output_type": "stream",
     "text": [
      "R-squared: 0.9053437089619766\n",
      "LinearRegression MSE: 3.52819616917368\n",
      "훈련 세트 정확도: 0.905\n",
      "테스트 세트 정확도: 0.905\n"
     ]
    }
   ],
   "source": [
    "# linear regression 모델 학습\n",
    "lr_height = LinearRegression()\n",
    "lr_height.fit(X_train, y_train)\n",
    "\n",
    "# test 데이터로 예측\n",
    "y_pred = lr_height.predict(X_test)\n",
    "\n",
    "# 모델 성능 평가\n",
    "r2 = r2_score(y_test, y_pred)\n",
    "print('R-squared:', r2)\n",
    "\n",
    "# MSE 평가\n",
    "mse = mean_squared_error(y_test, y_pred)\n",
    "print(\"LinearRegression MSE:\", mse)\n",
    "\n",
    "# 정확도 평가\n",
    "print(\"훈련 세트 정확도: {:.3f}\".format(lr_height.score(X_train, y_train)))\n",
    "print(\"테스트 세트 정확도: {:.3f}\".format(lr_height.score(X_test, y_test)))"
   ]
  },
  {
   "cell_type": "markdown",
   "metadata": {},
   "source": [
    "### (1-1) 이차항 선형 회귀 - height 예측 모델"
   ]
  },
  {
   "cell_type": "code",
   "execution_count": 140,
   "metadata": {},
   "outputs": [
    {
     "name": "stdout",
     "output_type": "stream",
     "text": [
      "linearRegression2 Mean Squared Error: 0.6987426294820096\n",
      "훈련 세트 정확도: 0.981\n",
      "테스트 세트 정확도: 0.981\n"
     ]
    }
   ],
   "source": [
    "# 이차항 생성\n",
    "poly = PolynomialFeatures(degree=2, include_bias=False)\n",
    "X_poly_height = poly.fit_transform(X)\n",
    "\n",
    "# 데이터 분할\n",
    "X_train, X_test, y_train, y_test = train_test_split(X_poly_height, y, test_size=0.25, stratify=X['gender'], random_state=42)\n",
    "\n",
    "# 모델 학습\n",
    "lr2_height = LinearRegression()\n",
    "lr2_height.fit(X_train, y_train)\n",
    "\n",
    "# 예측\n",
    "y_pred = lr2_height.predict(X_test)\n",
    "\n",
    "# 평가\n",
    "mse = mean_squared_error(y_test, y_pred)\n",
    "print(\"linearRegression2 Mean Squared Error:\", mse)\n",
    "\n",
    "# 정확도 평가\n",
    "print(\"훈련 세트 정확도: {:.3f}\".format(lr2_height.score(X_train, y_train)))\n",
    "print(\"테스트 세트 정확도: {:.3f}\".format(lr2_height.score(X_test, y_test)))\n"
   ]
  },
  {
   "cell_type": "markdown",
   "metadata": {},
   "source": [
    "### (2) RandomForestRegressor - height 예측 모델"
   ]
  },
  {
   "cell_type": "code",
   "execution_count": 92,
   "metadata": {},
   "outputs": [
    {
     "name": "stdout",
     "output_type": "stream",
     "text": [
      "RandomForestRegressor Mean Squared Error: 0.25375292488684353\n",
      "훈련 세트 정확도: 0.993\n",
      "테스트 세트 정확도: 0.993\n"
     ]
    }
   ],
   "source": [
    "# RandomForestRegressor 모델 객체 생성\n",
    "rf_height = RandomForestRegressor(random_state=42)\n",
    "\n",
    "# 모델 학습\n",
    "rf_height.fit(X_train, y_train)\n",
    "\n",
    "# 모델 평가 - 예측값 생성\n",
    "y_pred = rf_height.predict(X_test)\n",
    "\n",
    "# 모델 평가 - 평균 제곱 오차 계산\n",
    "mse = mean_squared_error(y_test, y_pred)\n",
    "print(\"RandomForestRegressor Mean Squared Error:\", mse)\n",
    "\n",
    "# 정확도 평가\n",
    "print(\"훈련 세트 정확도: {:.3f}\".format(rf_height.score(X_train, y_train)))\n",
    "print(\"테스트 세트 정확도: {:.3f}\".format(rf_height.score(X_test, y_test)))"
   ]
  },
  {
   "cell_type": "markdown",
   "metadata": {},
   "source": [
    "### (3) XGBRegressor - height 예측 모델"
   ]
  },
  {
   "cell_type": "code",
   "execution_count": 93,
   "metadata": {},
   "outputs": [
    {
     "name": "stdout",
     "output_type": "stream",
     "text": [
      "xgboost MSE: 0.316\n",
      "xgboost MAE: 0.204\n",
      "xgboost R-squared: 0.992\n",
      "훈련 세트 정확도: 0.992\n",
      "테스트 세트 정확도: 0.992\n"
     ]
    }
   ],
   "source": [
    "# 모델 객체 생성\n",
    "xgb_height = XGBRegressor(objective='reg:squarederror', tree_method='hist', random_state=42)\n",
    "\n",
    "# 모델 학습\n",
    "xgb_height.fit(X_train, y_train)\n",
    "\n",
    "# 검증용 데이터를 사용하여 예측 수행\n",
    "y_pred = xgb_height.predict(X_test)\n",
    "\n",
    "# 모델 성능 평가\n",
    "mse = mean_squared_error(y_test, y_pred)\n",
    "mae = mean_absolute_error(y_test, y_pred)\n",
    "r2 = r2_score(y_test, y_pred)\n",
    "\n",
    "print(f\"xgboost MSE: {mse:.3f}\")\n",
    "print(f\"xgboost MAE: {mae:.3f}\")\n",
    "print(f\"xgboost R-squared: {r2:.3f}\")\n",
    "\n",
    "# 정확도 평가\n",
    "print(\"훈련 세트 정확도: {:.3f}\".format(xgb_height.score(X_train, y_train)))\n",
    "print(\"테스트 세트 정확도: {:.3f}\".format(xgb_height.score(X_test, y_test)))"
   ]
  },
  {
   "cell_type": "markdown",
   "metadata": {},
   "source": [
    "### RandomForestRegressor hyperparameter tuning"
   ]
  },
  {
   "cell_type": "code",
   "execution_count": 9,
   "metadata": {},
   "outputs": [
    {
     "name": "stdout",
     "output_type": "stream",
     "text": [
      "Best hyperparameters: {'max_depth': 20, 'min_samples_split': 2, 'n_estimators': 50}\n",
      "Best CV score: 0.2536826197356331\n",
      "Test MSE: 0.2537769441848588\n",
      "훈련 세트 정확도: 0.993\n",
      "테스트 세트 정확도: 0.993\n"
     ]
    }
   ],
   "source": [
    "# 하이퍼파라미터 후보 값들\n",
    "param_grid = {\n",
    "    'n_estimators': [50, 100, 200],\n",
    "    'max_depth': [5, 10, 20],\n",
    "    'min_samples_split': [2, 5, 10]\n",
    "}\n",
    "\n",
    "# GridSearchCV 수행\n",
    "rf_height = RandomForestRegressor(random_state=42)\n",
    "grid_search = GridSearchCV(rf_height, param_grid, cv=5, scoring='neg_mean_squared_error')\n",
    "grid_search.fit(X_train, y_train)\n",
    "\n",
    "# 최적의 하이퍼파라미터와 그 때의 성능 출력\n",
    "print(\"Best hyperparameters:\", grid_search.best_params_)\n",
    "print(\"Best CV score:\", -grid_search.best_score_)\n",
    "\n",
    "# 최적의 하이퍼파라미터로 모델 학습 및 평가\n",
    "rf_height_best = RandomForestRegressor(n_estimators=grid_search.best_params_['n_estimators'],\n",
    "                                 max_depth=grid_search.best_params_['max_depth'],\n",
    "                                 min_samples_split=grid_search.best_params_['min_samples_split'],\n",
    "                                 random_state=42)\n",
    "rf_height_best.fit(X_train, y_train)\n",
    "y_pred_rf = rf_height_best.predict(X_test)\n",
    "print(\"Test MSE:\", mean_squared_error(y_test, y_pred_rf))\n",
    "\n",
    "# 정확도 평가\n",
    "print(\"훈련 세트 정확도: {:.3f}\".format(rf_height_best.score(X_train, y_train)))\n",
    "print(\"테스트 세트 정확도: {:.3f}\".format(rf_height_best.score(X_test, y_test)))\n"
   ]
  },
  {
   "cell_type": "markdown",
   "metadata": {},
   "source": [
    "### (4) LightGBM - height 예측 모델"
   ]
  },
  {
   "cell_type": "code",
   "execution_count": 159,
   "metadata": {},
   "outputs": [
    {
     "name": "stdout",
     "output_type": "stream",
     "text": [
      "lightGBM MSE: 0.30606518685357387\n",
      "훈련 세트 정확도: 0.992\n",
      "테스트 세트 정확도: 0.992\n"
     ]
    }
   ],
   "source": [
    "# LightGBM 모델링\n",
    "lgbm_height = LGBMRegressor(random_state=42)\n",
    "lgbm_height.fit(X_train, y_train)\n",
    "\n",
    "# 예측값 생성\n",
    "y_pred = lgbm_height.predict(X_test)\n",
    "\n",
    "# MSE 평가\n",
    "mse = mean_squared_error(y_test, y_pred)\n",
    "print(\"lightGBM MSE:\", mse)\n",
    "\n",
    "# 정확도 평가\n",
    "print(\"훈련 세트 정확도: {:.3f}\".format(lgbm_height.score(X_train, y_train)))\n",
    "print(\"테스트 세트 정확도: {:.3f}\".format(lgbm_height.score(X_test, y_test)))"
   ]
  },
  {
   "cell_type": "markdown",
   "metadata": {},
   "source": [
    "### (5) GradientBoosting - height 예측 모델"
   ]
  },
  {
   "cell_type": "code",
   "execution_count": 95,
   "metadata": {},
   "outputs": [
    {
     "name": "stdout",
     "output_type": "stream",
     "text": [
      "GradientBoostingRegressor MSE: 0.35741078812332194\n",
      "훈련 세트 정확도: 0.990\n",
      "테스트 세트 정확도: 0.990\n"
     ]
    }
   ],
   "source": [
    "# Gradient Boosting 모델 학습\n",
    "gbr_height = GradientBoostingRegressor(random_state=42)\n",
    "gbr_height.fit(X_train, y_train)\n",
    "\n",
    "# 모델 예측\n",
    "y_pred = gbr_height.predict(X_test)\n",
    "\n",
    "# 모델 평가\n",
    "mse = mean_squared_error(y_test, y_pred)\n",
    "print(\"GradientBoostingRegressor MSE:\", mse)\n",
    "\n",
    "# 정확도 평가\n",
    "print(\"훈련 세트 정확도: {:.3f}\".format(gbr_height.score(X_train, y_train)))\n",
    "print(\"테스트 세트 정확도: {:.3f}\".format(gbr_height.score(X_test, y_test)))"
   ]
  },
  {
   "cell_type": "markdown",
   "metadata": {},
   "source": [
    "### Weight 예측 모델링"
   ]
  },
  {
   "cell_type": "code",
   "execution_count": 160,
   "metadata": {},
   "outputs": [],
   "source": [
    "# 독립 변수와 종속 변수 분리\n",
    "X_data = baby_growth_df[['days','gender','height']]\n",
    "y_target = baby_growth_df['weight']\n",
    "\n",
    "# train/test 데이터 분리, 성별 비중 유지\n",
    "X_train, X_test, y_train, y_test = train_test_split(X_data, y_target, test_size=0.25, stratify=X_data['gender'], random_state=42)"
   ]
  },
  {
   "cell_type": "code",
   "execution_count": 146,
   "metadata": {},
   "outputs": [
    {
     "name": "stdout",
     "output_type": "stream",
     "text": [
      "linearRegression2 Mean Squared Error: 0.3476746801007111\n",
      "훈련 세트 정확도: 0.890\n",
      "테스트 세트 정확도: 0.890\n"
     ]
    }
   ],
   "source": [
    "# 이차항 생성\n",
    "poly = PolynomialFeatures(degree=2, include_bias=False)\n",
    "X_poly_weight = poly.fit_transform(X_data)\n",
    "\n",
    "# 데이터 분할\n",
    "X_train, X_test, y_train, y_test = train_test_split(X_poly_weight, y_target, test_size=0.25, stratify=X_data['gender'], random_state=42)\n",
    "\n",
    "# 모델 학습\n",
    "lr2_weight = LinearRegression()\n",
    "lr2_weight.fit(X_train, y_train)\n",
    "\n",
    "# 예측\n",
    "y_pred = lr2_weight.predict(X_test)\n",
    "\n",
    "# 평가\n",
    "mse = mean_squared_error(y_test, y_pred)\n",
    "print(\"linearRegression2 Mean Squared Error:\", mse)\n",
    "\n",
    "# 정확도 평가\n",
    "print(\"훈련 세트 정확도: {:.3f}\".format(lr2_weight.score(X_train, y_train)))\n",
    "print(\"테스트 세트 정확도: {:.3f}\".format(lr2_weight.score(X_test, y_test)))\n"
   ]
  },
  {
   "cell_type": "markdown",
   "metadata": {},
   "source": [
    "### (1) RandomForestRegressor - weight 예측 모델"
   ]
  },
  {
   "cell_type": "code",
   "execution_count": 47,
   "metadata": {},
   "outputs": [
    {
     "name": "stdout",
     "output_type": "stream",
     "text": [
      "Best hyperparameters: {'max_depth': 10, 'min_samples_split': 10, 'n_estimators': 100}\n",
      "Best CV score: 0.3465750289982933\n",
      "Test MSE: 0.34468287750259985\n",
      "훈련 세트 정확도: 0.894\n",
      "테스트 세트 정확도: 0.891\n"
     ]
    },
    {
     "ename": "AttributeError",
     "evalue": "'RandomForestRegressor' object has no attribute 'oob_score_'",
     "output_type": "error",
     "traceback": [
      "\u001b[1;31m---------------------------------------------------------------------------\u001b[0m",
      "\u001b[1;31mAttributeError\u001b[0m                            Traceback (most recent call last)",
      "\u001b[1;32m~\\AppData\\Local\\Temp/ipykernel_29036/3489200801.py\u001b[0m in \u001b[0;36m<module>\u001b[1;34m\u001b[0m\n\u001b[0;32m     27\u001b[0m \u001b[0mprint\u001b[0m\u001b[1;33m(\u001b[0m\u001b[1;34m\"훈련 세트 정확도: {:.3f}\"\u001b[0m\u001b[1;33m.\u001b[0m\u001b[0mformat\u001b[0m\u001b[1;33m(\u001b[0m\u001b[0mrf_weight_best\u001b[0m\u001b[1;33m.\u001b[0m\u001b[0mscore\u001b[0m\u001b[1;33m(\u001b[0m\u001b[0mX_train\u001b[0m\u001b[1;33m,\u001b[0m \u001b[0my_train\u001b[0m\u001b[1;33m)\u001b[0m\u001b[1;33m)\u001b[0m\u001b[1;33m)\u001b[0m\u001b[1;33m\u001b[0m\u001b[1;33m\u001b[0m\u001b[0m\n\u001b[0;32m     28\u001b[0m \u001b[0mprint\u001b[0m\u001b[1;33m(\u001b[0m\u001b[1;34m\"테스트 세트 정확도: {:.3f}\"\u001b[0m\u001b[1;33m.\u001b[0m\u001b[0mformat\u001b[0m\u001b[1;33m(\u001b[0m\u001b[0mrf_weight_best\u001b[0m\u001b[1;33m.\u001b[0m\u001b[0mscore\u001b[0m\u001b[1;33m(\u001b[0m\u001b[0mX_test\u001b[0m\u001b[1;33m,\u001b[0m \u001b[0my_test\u001b[0m\u001b[1;33m)\u001b[0m\u001b[1;33m)\u001b[0m\u001b[1;33m)\u001b[0m\u001b[1;33m\u001b[0m\u001b[1;33m\u001b[0m\u001b[0m\n\u001b[1;32m---> 29\u001b[1;33m \u001b[0mprint\u001b[0m\u001b[1;33m(\u001b[0m\u001b[1;34m\"OOB 샘플의 정확도: {:.3f}\"\u001b[0m\u001b[1;33m.\u001b[0m\u001b[0mformat\u001b[0m\u001b[1;33m(\u001b[0m\u001b[0mrf_weight_best\u001b[0m\u001b[1;33m.\u001b[0m\u001b[0moob_score_\u001b[0m\u001b[1;33m)\u001b[0m\u001b[1;33m)\u001b[0m\u001b[1;33m\u001b[0m\u001b[1;33m\u001b[0m\u001b[0m\n\u001b[0m",
      "\u001b[1;31mAttributeError\u001b[0m: 'RandomForestRegressor' object has no attribute 'oob_score_'"
     ]
    }
   ],
   "source": [
    "# 하이퍼파라미터 후보 값들\n",
    "param_grid = {\n",
    "    'n_estimators': [50, 100, 200],\n",
    "    'max_depth': [5, 10, 20],\n",
    "    'min_samples_split': [2, 5, 10]\n",
    "}\n",
    "\n",
    "# GridSearchCV 수행\n",
    "rf_weight = RandomForestRegressor(random_state=42)\n",
    "grid_search = GridSearchCV(rf_weight, param_grid, cv=5, scoring='neg_mean_squared_error')\n",
    "grid_search.fit(X_train, y_train)\n",
    "\n",
    "# 최적의 하이퍼파라미터와 그 때의 성능 출력\n",
    "print(\"Best hyperparameters:\", grid_search.best_params_)\n",
    "print(\"Best CV score:\", -grid_search.best_score_)\n",
    "\n",
    "# 최적의 하이퍼파라미터로 모델 학습 및 평가\n",
    "rf_weight_best = RandomForestRegressor(n_estimators=grid_search.best_params_['n_estimators'],\n",
    "                                 max_depth=grid_search.best_params_['max_depth'],\n",
    "                                 min_samples_split=grid_search.best_params_['min_samples_split'],\n",
    "                                 random_state=42)\n",
    "rf_weight_best.fit(X_train, y_train)\n",
    "y_pred_rf = rf_weight_best.predict(X_test)\n",
    "print(\"Test MSE:\", mean_squared_error(y_test, y_pred_rf))\n",
    "\n",
    "# 정확도 평가\n",
    "print(\"훈련 세트 정확도: {:.3f}\".format(rf_weight_best.score(X_train, y_train)))\n",
    "print(\"테스트 세트 정확도: {:.3f}\".format(rf_weight_best.score(X_test, y_test)))\n"
   ]
  },
  {
   "cell_type": "markdown",
   "metadata": {},
   "source": [
    "### (2) LinearRegressor - weight 예측 모델"
   ]
  },
  {
   "cell_type": "code",
   "execution_count": 125,
   "metadata": {},
   "outputs": [
    {
     "name": "stdout",
     "output_type": "stream",
     "text": [
      "훈련 세트 정확도: 0.872\n",
      "테스트 세트 정확도: 0.873\n"
     ]
    }
   ],
   "source": [
    "lr_weight = LinearRegression()\n",
    "\n",
    "lr_weight.fit(X_train, y_train)\n",
    "lr_weight.score(X_test, y_test)\n",
    "\n",
    "print(\"훈련 세트 정확도: {:.3f}\".format(lr_weight.score(X_train, y_train)))\n",
    "print(\"테스트 세트 정확도: {:.3f}\".format(lr_weight.score(X_test, y_test)))"
   ]
  },
  {
   "cell_type": "markdown",
   "metadata": {},
   "source": [
    "### (3) GradientBoostingRegressor - weight 예측 모델"
   ]
  },
  {
   "cell_type": "code",
   "execution_count": 98,
   "metadata": {},
   "outputs": [
    {
     "name": "stdout",
     "output_type": "stream",
     "text": [
      "훈련 세트 정확도: 0.892\n",
      "테스트 세트 정확도: 0.891\n"
     ]
    }
   ],
   "source": [
    "gbr_weight = GradientBoostingRegressor()\n",
    "\n",
    "gbr_weight.fit(X_train, y_train)\n",
    "\n",
    "# 평가\n",
    "print(\"훈련 세트 정확도: {:.3f}\".format(gbr_weight.score(X_train, y_train)))\n",
    "print(\"테스트 세트 정확도: {:.3f}\".format(gbr_weight.score(X_test, y_test)))"
   ]
  },
  {
   "cell_type": "markdown",
   "metadata": {},
   "source": [
    "### (4) lightGBM - weight 예측 모델"
   ]
  },
  {
   "cell_type": "code",
   "execution_count": 161,
   "metadata": {},
   "outputs": [
    {
     "name": "stdout",
     "output_type": "stream",
     "text": [
      "lightGBM MSE: 0.34462365868841655\n",
      "훈련 세트 정확도: 0.893\n",
      "테스트 세트 정확도: 0.891\n"
     ]
    }
   ],
   "source": [
    "# LightGBM 모델링\n",
    "lgbm_weight = LGBMRegressor(random_state=42)\n",
    "lgbm_weight.fit(X_train, y_train)\n",
    "\n",
    "# 예측값 생성\n",
    "y_pred = lgbm_weight.predict(X_test)\n",
    "\n",
    "# MSE 평가\n",
    "mse = mean_squared_error(y_test, y_pred)\n",
    "print(\"lightGBM MSE:\", mse)\n",
    "\n",
    "# 정확도 평가\n",
    "print(\"훈련 세트 정확도: {:.3f}\".format(lgbm_weight.score(X_train, y_train)))\n",
    "print(\"테스트 세트 정확도: {:.3f}\".format(lgbm_weight.score(X_test, y_test)))"
   ]
  },
  {
   "cell_type": "code",
   "execution_count": 163,
   "metadata": {},
   "outputs": [
    {
     "name": "stdout",
     "output_type": "stream",
     "text": [
      "아기의 1개월 뒤 예상 키는 69.2cm 입니다.\n",
      "아기의 3개월 뒤 예상 키는 72.8cm 입니다.\n",
      "아기의 6개월 뒤 예상 키는 76.0cm 입니다.\n",
      "아기의 1개월 뒤 예상 몸무게는 8.4kg 입니다.\n",
      "아기의 3개월 뒤 예상 몸무게는 9.2kg 입니다.\n",
      "아기의 6개월 뒤 예상 몸무게는 10.3kg 입니다.\n"
     ]
    }
   ],
   "source": [
    "# 사용자로부터 데이터 입력받기\n",
    "input_days = int(input(\"생후 일 수를 입력하세요: \"))\n",
    "input_height = float(input(\"아기의 현재 키를 입력하세요 (단위: cm): \"))\n",
    "input_weight = float(input(\"아기의 현재 몸무게를 입력하세요 (단위: kg): \"))\n",
    "input_gender = input(\"아기의 성별을 입력하세요 (F/M): \")\n",
    "\n",
    "# 입력받은 데이터로 1개월, 3개월, 6개월 뒤의 키 예측\n",
    "if input_gender == 'F':\n",
    "    gender = 0\n",
    "elif input_gender == 'M':\n",
    "    gender = 1\n",
    "else:\n",
    "    print(\"성별은 'F' 또는 'M' 중에서 입력해주세요.\")\n",
    "    exit()\n",
    "\n",
    "\n",
    "# polynomial regression\n",
    "#one_month_pred_height = lr2_height.predict([[(input_days+30)**2, (input_days + 30), gender]])\n",
    "#three_month_pred_height = lr2_height.predict(np.array([[((input_days+90)**2), (input_days+90), gender]])) \n",
    "#six_month_pred_height = lr2_height.predict(np.array([[((input_days+180)**2), (input_days+180), gender]])) \n",
    "\n",
    "#one_month_pred_weight = lr2_weight.predict(np.array([[((input_days+30)**2), (input_days+30), gender, one_month_pred_height]]))\n",
    "#three_month_pred_weight = lr2_weight.predict(np.array([[((input_days+90)**2), (input_days+90), gender, three_month_pred_height]])) \n",
    "#six_month_pred_weight = lr2_weight.predict(np.array([[((input_days+180)**2), (input_days+180), gender, six_month_pred_height]])) \n",
    "one_month_pred_height = lgbm_height.predict([[input_days+30, gender]])\n",
    "three_month_pred_height = lgbm_height.predict([[input_days+90, gender]])\n",
    "six_month_pred_height = lgbm_height.predict([[input_days+180, gender]])\n",
    "\n",
    "one_month_pred_weight = lgbm_weight.predict([[input_days+30, gender, one_month_pred_height]])\n",
    "three_month_pred_weight = lgbm_weight.predict([[input_days+90, gender, three_month_pred_height]])\n",
    "six_month_pred_weight = lgbm_weight.predict([[input_days+180, gender, six_month_pred_height]])\n",
    "\n",
    "\n",
    "# 결과 출력\n",
    "print(f\"아기의 1개월 뒤 예상 키는 {one_month_pred_height[0]:.1f}cm 입니다.\")\n",
    "print(f\"아기의 3개월 뒤 예상 키는 {three_month_pred_height[0]:.1f}cm 입니다.\")\n",
    "print(f\"아기의 6개월 뒤 예상 키는 {six_month_pred_height[0]:.1f}cm 입니다.\")\n",
    "print(f\"아기의 1개월 뒤 예상 몸무게는 {one_month_pred_weight[0]:.1f}kg 입니다.\")\n",
    "print(f\"아기의 3개월 뒤 예상 몸무게는 {three_month_pred_weight[0]:.1f}kg 입니다.\")\n",
    "print(f\"아기의 6개월 뒤 예상 몸무게는 {six_month_pred_weight[0]:.1f}kg 입니다.\")"
   ]
  },
  {
   "cell_type": "code",
   "execution_count": null,
   "metadata": {},
   "outputs": [],
   "source": [
    "# 독립 변수와 종속 변수 분리\n",
    "X = baby_growth_df[['days','gender']]\n",
    "y = baby_growth_df['height']\n",
    "\n",
    "# train/test 데이터 분리, 성별 비중 유지\n",
    "X_train, X_test, y_train, y_test = train_test_split(X, y, test_size=0.25, stratify=X['gender'], random_state=42)"
   ]
  },
  {
   "cell_type": "code",
   "execution_count": 127,
   "metadata": {},
   "outputs": [
    {
     "data": {
      "text/plain": [
       "[65.0,\n",
       " 66.07416776598242,\n",
       " 66.15682979043461,\n",
       " 66.2394918148868,\n",
       " 66.322153839339,\n",
       " 66.40481586379119,\n",
       " 66.48747788824338,\n",
       " 66.57013991269557,\n",
       " 66.65280193714776,\n",
       " 66.73546396159995,\n",
       " 66.81812598605214,\n",
       " 66.90078801050433,\n",
       " 66.98345003495652,\n",
       " 67.0661120594087,\n",
       " 67.14877408386089,\n",
       " 67.23143610831308,\n",
       " 67.31409813276527,\n",
       " 67.39676015721746,\n",
       " 67.47942218166965,\n",
       " 67.56208420612184,\n",
       " 67.64474623057403,\n",
       " 67.72740825502622,\n",
       " 67.81007027947841,\n",
       " 67.8927323039306,\n",
       " 67.97539432838279,\n",
       " 68.05805635283498,\n",
       " 68.14071837728717,\n",
       " 68.22338040173936,\n",
       " 68.30604242619155,\n",
       " 68.38870445064374,\n",
       " 68.47136647509593,\n",
       " 68.55402849954812,\n",
       " 68.63669052400031,\n",
       " 68.7193525484525,\n",
       " 68.8020145729047,\n",
       " 68.88467659735689,\n",
       " 68.96733862180908,\n",
       " 69.05000064626127,\n",
       " 69.13266267071346,\n",
       " 69.21532469516565,\n",
       " 69.29798671961784,\n",
       " 69.38064874407003,\n",
       " 69.46331076852222,\n",
       " 69.54597279297441,\n",
       " 69.6286348174266,\n",
       " 69.71129684187879,\n",
       " 69.79395886633098,\n",
       " 69.87662089078317,\n",
       " 69.95928291523535,\n",
       " 70.04194493968754,\n",
       " 70.12460696413973,\n",
       " 70.20726898859192,\n",
       " 70.28993101304411,\n",
       " 70.3725930374963,\n",
       " 70.45525506194849,\n",
       " 70.53791708640068,\n",
       " 70.62057911085287,\n",
       " 70.70324113530506,\n",
       " 70.78590315975725,\n",
       " 70.86856518420944,\n",
       " 70.95122720866163,\n",
       " 71.03388923311383,\n",
       " 71.11655125756602,\n",
       " 71.1992132820182,\n",
       " 71.2818753064704,\n",
       " 71.36453733092259,\n",
       " 71.44719935537478,\n",
       " 71.52986137982697,\n",
       " 71.61252340427916,\n",
       " 71.69518542873135,\n",
       " 71.77784745318354,\n",
       " 71.86050947763573,\n",
       " 71.94317150208792,\n",
       " 72.02583352654011,\n",
       " 72.1084955509923,\n",
       " 72.19115757544449,\n",
       " 72.27381959989668,\n",
       " 72.35648162434887,\n",
       " 72.43914364880106,\n",
       " 72.52180567325325,\n",
       " 72.60446769770545,\n",
       " 72.68712972215764,\n",
       " 72.76979174660983,\n",
       " 72.85245377106202,\n",
       " 72.9351157955142,\n",
       " 73.0177778199664,\n",
       " 73.10043984441859,\n",
       " 73.18310186887078,\n",
       " 73.26576389332297,\n",
       " 73.34842591777516,\n",
       " 73.43108794222735,\n",
       " 73.51374996667954,\n",
       " 73.59641199113173,\n",
       " 73.67907401558392,\n",
       " 73.76173604003611,\n",
       " 73.8443980644883,\n",
       " 73.9270600889405,\n",
       " 74.00972211339268,\n",
       " 74.09238413784487,\n",
       " 74.17504616229706,\n",
       " 74.25770818674926,\n",
       " 74.34037021120143,\n",
       " 74.42303223565362,\n",
       " 74.50569426010581,\n",
       " 74.588356284558,\n",
       " 74.6710183090102,\n",
       " 74.75368033346238,\n",
       " 74.83634235791457,\n",
       " 74.91900438236677,\n",
       " 75.00166640681896,\n",
       " 75.08432843127115,\n",
       " 75.16699045572334,\n",
       " 75.24965248017553,\n",
       " 75.33231450462772,\n",
       " 75.41497652907991,\n",
       " 75.4976385535321,\n",
       " 75.58030057798429,\n",
       " 75.66296260243648,\n",
       " 75.74562462688867,\n",
       " 75.82828665134086,\n",
       " 75.91094867579305,\n",
       " 75.99361070024524,\n",
       " 76.07627272469743,\n",
       " 76.15893474914962,\n",
       " 76.24159677360181,\n",
       " 76.324258798054,\n",
       " 76.4069208225062,\n",
       " 76.48958284695838,\n",
       " 76.57224487141058,\n",
       " 76.65490689586277,\n",
       " 76.73756892031496,\n",
       " 76.82023094476715,\n",
       " 76.90289296921934,\n",
       " 76.98555499367151,\n",
       " 77.0682170181237,\n",
       " 77.1508790425759,\n",
       " 77.23354106702809,\n",
       " 77.31620309148028,\n",
       " 77.39886511593247,\n",
       " 77.48152714038466,\n",
       " 77.56418916483685,\n",
       " 77.64685118928904,\n",
       " 77.72951321374123,\n",
       " 77.81217523819342,\n",
       " 77.89483726264561,\n",
       " 77.9774992870978,\n",
       " 78.06016131154999,\n",
       " 78.14282333600218,\n",
       " 78.22548536045437,\n",
       " 78.30814738490656,\n",
       " 78.39080940935875,\n",
       " 78.47347143381094,\n",
       " 78.55613345826313,\n",
       " 78.63879548271532,\n",
       " 78.72145750716751,\n",
       " 78.8041195316197,\n",
       " 78.8867815560719,\n",
       " 78.96944358052409,\n",
       " 79.05210560497628,\n",
       " 79.13476762942847,\n",
       " 79.21742965388066,\n",
       " 79.30009167833285,\n",
       " 79.38275370278504,\n",
       " 79.46541572723723,\n",
       " 79.54807775168942,\n",
       " 79.63073977614161,\n",
       " 79.7134018005938,\n",
       " 79.79606382504599,\n",
       " 79.87872584949818,\n",
       " 79.96138787395037,\n",
       " 80.04404989840256,\n",
       " 80.12671192285475,\n",
       " 80.20937394730694,\n",
       " 80.29203597175913,\n",
       " 80.37469799621132,\n",
       " 80.45736002066351,\n",
       " 80.5400220451157,\n",
       " 80.6226840695679,\n",
       " 80.70534609402009,\n",
       " 80.78800811847228,\n",
       " 80.87067014292447]"
      ]
     },
     "execution_count": 127,
     "metadata": {},
     "output_type": "execute_result"
    }
   ],
   "source": [
    "# for height graph\n",
    "graph_height = [input_height] # 0일 뒤 키 == 현재 입력 키\n",
    "x_height_days = list(range(1,181)) # 1일 뒤부터 180일 뒤 까지\n",
    "for i in range(1,181):\n",
    "    graph_height.append(lr_height.predict([[input_days + i, gender]])[0])\n",
    "graph_height\n"
   ]
  },
  {
   "cell_type": "code",
   "execution_count": 128,
   "metadata": {},
   "outputs": [
    {
     "data": {
      "text/plain": [
       "[9.0,\n",
       " 7.669898517865672,\n",
       " 7.692568113455895,\n",
       " 7.715237709046118,\n",
       " 7.7379073046363445,\n",
       " 7.760576900226567,\n",
       " 7.78324649581679,\n",
       " 7.805916091407017,\n",
       " 7.82858568699724,\n",
       " 7.851255282587463,\n",
       " 7.873924878177686,\n",
       " 7.896594473767909,\n",
       " 7.919264069358132,\n",
       " 7.941933664948351,\n",
       " 7.964603260538578,\n",
       " 7.987272856128801,\n",
       " 8.009942451719024,\n",
       " 8.03261204730925,\n",
       " 8.055281642899473,\n",
       " 8.077951238489696,\n",
       " 8.100620834079923,\n",
       " 8.123290429670146,\n",
       " 8.145960025260365,\n",
       " 8.168629620850592,\n",
       " 8.191299216440814,\n",
       " 8.213968812031037,\n",
       " 8.236638407621264,\n",
       " 8.259308003211487,\n",
       " 8.28197759880171,\n",
       " 8.304647194391936,\n",
       " 8.32731678998216,\n",
       " 8.349986385572382,\n",
       " 8.372655981162609,\n",
       " 8.395325576752832,\n",
       " 8.417995172343055,\n",
       " 8.440664767933278,\n",
       " 8.4633343635235,\n",
       " 8.486003959113724,\n",
       " 8.50867355470395,\n",
       " 8.531343150294173,\n",
       " 8.554012745884396,\n",
       " 8.576682341474623,\n",
       " 8.599351937064846,\n",
       " 8.622021532655069,\n",
       " 8.644691128245295,\n",
       " 8.667360723835518,\n",
       " 8.690030319425741,\n",
       " 8.712699915015964,\n",
       " 8.735369510606183,\n",
       " 8.758039106196406,\n",
       " 8.780708701786633,\n",
       " 8.803378297376856,\n",
       " 8.826047892967079,\n",
       " 8.848717488557305,\n",
       " 8.871387084147528,\n",
       " 8.894056679737751,\n",
       " 8.916726275327978,\n",
       " 8.9393958709182,\n",
       " 8.962065466508424,\n",
       " 8.984735062098647,\n",
       " 9.00740465768887,\n",
       " 9.030074253279093,\n",
       " 9.05274384886932,\n",
       " 9.075413444459542,\n",
       " 9.098083040049765,\n",
       " 9.120752635639992,\n",
       " 9.143422231230215,\n",
       " 9.166091826820438,\n",
       " 9.188761422410664,\n",
       " 9.211431018000887,\n",
       " 9.23410061359111,\n",
       " 9.256770209181333,\n",
       " 9.279439804771556,\n",
       " 9.302109400361779,\n",
       " 9.324778995952006,\n",
       " 9.347448591542229,\n",
       " 9.370118187132451,\n",
       " 9.392787782722678,\n",
       " 9.415457378312901,\n",
       " 9.438126973903124,\n",
       " 9.46079656949335,\n",
       " 9.483466165083573,\n",
       " 9.506135760673796,\n",
       " 9.52880535626402,\n",
       " 9.551474951854242,\n",
       " 9.574144547444465,\n",
       " 9.596814143034692,\n",
       " 9.619483738624915,\n",
       " 9.642153334215138,\n",
       " 9.664822929805364,\n",
       " 9.687492525395587,\n",
       " 9.71016212098581,\n",
       " 9.732831716576037,\n",
       " 9.75550131216626,\n",
       " 9.778170907756483,\n",
       " 9.800840503346706,\n",
       " 9.823510098936929,\n",
       " 9.846179694527152,\n",
       " 9.868849290117378,\n",
       " 9.891518885707601,\n",
       " 9.914188481297824,\n",
       " 9.936858076888047,\n",
       " 9.95952767247827,\n",
       " 9.982197268068493,\n",
       " 10.00486686365872,\n",
       " 10.027536459248942,\n",
       " 10.050206054839165,\n",
       " 10.072875650429388,\n",
       " 10.095545246019611,\n",
       " 10.118214841609834,\n",
       " 10.14088443720006,\n",
       " 10.163554032790284,\n",
       " 10.186223628380507,\n",
       " 10.208893223970733,\n",
       " 10.231562819560956,\n",
       " 10.25423241515118,\n",
       " 10.276902010741406,\n",
       " 10.299571606331629,\n",
       " 10.322241201921852,\n",
       " 10.344910797512075,\n",
       " 10.367580393102298,\n",
       " 10.39024998869252,\n",
       " 10.412919584282747,\n",
       " 10.43558917987297,\n",
       " 10.458258775463193,\n",
       " 10.48092837105342,\n",
       " 10.503597966643643,\n",
       " 10.526267562233866,\n",
       " 10.548937157824092,\n",
       " 10.571606753414315,\n",
       " 10.594276349004538,\n",
       " 10.616945944594761,\n",
       " 10.639615540184984,\n",
       " 10.662285135775203,\n",
       " 10.68495473136543,\n",
       " 10.707624326955653,\n",
       " 10.730293922545876,\n",
       " 10.752963518136102,\n",
       " 10.775633113726325,\n",
       " 10.798302709316548,\n",
       " 10.820972304906775,\n",
       " 10.843641900496998,\n",
       " 10.86631149608722,\n",
       " 10.888981091677447,\n",
       " 10.911650687267667,\n",
       " 10.93432028285789,\n",
       " 10.956989878448116,\n",
       " 10.979659474038339,\n",
       " 11.002329069628562,\n",
       " 11.024998665218789,\n",
       " 11.047668260809012,\n",
       " 11.070337856399235,\n",
       " 11.093007451989461,\n",
       " 11.115677047579684,\n",
       " 11.138346643169907,\n",
       " 11.161016238760133,\n",
       " 11.183685834350353,\n",
       " 11.206355429940576,\n",
       " 11.229025025530802,\n",
       " 11.251694621121025,\n",
       " 11.274364216711248,\n",
       " 11.297033812301475,\n",
       " 11.319703407891698,\n",
       " 11.34237300348192,\n",
       " 11.365042599072147,\n",
       " 11.38771219466237,\n",
       " 11.410381790252593,\n",
       " 11.43305138584282,\n",
       " 11.45572098143304,\n",
       " 11.478390577023262,\n",
       " 11.501060172613489,\n",
       " 11.523729768203712,\n",
       " 11.546399363793935,\n",
       " 11.569068959384161,\n",
       " 11.591738554974384,\n",
       " 11.614408150564607,\n",
       " 11.637077746154834,\n",
       " 11.659747341745057,\n",
       " 11.68241693733528,\n",
       " 11.705086532925506,\n",
       " 11.727756128515725]"
      ]
     },
     "execution_count": 128,
     "metadata": {},
     "output_type": "execute_result"
    }
   ],
   "source": [
    "# for weight graph\n",
    "graph_weight = [input_weight] # 0일 뒤 몸무게 == 현재 입력 몸무게\n",
    "x_weight_days = list(range(1,181)) # 1일 뒤부터 180일 뒤 까지\n",
    "for i in range(1,181):\n",
    "    graph_weight.append(lr_weight.predict([[input_days + i, gender, graph_height[i]]])[0])\n",
    "graph_weight\n"
   ]
  }
 ],
 "metadata": {
  "kernelspec": {
   "display_name": "Python 3 (ipykernel)",
   "language": "python",
   "name": "python3"
  },
  "language_info": {
   "codemirror_mode": {
    "name": "ipython",
    "version": 3
   },
   "file_extension": ".py",
   "mimetype": "text/x-python",
   "name": "python",
   "nbconvert_exporter": "python",
   "pygments_lexer": "ipython3",
   "version": "3.9.15"
  }
 },
 "nbformat": 4,
 "nbformat_minor": 2
}

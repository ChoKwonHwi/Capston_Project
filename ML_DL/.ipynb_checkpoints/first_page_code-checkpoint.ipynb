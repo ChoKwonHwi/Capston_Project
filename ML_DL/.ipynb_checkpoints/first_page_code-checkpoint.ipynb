{
 "cells": [
  {
   "cell_type": "code",
   "execution_count": 1,
   "metadata": {},
   "outputs": [],
   "source": [
    "import pandas as pd\n",
    "import numpy as np"
   ]
  },
  {
   "cell_type": "code",
   "execution_count": 2,
   "metadata": {},
   "outputs": [],
   "source": [
    "import warnings\n",
    "warnings.filterwarnings(action='ignore')"
   ]
  },
  {
   "cell_type": "markdown",
   "metadata": {},
   "source": [
    "### 전처리된 데이터 불러오기"
   ]
  },
  {
   "cell_type": "code",
   "execution_count": 3,
   "metadata": {},
   "outputs": [
    {
     "data": {
      "text/html": [
       "<div>\n",
       "<style scoped>\n",
       "    .dataframe tbody tr th:only-of-type {\n",
       "        vertical-align: middle;\n",
       "    }\n",
       "\n",
       "    .dataframe tbody tr th {\n",
       "        vertical-align: top;\n",
       "    }\n",
       "\n",
       "    .dataframe thead th {\n",
       "        text-align: right;\n",
       "    }\n",
       "</style>\n",
       "<table border=\"1\" class=\"dataframe\">\n",
       "  <thead>\n",
       "    <tr style=\"text-align: right;\">\n",
       "      <th></th>\n",
       "      <th>days</th>\n",
       "      <th>height</th>\n",
       "      <th>weight</th>\n",
       "      <th>gender</th>\n",
       "    </tr>\n",
       "  </thead>\n",
       "  <tbody>\n",
       "    <tr>\n",
       "      <th>0</th>\n",
       "      <td>0</td>\n",
       "      <td>52.0</td>\n",
       "      <td>3.78</td>\n",
       "      <td>1</td>\n",
       "    </tr>\n",
       "    <tr>\n",
       "      <th>1</th>\n",
       "      <td>0</td>\n",
       "      <td>52.0</td>\n",
       "      <td>3.78</td>\n",
       "      <td>1</td>\n",
       "    </tr>\n",
       "    <tr>\n",
       "      <th>2</th>\n",
       "      <td>0</td>\n",
       "      <td>50.0</td>\n",
       "      <td>3.20</td>\n",
       "      <td>1</td>\n",
       "    </tr>\n",
       "    <tr>\n",
       "      <th>3</th>\n",
       "      <td>1</td>\n",
       "      <td>51.0</td>\n",
       "      <td>2.45</td>\n",
       "      <td>1</td>\n",
       "    </tr>\n",
       "    <tr>\n",
       "      <th>4</th>\n",
       "      <td>1</td>\n",
       "      <td>50.0</td>\n",
       "      <td>2.80</td>\n",
       "      <td>1</td>\n",
       "    </tr>\n",
       "    <tr>\n",
       "      <th>...</th>\n",
       "      <td>...</td>\n",
       "      <td>...</td>\n",
       "      <td>...</td>\n",
       "      <td>...</td>\n",
       "    </tr>\n",
       "    <tr>\n",
       "      <th>79344</th>\n",
       "      <td>365</td>\n",
       "      <td>74.6</td>\n",
       "      <td>9.60</td>\n",
       "      <td>0</td>\n",
       "    </tr>\n",
       "    <tr>\n",
       "      <th>79345</th>\n",
       "      <td>365</td>\n",
       "      <td>74.6</td>\n",
       "      <td>8.60</td>\n",
       "      <td>0</td>\n",
       "    </tr>\n",
       "    <tr>\n",
       "      <th>79346</th>\n",
       "      <td>365</td>\n",
       "      <td>74.6</td>\n",
       "      <td>9.40</td>\n",
       "      <td>0</td>\n",
       "    </tr>\n",
       "    <tr>\n",
       "      <th>79347</th>\n",
       "      <td>365</td>\n",
       "      <td>74.6</td>\n",
       "      <td>9.40</td>\n",
       "      <td>0</td>\n",
       "    </tr>\n",
       "    <tr>\n",
       "      <th>79348</th>\n",
       "      <td>365</td>\n",
       "      <td>74.6</td>\n",
       "      <td>8.20</td>\n",
       "      <td>0</td>\n",
       "    </tr>\n",
       "  </tbody>\n",
       "</table>\n",
       "<p>79349 rows × 4 columns</p>\n",
       "</div>"
      ],
      "text/plain": [
       "       days  height  weight  gender\n",
       "0         0    52.0    3.78       1\n",
       "1         0    52.0    3.78       1\n",
       "2         0    50.0    3.20       1\n",
       "3         1    51.0    2.45       1\n",
       "4         1    50.0    2.80       1\n",
       "...     ...     ...     ...     ...\n",
       "79344   365    74.6    9.60       0\n",
       "79345   365    74.6    8.60       0\n",
       "79346   365    74.6    9.40       0\n",
       "79347   365    74.6    9.40       0\n",
       "79348   365    74.6    8.20       0\n",
       "\n",
       "[79349 rows x 4 columns]"
      ]
     },
     "execution_count": 3,
     "metadata": {},
     "output_type": "execute_result"
    }
   ],
   "source": [
    "baby_growth_df = pd.read_csv(\"./baby_growth_df.csv\")\n",
    "baby_growth_df"
   ]
  },
  {
   "cell_type": "code",
   "execution_count": 4,
   "metadata": {},
   "outputs": [],
   "source": [
    "from sklearn.model_selection import train_test_split\n",
    "from sklearn.linear_model import LinearRegression\n",
    "from sklearn.ensemble import RandomForestRegressor\n",
    "from xgboost import XGBRegressor\n",
    "from lightgbm import LGBMRegressor\n",
    "from sklearn.ensemble import GradientBoostingRegressor\n",
    "from sklearn.preprocessing import PolynomialFeatures\n",
    "from sklearn.model_selection import GridSearchCV\n",
    "from sklearn.metrics import mean_squared_error, mean_absolute_error, r2_score"
   ]
  },
  {
   "cell_type": "markdown",
   "metadata": {},
   "source": [
    "### height 예측 모델링"
   ]
  },
  {
   "cell_type": "code",
   "execution_count": 5,
   "metadata": {},
   "outputs": [],
   "source": [
    "# 독립 변수와 종속 변수 분리\n",
    "X = baby_growth_df[['days','gender']]\n",
    "y = baby_growth_df['height']\n",
    "\n",
    "# train/test 데이터 분리, 성별 비중 유지\n",
    "X_train, X_test, y_train, y_test = train_test_split(X, y, test_size=0.25, stratify=X['gender'], random_state=42)"
   ]
  },
  {
   "cell_type": "markdown",
   "metadata": {},
   "source": [
    "### (1) LinearRegression - height 예측 모델"
   ]
  },
  {
   "cell_type": "code",
   "execution_count": 6,
   "metadata": {},
   "outputs": [
    {
     "name": "stdout",
     "output_type": "stream",
     "text": [
      "R-squared: 0.9053437089619766\n",
      "LinearRegression MSE: 3.528196169173679\n",
      "훈련 세트 정확도: 0.905\n",
      "테스트 세트 정확도: 0.905\n"
     ]
    }
   ],
   "source": [
    "# linear regression 모델 학습\n",
    "lr_height = LinearRegression()\n",
    "lr_height.fit(X_train, y_train)\n",
    "\n",
    "# test 데이터로 예측\n",
    "y_pred = lr_height.predict(X_test)\n",
    "\n",
    "# 모델 성능 평가\n",
    "r2 = r2_score(y_test, y_pred)\n",
    "print('R-squared:', r2)\n",
    "\n",
    "# MSE 평가\n",
    "mse = mean_squared_error(y_test, y_pred)\n",
    "print(\"LinearRegression MSE:\", mse)\n",
    "\n",
    "# 정확도 평가\n",
    "print(\"훈련 세트 정확도: {:.3f}\".format(lr_height.score(X_train, y_train)))\n",
    "print(\"테스트 세트 정확도: {:.3f}\".format(lr_height.score(X_test, y_test)))"
   ]
  },
  {
   "cell_type": "markdown",
   "metadata": {},
   "source": [
    "### (1-1) 이차항 선형 회귀 - height 예측 모델"
   ]
  },
  {
   "cell_type": "code",
   "execution_count": 140,
   "metadata": {},
   "outputs": [
    {
     "name": "stdout",
     "output_type": "stream",
     "text": [
      "linearRegression2 Mean Squared Error: 0.6987426294820096\n",
      "훈련 세트 정확도: 0.981\n",
      "테스트 세트 정확도: 0.981\n"
     ]
    }
   ],
   "source": [
    "# 이차항 생성\n",
    "poly = PolynomialFeatures(degree=2, include_bias=False)\n",
    "X_poly_height = poly.fit_transform(X)\n",
    "\n",
    "# 데이터 분할\n",
    "X_train, X_test, y_train, y_test = train_test_split(X_poly_height, y, test_size=0.25, stratify=X['gender'], random_state=42)\n",
    "\n",
    "# 모델 학습\n",
    "lr2_height = LinearRegression()\n",
    "lr2_height.fit(X_train, y_train)\n",
    "\n",
    "# 예측\n",
    "y_pred = lr2_height.predict(X_test)\n",
    "\n",
    "# 평가\n",
    "mse = mean_squared_error(y_test, y_pred)\n",
    "print(\"linearRegression2 Mean Squared Error:\", mse)\n",
    "\n",
    "# 정확도 평가\n",
    "print(\"훈련 세트 정확도: {:.3f}\".format(lr2_height.score(X_train, y_train)))\n",
    "print(\"테스트 세트 정확도: {:.3f}\".format(lr2_height.score(X_test, y_test)))\n"
   ]
  },
  {
   "cell_type": "markdown",
   "metadata": {},
   "source": [
    "### (2) RandomForestRegressor - height 예측 모델"
   ]
  },
  {
   "cell_type": "code",
   "execution_count": 92,
   "metadata": {},
   "outputs": [
    {
     "name": "stdout",
     "output_type": "stream",
     "text": [
      "RandomForestRegressor Mean Squared Error: 0.25375292488684353\n",
      "훈련 세트 정확도: 0.993\n",
      "테스트 세트 정확도: 0.993\n"
     ]
    }
   ],
   "source": [
    "# RandomForestRegressor 모델 객체 생성\n",
    "rf_height = RandomForestRegressor(random_state=42)\n",
    "\n",
    "# 모델 학습\n",
    "rf_height.fit(X_train, y_train)\n",
    "\n",
    "# 모델 평가 - 예측값 생성\n",
    "y_pred = rf_height.predict(X_test)\n",
    "\n",
    "# 모델 평가 - 평균 제곱 오차 계산\n",
    "mse = mean_squared_error(y_test, y_pred)\n",
    "print(\"RandomForestRegressor Mean Squared Error:\", mse)\n",
    "\n",
    "# 정확도 평가\n",
    "print(\"훈련 세트 정확도: {:.3f}\".format(rf_height.score(X_train, y_train)))\n",
    "print(\"테스트 세트 정확도: {:.3f}\".format(rf_height.score(X_test, y_test)))"
   ]
  },
  {
   "cell_type": "markdown",
   "metadata": {},
   "source": [
    "### (3) XGBRegressor - height 예측 모델"
   ]
  },
  {
   "cell_type": "code",
   "execution_count": 93,
   "metadata": {},
   "outputs": [
    {
     "name": "stdout",
     "output_type": "stream",
     "text": [
      "xgboost MSE: 0.316\n",
      "xgboost MAE: 0.204\n",
      "xgboost R-squared: 0.992\n",
      "훈련 세트 정확도: 0.992\n",
      "테스트 세트 정확도: 0.992\n"
     ]
    }
   ],
   "source": [
    "# 모델 객체 생성\n",
    "xgb_height = XGBRegressor(objective='reg:squarederror', tree_method='hist', random_state=42)\n",
    "\n",
    "# 모델 학습\n",
    "xgb_height.fit(X_train, y_train)\n",
    "\n",
    "# 검증용 데이터를 사용하여 예측 수행\n",
    "y_pred = xgb_height.predict(X_test)\n",
    "\n",
    "# 모델 성능 평가\n",
    "mse = mean_squared_error(y_test, y_pred)\n",
    "mae = mean_absolute_error(y_test, y_pred)\n",
    "r2 = r2_score(y_test, y_pred)\n",
    "\n",
    "print(f\"xgboost MSE: {mse:.3f}\")\n",
    "print(f\"xgboost MAE: {mae:.3f}\")\n",
    "print(f\"xgboost R-squared: {r2:.3f}\")\n",
    "\n",
    "# 정확도 평가\n",
    "print(\"훈련 세트 정확도: {:.3f}\".format(xgb_height.score(X_train, y_train)))\n",
    "print(\"테스트 세트 정확도: {:.3f}\".format(xgb_height.score(X_test, y_test)))"
   ]
  },
  {
   "cell_type": "markdown",
   "metadata": {},
   "source": [
    "### RandomForestRegressor hyperparameter tuning"
   ]
  },
  {
   "cell_type": "code",
   "execution_count": 9,
   "metadata": {},
   "outputs": [
    {
     "name": "stdout",
     "output_type": "stream",
     "text": [
      "Best hyperparameters: {'max_depth': 20, 'min_samples_split': 2, 'n_estimators': 50}\n",
      "Best CV score: 0.2536826197356331\n",
      "Test MSE: 0.2537769441848588\n",
      "훈련 세트 정확도: 0.993\n",
      "테스트 세트 정확도: 0.993\n"
     ]
    }
   ],
   "source": [
    "# 하이퍼파라미터 후보 값들\n",
    "param_grid = {\n",
    "    'n_estimators': [50, 100, 200],\n",
    "    'max_depth': [5, 10, 20],\n",
    "    'min_samples_split': [2, 5, 10]\n",
    "}\n",
    "\n",
    "# GridSearchCV 수행\n",
    "rf_height = RandomForestRegressor(random_state=42)\n",
    "grid_search = GridSearchCV(rf_height, param_grid, cv=5, scoring='neg_mean_squared_error')\n",
    "grid_search.fit(X_train, y_train)\n",
    "\n",
    "# 최적의 하이퍼파라미터와 그 때의 성능 출력\n",
    "print(\"Best hyperparameters:\", grid_search.best_params_)\n",
    "print(\"Best CV score:\", -grid_search.best_score_)\n",
    "\n",
    "# 최적의 하이퍼파라미터로 모델 학습 및 평가\n",
    "rf_height_best = RandomForestRegressor(n_estimators=grid_search.best_params_['n_estimators'],\n",
    "                                 max_depth=grid_search.best_params_['max_depth'],\n",
    "                                 min_samples_split=grid_search.best_params_['min_samples_split'],\n",
    "                                 random_state=42)\n",
    "rf_height_best.fit(X_train, y_train)\n",
    "y_pred_rf = rf_height_best.predict(X_test)\n",
    "print(\"Test MSE:\", mean_squared_error(y_test, y_pred_rf))\n",
    "\n",
    "# 정확도 평가\n",
    "print(\"훈련 세트 정확도: {:.3f}\".format(rf_height_best.score(X_train, y_train)))\n",
    "print(\"테스트 세트 정확도: {:.3f}\".format(rf_height_best.score(X_test, y_test)))\n"
   ]
  },
  {
   "cell_type": "markdown",
   "metadata": {},
   "source": [
    "### (4) LightGBM - height 예측 모델"
   ]
  },
  {
   "cell_type": "code",
   "execution_count": 159,
   "metadata": {},
   "outputs": [
    {
     "name": "stdout",
     "output_type": "stream",
     "text": [
      "lightGBM MSE: 0.30606518685357387\n",
      "훈련 세트 정확도: 0.992\n",
      "테스트 세트 정확도: 0.992\n"
     ]
    }
   ],
   "source": [
    "# LightGBM 모델링\n",
    "lgbm_height = LGBMRegressor(random_state=42)\n",
    "lgbm_height.fit(X_train, y_train)\n",
    "\n",
    "# 예측값 생성\n",
    "y_pred = lgbm_height.predict(X_test)\n",
    "\n",
    "# MSE 평가\n",
    "mse = mean_squared_error(y_test, y_pred)\n",
    "print(\"lightGBM MSE:\", mse)\n",
    "\n",
    "# 정확도 평가\n",
    "print(\"훈련 세트 정확도: {:.3f}\".format(lgbm_height.score(X_train, y_train)))\n",
    "print(\"테스트 세트 정확도: {:.3f}\".format(lgbm_height.score(X_test, y_test)))"
   ]
  },
  {
   "cell_type": "markdown",
   "metadata": {},
   "source": [
    "### (5) GradientBoosting - height 예측 모델"
   ]
  },
  {
   "cell_type": "code",
   "execution_count": 95,
   "metadata": {},
   "outputs": [
    {
     "name": "stdout",
     "output_type": "stream",
     "text": [
      "GradientBoostingRegressor MSE: 0.35741078812332194\n",
      "훈련 세트 정확도: 0.990\n",
      "테스트 세트 정확도: 0.990\n"
     ]
    }
   ],
   "source": [
    "# Gradient Boosting 모델 학습\n",
    "gbr_height = GradientBoostingRegressor(random_state=42)\n",
    "gbr_height.fit(X_train, y_train)\n",
    "\n",
    "# 모델 예측\n",
    "y_pred = gbr_height.predict(X_test)\n",
    "\n",
    "# 모델 평가\n",
    "mse = mean_squared_error(y_test, y_pred)\n",
    "print(\"GradientBoostingRegressor MSE:\", mse)\n",
    "\n",
    "# 정확도 평가\n",
    "print(\"훈련 세트 정확도: {:.3f}\".format(gbr_height.score(X_train, y_train)))\n",
    "print(\"테스트 세트 정확도: {:.3f}\".format(gbr_height.score(X_test, y_test)))"
   ]
  },
  {
   "cell_type": "markdown",
   "metadata": {},
   "source": [
    "### Weight 예측 모델링"
   ]
  },
  {
   "cell_type": "code",
   "execution_count": 7,
   "metadata": {},
   "outputs": [],
   "source": [
    "# 독립 변수와 종속 변수 분리\n",
    "X_data = baby_growth_df[['days','gender','height']]\n",
    "y_target = baby_growth_df['weight']\n",
    "\n",
    "# train/test 데이터 분리, 성별 비중 유지\n",
    "X_train, X_test, y_train, y_test = train_test_split(X_data, y_target, test_size=0.25, stratify=X_data['gender'], random_state=42)"
   ]
  },
  {
   "cell_type": "code",
   "execution_count": 146,
   "metadata": {},
   "outputs": [
    {
     "name": "stdout",
     "output_type": "stream",
     "text": [
      "linearRegression2 Mean Squared Error: 0.3476746801007111\n",
      "훈련 세트 정확도: 0.890\n",
      "테스트 세트 정확도: 0.890\n"
     ]
    }
   ],
   "source": [
    "# 이차항 생성\n",
    "poly = PolynomialFeatures(degree=2, include_bias=False)\n",
    "X_poly_weight = poly.fit_transform(X_data)\n",
    "\n",
    "# 데이터 분할\n",
    "X_train, X_test, y_train, y_test = train_test_split(X_poly_weight, y_target, test_size=0.25, stratify=X_data['gender'], random_state=42)\n",
    "\n",
    "# 모델 학습\n",
    "lr2_weight = LinearRegression()\n",
    "lr2_weight.fit(X_train, y_train)\n",
    "\n",
    "# 예측\n",
    "y_pred = lr2_weight.predict(X_test)\n",
    "\n",
    "# 평가\n",
    "mse = mean_squared_error(y_test, y_pred)\n",
    "print(\"linearRegression2 Mean Squared Error:\", mse)\n",
    "\n",
    "# 정확도 평가\n",
    "print(\"훈련 세트 정확도: {:.3f}\".format(lr2_weight.score(X_train, y_train)))\n",
    "print(\"테스트 세트 정확도: {:.3f}\".format(lr2_weight.score(X_test, y_test)))\n"
   ]
  },
  {
   "cell_type": "markdown",
   "metadata": {},
   "source": [
    "### (1) RandomForestRegressor - weight 예측 모델"
   ]
  },
  {
   "cell_type": "code",
   "execution_count": 47,
   "metadata": {},
   "outputs": [
    {
     "name": "stdout",
     "output_type": "stream",
     "text": [
      "Best hyperparameters: {'max_depth': 10, 'min_samples_split': 10, 'n_estimators': 100}\n",
      "Best CV score: 0.3465750289982933\n",
      "Test MSE: 0.34468287750259985\n",
      "훈련 세트 정확도: 0.894\n",
      "테스트 세트 정확도: 0.891\n"
     ]
    },
    {
     "ename": "AttributeError",
     "evalue": "'RandomForestRegressor' object has no attribute 'oob_score_'",
     "output_type": "error",
     "traceback": [
      "\u001b[1;31m---------------------------------------------------------------------------\u001b[0m",
      "\u001b[1;31mAttributeError\u001b[0m                            Traceback (most recent call last)",
      "\u001b[1;32m~\\AppData\\Local\\Temp/ipykernel_29036/3489200801.py\u001b[0m in \u001b[0;36m<module>\u001b[1;34m\u001b[0m\n\u001b[0;32m     27\u001b[0m \u001b[0mprint\u001b[0m\u001b[1;33m(\u001b[0m\u001b[1;34m\"훈련 세트 정확도: {:.3f}\"\u001b[0m\u001b[1;33m.\u001b[0m\u001b[0mformat\u001b[0m\u001b[1;33m(\u001b[0m\u001b[0mrf_weight_best\u001b[0m\u001b[1;33m.\u001b[0m\u001b[0mscore\u001b[0m\u001b[1;33m(\u001b[0m\u001b[0mX_train\u001b[0m\u001b[1;33m,\u001b[0m \u001b[0my_train\u001b[0m\u001b[1;33m)\u001b[0m\u001b[1;33m)\u001b[0m\u001b[1;33m)\u001b[0m\u001b[1;33m\u001b[0m\u001b[1;33m\u001b[0m\u001b[0m\n\u001b[0;32m     28\u001b[0m \u001b[0mprint\u001b[0m\u001b[1;33m(\u001b[0m\u001b[1;34m\"테스트 세트 정확도: {:.3f}\"\u001b[0m\u001b[1;33m.\u001b[0m\u001b[0mformat\u001b[0m\u001b[1;33m(\u001b[0m\u001b[0mrf_weight_best\u001b[0m\u001b[1;33m.\u001b[0m\u001b[0mscore\u001b[0m\u001b[1;33m(\u001b[0m\u001b[0mX_test\u001b[0m\u001b[1;33m,\u001b[0m \u001b[0my_test\u001b[0m\u001b[1;33m)\u001b[0m\u001b[1;33m)\u001b[0m\u001b[1;33m)\u001b[0m\u001b[1;33m\u001b[0m\u001b[1;33m\u001b[0m\u001b[0m\n\u001b[1;32m---> 29\u001b[1;33m \u001b[0mprint\u001b[0m\u001b[1;33m(\u001b[0m\u001b[1;34m\"OOB 샘플의 정확도: {:.3f}\"\u001b[0m\u001b[1;33m.\u001b[0m\u001b[0mformat\u001b[0m\u001b[1;33m(\u001b[0m\u001b[0mrf_weight_best\u001b[0m\u001b[1;33m.\u001b[0m\u001b[0moob_score_\u001b[0m\u001b[1;33m)\u001b[0m\u001b[1;33m)\u001b[0m\u001b[1;33m\u001b[0m\u001b[1;33m\u001b[0m\u001b[0m\n\u001b[0m",
      "\u001b[1;31mAttributeError\u001b[0m: 'RandomForestRegressor' object has no attribute 'oob_score_'"
     ]
    }
   ],
   "source": [
    "# 하이퍼파라미터 후보 값들\n",
    "param_grid = {\n",
    "    'n_estimators': [50, 100, 200],\n",
    "    'max_depth': [5, 10, 20],\n",
    "    'min_samples_split': [2, 5, 10]\n",
    "}\n",
    "\n",
    "# GridSearchCV 수행\n",
    "rf_weight = RandomForestRegressor(random_state=42)\n",
    "grid_search = GridSearchCV(rf_weight, param_grid, cv=5, scoring='neg_mean_squared_error')\n",
    "grid_search.fit(X_train, y_train)\n",
    "\n",
    "# 최적의 하이퍼파라미터와 그 때의 성능 출력\n",
    "print(\"Best hyperparameters:\", grid_search.best_params_)\n",
    "print(\"Best CV score:\", -grid_search.best_score_)\n",
    "\n",
    "# 최적의 하이퍼파라미터로 모델 학습 및 평가\n",
    "rf_weight_best = RandomForestRegressor(n_estimators=grid_search.best_params_['n_estimators'],\n",
    "                                 max_depth=grid_search.best_params_['max_depth'],\n",
    "                                 min_samples_split=grid_search.best_params_['min_samples_split'],\n",
    "                                 random_state=42)\n",
    "rf_weight_best.fit(X_train, y_train)\n",
    "y_pred_rf = rf_weight_best.predict(X_test)\n",
    "print(\"Test MSE:\", mean_squared_error(y_test, y_pred_rf))\n",
    "\n",
    "# 정확도 평가\n",
    "print(\"훈련 세트 정확도: {:.3f}\".format(rf_weight_best.score(X_train, y_train)))\n",
    "print(\"테스트 세트 정확도: {:.3f}\".format(rf_weight_best.score(X_test, y_test)))\n"
   ]
  },
  {
   "cell_type": "markdown",
   "metadata": {},
   "source": [
    "### (2) LinearRegressor - weight 예측 모델"
   ]
  },
  {
   "cell_type": "code",
   "execution_count": 8,
   "metadata": {},
   "outputs": [
    {
     "name": "stdout",
     "output_type": "stream",
     "text": [
      "훈련 세트 정확도: 0.885\n",
      "테스트 세트 정확도: 0.885\n"
     ]
    }
   ],
   "source": [
    "lr_weight = LinearRegression()\n",
    "\n",
    "lr_weight.fit(X_train, y_train)\n",
    "lr_weight.score(X_test, y_test)\n",
    "\n",
    "print(\"훈련 세트 정확도: {:.3f}\".format(lr_weight.score(X_train, y_train)))\n",
    "print(\"테스트 세트 정확도: {:.3f}\".format(lr_weight.score(X_test, y_test)))"
   ]
  },
  {
   "cell_type": "markdown",
   "metadata": {},
   "source": [
    "### (3) GradientBoostingRegressor - weight 예측 모델"
   ]
  },
  {
   "cell_type": "code",
   "execution_count": 98,
   "metadata": {},
   "outputs": [
    {
     "name": "stdout",
     "output_type": "stream",
     "text": [
      "훈련 세트 정확도: 0.892\n",
      "테스트 세트 정확도: 0.891\n"
     ]
    }
   ],
   "source": [
    "gbr_weight = GradientBoostingRegressor()\n",
    "\n",
    "gbr_weight.fit(X_train, y_train)\n",
    "\n",
    "# 평가\n",
    "print(\"훈련 세트 정확도: {:.3f}\".format(gbr_weight.score(X_train, y_train)))\n",
    "print(\"테스트 세트 정확도: {:.3f}\".format(gbr_weight.score(X_test, y_test)))"
   ]
  },
  {
   "cell_type": "markdown",
   "metadata": {},
   "source": [
    "### (4) lightGBM - weight 예측 모델"
   ]
  },
  {
   "cell_type": "code",
   "execution_count": 161,
   "metadata": {},
   "outputs": [
    {
     "name": "stdout",
     "output_type": "stream",
     "text": [
      "lightGBM MSE: 0.34462365868841655\n",
      "훈련 세트 정확도: 0.893\n",
      "테스트 세트 정확도: 0.891\n"
     ]
    }
   ],
   "source": [
    "# LightGBM 모델링\n",
    "lgbm_weight = LGBMRegressor(random_state=42)\n",
    "lgbm_weight.fit(X_train, y_train)\n",
    "\n",
    "# 예측값 생성\n",
    "y_pred = lgbm_weight.predict(X_test)\n",
    "\n",
    "# MSE 평가\n",
    "mse = mean_squared_error(y_test, y_pred)\n",
    "print(\"lightGBM MSE:\", mse)\n",
    "\n",
    "# 정확도 평가\n",
    "print(\"훈련 세트 정확도: {:.3f}\".format(lgbm_weight.score(X_train, y_train)))\n",
    "print(\"테스트 세트 정확도: {:.3f}\".format(lgbm_weight.score(X_test, y_test)))"
   ]
  },
  {
   "cell_type": "code",
   "execution_count": 9,
   "metadata": {},
   "outputs": [
    {
     "name": "stdout",
     "output_type": "stream",
     "text": [
      "생후 일 수를 입력하세요: 70\n",
      "아기의 현재 키를 입력하세요 (단위: cm): 68\n",
      "아기의 현재 몸무게를 입력하세요 (단위: kg): 4.8\n",
      "아기의 성별을 입력하세요 (F/M): F\n",
      "아기의 1개월 뒤 예상 키는 60.3cm 입니다.\n",
      "아기의 3개월 뒤 예상 키는 65.3cm 입니다.\n",
      "아기의 6개월 뒤 예상 키는 72.7cm 입니다.\n",
      "아기의 1개월 뒤 예상 몸무게는 6.1kg 입니다.\n",
      "아기의 3개월 뒤 예상 몸무게는 7.4kg 입니다.\n",
      "아기의 6개월 뒤 예상 몸무게는 9.4kg 입니다.\n"
     ]
    }
   ],
   "source": [
    "# 사용자로부터 데이터 입력받기\n",
    "input_days = int(input(\"생후 일 수를 입력하세요: \"))\n",
    "input_height = float(input(\"아기의 현재 키를 입력하세요 (단위: cm): \"))\n",
    "input_weight = float(input(\"아기의 현재 몸무게를 입력하세요 (단위: kg): \"))\n",
    "input_gender = input(\"아기의 성별을 입력하세요 (F/M): \")\n",
    "\n",
    "# 입력받은 데이터로 1개월, 3개월, 6개월 뒤의 키 예측\n",
    "if input_gender == 'F':\n",
    "    gender = 0\n",
    "elif input_gender == 'M':\n",
    "    gender = 1\n",
    "else:\n",
    "    print(\"성별은 'F' 또는 'M' 중에서 입력해주세요.\")\n",
    "    exit()\n",
    "\n",
    "\n",
    "# polynomial regression\n",
    "#one_month_pred_height = lr2_height.predict([[(input_days+30)**2, (input_days + 30), gender]])\n",
    "#three_month_pred_height = lr2_height.predict(np.array([[((input_days+90)**2), (input_days+90), gender]])) \n",
    "#six_month_pred_height = lr2_height.predict(np.array([[((input_days+180)**2), (input_days+180), gender]])) \n",
    "\n",
    "#one_month_pred_weight = lr2_weight.predict(np.array([[((input_days+30)**2), (input_days+30), gender, one_month_pred_height]]))\n",
    "#three_month_pred_weight = lr2_weight.predict(np.array([[((input_days+90)**2), (input_days+90), gender, three_month_pred_height]])) \n",
    "#six_month_pred_weight = lr2_weight.predict(np.array([[((input_days+180)**2), (input_days+180), gender, six_month_pred_height]])) \n",
    "one_month_pred_height = lr_height.predict([[input_days+30, gender]])\n",
    "three_month_pred_height = lr_height.predict([[input_days+90, gender]])\n",
    "six_month_pred_height = lr_height.predict([[input_days+180, gender]])\n",
    "\n",
    "one_month_pred_weight = lr_weight.predict([[input_days+30, gender, one_month_pred_height]])\n",
    "three_month_pred_weight = lr_weight.predict([[input_days+90, gender, three_month_pred_height]])\n",
    "six_month_pred_weight = lr_weight.predict([[input_days+180, gender, six_month_pred_height]])\n",
    "\n",
    "\n",
    "# 결과 출력\n",
    "print(f\"아기의 1개월 뒤 예상 키는 {one_month_pred_height[0]:.1f}cm 입니다.\")\n",
    "print(f\"아기의 3개월 뒤 예상 키는 {three_month_pred_height[0]:.1f}cm 입니다.\")\n",
    "print(f\"아기의 6개월 뒤 예상 키는 {six_month_pred_height[0]:.1f}cm 입니다.\")\n",
    "print(f\"아기의 1개월 뒤 예상 몸무게는 {one_month_pred_weight[0]:.1f}kg 입니다.\")\n",
    "print(f\"아기의 3개월 뒤 예상 몸무게는 {three_month_pred_weight[0]:.1f}kg 입니다.\")\n",
    "print(f\"아기의 6개월 뒤 예상 몸무게는 {six_month_pred_weight[0]:.1f}kg 입니다.\")"
   ]
  },
  {
   "cell_type": "code",
   "execution_count": 10,
   "metadata": {},
   "outputs": [],
   "source": [
    "# 독립 변수와 종속 변수 분리\n",
    "X = baby_growth_df[['days','gender']]\n",
    "y = baby_growth_df['height']\n",
    "\n",
    "# train/test 데이터 분리, 성별 비중 유지\n",
    "X_train, X_test, y_train, y_test = train_test_split(X, y, test_size=0.25, stratify=X['gender'], random_state=42)"
   ]
  },
  {
   "cell_type": "code",
   "execution_count": 11,
   "metadata": {},
   "outputs": [
    {
     "data": {
      "text/plain": [
       "[68.0,\n",
       " 57.9,\n",
       " 57.98,\n",
       " 58.06,\n",
       " 58.15,\n",
       " 58.23,\n",
       " 58.31,\n",
       " 58.39,\n",
       " 58.48,\n",
       " 58.56,\n",
       " 58.64,\n",
       " 58.72,\n",
       " 58.81,\n",
       " 58.89,\n",
       " 58.97,\n",
       " 59.06,\n",
       " 59.14,\n",
       " 59.22,\n",
       " 59.3,\n",
       " 59.39,\n",
       " 59.47,\n",
       " 59.55,\n",
       " 59.63,\n",
       " 59.72,\n",
       " 59.8,\n",
       " 59.88,\n",
       " 59.97,\n",
       " 60.05,\n",
       " 60.13,\n",
       " 60.21,\n",
       " 60.3,\n",
       " 60.38,\n",
       " 60.46,\n",
       " 60.54,\n",
       " 60.63,\n",
       " 60.71,\n",
       " 60.79,\n",
       " 60.88,\n",
       " 60.96,\n",
       " 61.04,\n",
       " 61.12,\n",
       " 61.21,\n",
       " 61.29,\n",
       " 61.37,\n",
       " 61.45,\n",
       " 61.54,\n",
       " 61.62,\n",
       " 61.7,\n",
       " 61.79,\n",
       " 61.87,\n",
       " 61.95,\n",
       " 62.03,\n",
       " 62.12,\n",
       " 62.2,\n",
       " 62.28,\n",
       " 62.36,\n",
       " 62.45,\n",
       " 62.53,\n",
       " 62.61,\n",
       " 62.7,\n",
       " 62.78,\n",
       " 62.86,\n",
       " 62.94,\n",
       " 63.03,\n",
       " 63.11,\n",
       " 63.19,\n",
       " 63.27,\n",
       " 63.36,\n",
       " 63.44,\n",
       " 63.52,\n",
       " 63.61,\n",
       " 63.69,\n",
       " 63.77,\n",
       " 63.85,\n",
       " 63.94,\n",
       " 64.02,\n",
       " 64.1,\n",
       " 64.18,\n",
       " 64.27,\n",
       " 64.35,\n",
       " 64.43,\n",
       " 64.52,\n",
       " 64.6,\n",
       " 64.68,\n",
       " 64.76,\n",
       " 64.85,\n",
       " 64.93,\n",
       " 65.01,\n",
       " 65.1,\n",
       " 65.18,\n",
       " 65.26,\n",
       " 65.34,\n",
       " 65.43,\n",
       " 65.51,\n",
       " 65.59,\n",
       " 65.67,\n",
       " 65.76,\n",
       " 65.84,\n",
       " 65.92,\n",
       " 66.01,\n",
       " 66.09,\n",
       " 66.17,\n",
       " 66.25,\n",
       " 66.34,\n",
       " 66.42,\n",
       " 66.5,\n",
       " 66.58,\n",
       " 66.67,\n",
       " 66.75,\n",
       " 66.83,\n",
       " 66.92,\n",
       " 67.0,\n",
       " 67.08,\n",
       " 67.16,\n",
       " 67.25,\n",
       " 67.33,\n",
       " 67.41,\n",
       " 67.49,\n",
       " 67.58,\n",
       " 67.66,\n",
       " 67.74,\n",
       " 67.83,\n",
       " 67.91,\n",
       " 67.99,\n",
       " 68.07,\n",
       " 68.16,\n",
       " 68.24,\n",
       " 68.32,\n",
       " 68.4,\n",
       " 68.49,\n",
       " 68.57,\n",
       " 68.65,\n",
       " 68.74,\n",
       " 68.82,\n",
       " 68.9,\n",
       " 68.98,\n",
       " 69.07,\n",
       " 69.15,\n",
       " 69.23,\n",
       " 69.31,\n",
       " 69.4,\n",
       " 69.48,\n",
       " 69.56,\n",
       " 69.65,\n",
       " 69.73,\n",
       " 69.81,\n",
       " 69.89,\n",
       " 69.98,\n",
       " 70.06,\n",
       " 70.14,\n",
       " 70.22,\n",
       " 70.31,\n",
       " 70.39,\n",
       " 70.47,\n",
       " 70.56,\n",
       " 70.64,\n",
       " 70.72,\n",
       " 70.8,\n",
       " 70.89,\n",
       " 70.97,\n",
       " 71.05,\n",
       " 71.13,\n",
       " 71.22,\n",
       " 71.3,\n",
       " 71.38,\n",
       " 71.47,\n",
       " 71.55,\n",
       " 71.63,\n",
       " 71.71,\n",
       " 71.8,\n",
       " 71.88,\n",
       " 71.96,\n",
       " 72.04,\n",
       " 72.13,\n",
       " 72.21,\n",
       " 72.29,\n",
       " 72.38,\n",
       " 72.46,\n",
       " 72.54,\n",
       " 72.62,\n",
       " 72.71]"
      ]
     },
     "execution_count": 11,
     "metadata": {},
     "output_type": "execute_result"
    }
   ],
   "source": [
    "# for height graph\n",
    "graph_height = [input_height] # 0일 뒤 키 == 현재 입력 키\n",
    "x_height_days = list(range(1,181)) # 1일 뒤부터 180일 뒤 까지\n",
    "for i in range(1,181):\n",
    "    graph_height.append(round(lr_height.predict([[input_days + i, gender]])[0],2))\n",
    "graph_height\n"
   ]
  },
  {
   "cell_type": "code",
   "execution_count": 12,
   "metadata": {},
   "outputs": [
    {
     "data": {
      "text/plain": [
       "[4.8,\n",
       " 5.41,\n",
       " 5.43,\n",
       " 5.45,\n",
       " 5.47,\n",
       " 5.5,\n",
       " 5.52,\n",
       " 5.54,\n",
       " 5.56,\n",
       " 5.59,\n",
       " 5.61,\n",
       " 5.63,\n",
       " 5.65,\n",
       " 5.68,\n",
       " 5.7,\n",
       " 5.72,\n",
       " 5.74,\n",
       " 5.77,\n",
       " 5.79,\n",
       " 5.81,\n",
       " 5.83,\n",
       " 5.85,\n",
       " 5.88,\n",
       " 5.9,\n",
       " 5.92,\n",
       " 5.94,\n",
       " 5.97,\n",
       " 5.99,\n",
       " 6.01,\n",
       " 6.03,\n",
       " 6.06,\n",
       " 6.08,\n",
       " 6.1,\n",
       " 6.12,\n",
       " 6.15,\n",
       " 6.17,\n",
       " 6.19,\n",
       " 6.22,\n",
       " 6.24,\n",
       " 6.26,\n",
       " 6.28,\n",
       " 6.31,\n",
       " 6.33,\n",
       " 6.35,\n",
       " 6.37,\n",
       " 6.4,\n",
       " 6.42,\n",
       " 6.44,\n",
       " 6.46,\n",
       " 6.49,\n",
       " 6.51,\n",
       " 6.53,\n",
       " 6.55,\n",
       " 6.58,\n",
       " 6.6,\n",
       " 6.62,\n",
       " 6.64,\n",
       " 6.67,\n",
       " 6.69,\n",
       " 6.71,\n",
       " 6.73,\n",
       " 6.76,\n",
       " 6.78,\n",
       " 6.8,\n",
       " 6.82,\n",
       " 6.85,\n",
       " 6.87,\n",
       " 6.89,\n",
       " 6.91,\n",
       " 6.93,\n",
       " 6.96,\n",
       " 6.98,\n",
       " 7.0,\n",
       " 7.02,\n",
       " 7.05,\n",
       " 7.07,\n",
       " 7.09,\n",
       " 7.11,\n",
       " 7.14,\n",
       " 7.16,\n",
       " 7.18,\n",
       " 7.21,\n",
       " 7.23,\n",
       " 7.25,\n",
       " 7.27,\n",
       " 7.3,\n",
       " 7.32,\n",
       " 7.34,\n",
       " 7.36,\n",
       " 7.39,\n",
       " 7.41,\n",
       " 7.43,\n",
       " 7.45,\n",
       " 7.48,\n",
       " 7.5,\n",
       " 7.52,\n",
       " 7.54,\n",
       " 7.57,\n",
       " 7.59,\n",
       " 7.61,\n",
       " 7.63,\n",
       " 7.66,\n",
       " 7.68,\n",
       " 7.7,\n",
       " 7.72,\n",
       " 7.75,\n",
       " 7.77,\n",
       " 7.79,\n",
       " 7.81,\n",
       " 7.84,\n",
       " 7.86,\n",
       " 7.88,\n",
       " 7.9,\n",
       " 7.92,\n",
       " 7.95,\n",
       " 7.97,\n",
       " 7.99,\n",
       " 8.01,\n",
       " 8.04,\n",
       " 8.06,\n",
       " 8.08,\n",
       " 8.11,\n",
       " 8.13,\n",
       " 8.15,\n",
       " 8.17,\n",
       " 8.2,\n",
       " 8.22,\n",
       " 8.24,\n",
       " 8.26,\n",
       " 8.29,\n",
       " 8.31,\n",
       " 8.33,\n",
       " 8.35,\n",
       " 8.38,\n",
       " 8.4,\n",
       " 8.42,\n",
       " 8.44,\n",
       " 8.47,\n",
       " 8.49,\n",
       " 8.51,\n",
       " 8.53,\n",
       " 8.56,\n",
       " 8.58,\n",
       " 8.6,\n",
       " 8.62,\n",
       " 8.65,\n",
       " 8.67,\n",
       " 8.69,\n",
       " 8.71,\n",
       " 8.74,\n",
       " 8.76,\n",
       " 8.78,\n",
       " 8.8,\n",
       " 8.83,\n",
       " 8.85,\n",
       " 8.87,\n",
       " 8.89,\n",
       " 8.92,\n",
       " 8.94,\n",
       " 8.96,\n",
       " 8.98,\n",
       " 9.0,\n",
       " 9.03,\n",
       " 9.05,\n",
       " 9.07,\n",
       " 9.1,\n",
       " 9.12,\n",
       " 9.14,\n",
       " 9.16,\n",
       " 9.19,\n",
       " 9.21,\n",
       " 9.23,\n",
       " 9.25,\n",
       " 9.28,\n",
       " 9.3,\n",
       " 9.32,\n",
       " 9.35,\n",
       " 9.37,\n",
       " 9.39,\n",
       " 9.41,\n",
       " 9.43]"
      ]
     },
     "execution_count": 12,
     "metadata": {},
     "output_type": "execute_result"
    }
   ],
   "source": [
    "# for weight graph\n",
    "graph_weight = [input_weight] # 0일 뒤 몸무게 == 현재 입력 몸무게\n",
    "x_weight_days = list(range(1,181)) # 1일 뒤부터 180일 뒤 까지\n",
    "for i in range(1,181):\n",
    "    graph_weight.append(round(lr_weight.predict([[input_days + i, gender, graph_height[i]]])[0], 2))\n",
    "graph_weight\n"
   ]
  },
  {
   "cell_type": "code",
   "execution_count": null,
   "metadata": {},
   "outputs": [],
   "source": []
  }
 ],
 "metadata": {
  "kernelspec": {
   "display_name": "Python 3 (ipykernel)",
   "language": "python",
   "name": "python3"
  },
  "language_info": {
   "codemirror_mode": {
    "name": "ipython",
    "version": 3
   },
   "file_extension": ".py",
   "mimetype": "text/x-python",
   "name": "python",
   "nbconvert_exporter": "python",
   "pygments_lexer": "ipython3",
   "version": "3.9.15"
  }
 },
 "nbformat": 4,
 "nbformat_minor": 2
}

{
 "cells": [
  {
   "cell_type": "code",
   "execution_count": 1,
   "id": "6c56580b",
   "metadata": {},
   "outputs": [],
   "source": [
    "from sklearn.impute import KNNImputer\n",
    "import pandas as pd\n",
    "import numpy as np\n",
    "import ast\n",
    "import warnings\n",
    "import matplotlib.pyplot as plt\n",
    "\n",
    "warnings.filterwarnings(action='ignore')"
   ]
  },
  {
   "cell_type": "code",
   "execution_count": 2,
   "id": "3eaf401e",
   "metadata": {},
   "outputs": [],
   "source": [
    "baby_df = pd.read_csv(\"./babyInfo.csv\")\n",
    "# 데이터 불러오기"
   ]
  },
  {
   "cell_type": "code",
   "execution_count": 3,
   "id": "ce34e2aa",
   "metadata": {},
   "outputs": [],
   "source": [
    "baby_growth_df = baby_df.dropna(subset=['growth','gender']) \n",
    "# growth, gender 결측치 제거"
   ]
  },
  {
   "cell_type": "code",
   "execution_count": 4,
   "id": "753c159e",
   "metadata": {},
   "outputs": [],
   "source": [
    "baby_growth_df['growth'] = baby_growth_df['growth'].apply(ast.literal_eval) \n",
    "# 문자열 -> 딕셔너리 형태로 변환\n",
    "baby_growth_df['height'] = baby_growth_df['growth'].apply(lambda x: x.get('height', {}).get('value', None))\n",
    "baby_growth_df['weight'] = baby_growth_df['growth'].apply(lambda x: x.get('weight', {}).get('value', None))"
   ]
  },
  {
   "cell_type": "code",
   "execution_count": 5,
   "id": "8cbe884e",
   "metadata": {},
   "outputs": [
    {
     "data": {
      "text/html": [
       "<div>\n",
       "<style scoped>\n",
       "    .dataframe tbody tr th:only-of-type {\n",
       "        vertical-align: middle;\n",
       "    }\n",
       "\n",
       "    .dataframe tbody tr th {\n",
       "        vertical-align: top;\n",
       "    }\n",
       "\n",
       "    .dataframe thead th {\n",
       "        text-align: right;\n",
       "    }\n",
       "</style>\n",
       "<table border=\"1\" class=\"dataframe\">\n",
       "  <thead>\n",
       "    <tr style=\"text-align: right;\">\n",
       "      <th></th>\n",
       "      <th>_id</th>\n",
       "      <th>days</th>\n",
       "      <th>desc</th>\n",
       "      <th>gender</th>\n",
       "      <th>__v</th>\n",
       "      <th>growth</th>\n",
       "      <th>height</th>\n",
       "      <th>weight</th>\n",
       "    </tr>\n",
       "  </thead>\n",
       "  <tbody>\n",
       "    <tr>\n",
       "      <th>2239</th>\n",
       "      <td>63490ebc4f30a39628aefdc9</td>\n",
       "      <td>19</td>\n",
       "      <td>어찌저찌 어제보다는 오늘 한결 수월하다!\\n그래도 할일은 너무 많고\\n너가 울면 어...</td>\n",
       "      <td>M</td>\n",
       "      <td>0</td>\n",
       "      <td>{'head': {'value': 37, 'unit': 'cm', 'std': 37}}</td>\n",
       "      <td>NaN</td>\n",
       "      <td>NaN</td>\n",
       "    </tr>\n",
       "    <tr>\n",
       "      <th>6393</th>\n",
       "      <td>63a96fee0ec395c9ce32feb3</td>\n",
       "      <td>54</td>\n",
       "      <td>NaN</td>\n",
       "      <td>M</td>\n",
       "      <td>0</td>\n",
       "      <td>{'head': {'value': 39, 'unit': 'cm', 'std': 39}}</td>\n",
       "      <td>NaN</td>\n",
       "      <td>NaN</td>\n",
       "    </tr>\n",
       "    <tr>\n",
       "      <th>9350</th>\n",
       "      <td>6325346f204f507df3e5a1b3</td>\n",
       "      <td>78</td>\n",
       "      <td>78일차 아가 성장표\\n\\n🎀모빌도 좋아하지만 이제는 아기체육관을 더 좋아함\\n🎀잘...</td>\n",
       "      <td>F</td>\n",
       "      <td>0</td>\n",
       "      <td>{'head': {'value': 41, 'unit': 'cm', 'std': 41}}</td>\n",
       "      <td>NaN</td>\n",
       "      <td>NaN</td>\n",
       "    </tr>\n",
       "    <tr>\n",
       "      <th>9414</th>\n",
       "      <td>638bd1daffe5f9567ae18982</td>\n",
       "      <td>79</td>\n",
       "      <td>🤎11시간 통잠 4일차 \\n🤎밤잠 시작 시간을 7:30pm으로 본인이 정한 듯함\\n...</td>\n",
       "      <td>F</td>\n",
       "      <td>0</td>\n",
       "      <td>{'head': {'value': 39, 'unit': 'cm', 'std': 39}}</td>\n",
       "      <td>NaN</td>\n",
       "      <td>NaN</td>\n",
       "    </tr>\n",
       "    <tr>\n",
       "      <th>9920</th>\n",
       "      <td>63639f4e7382e0031c9b5560</td>\n",
       "      <td>83</td>\n",
       "      <td>NaN</td>\n",
       "      <td>M</td>\n",
       "      <td>0</td>\n",
       "      <td>{'head': {'value': 39.6, 'unit': 'cm', 'std': ...</td>\n",
       "      <td>NaN</td>\n",
       "      <td>NaN</td>\n",
       "    </tr>\n",
       "    <tr>\n",
       "      <th>...</th>\n",
       "      <td>...</td>\n",
       "      <td>...</td>\n",
       "      <td>...</td>\n",
       "      <td>...</td>\n",
       "      <td>...</td>\n",
       "      <td>...</td>\n",
       "      <td>...</td>\n",
       "      <td>...</td>\n",
       "    </tr>\n",
       "    <tr>\n",
       "      <th>223985</th>\n",
       "      <td>590c7241b9ede03a5c586eb9</td>\n",
       "      <td>131</td>\n",
       "      <td>NaN</td>\n",
       "      <td>M</td>\n",
       "      <td>0</td>\n",
       "      <td>{'head': {'std': 43, 'value': 43, 'unit': 'cm'}}</td>\n",
       "      <td>NaN</td>\n",
       "      <td>NaN</td>\n",
       "    </tr>\n",
       "    <tr>\n",
       "      <th>224346</th>\n",
       "      <td>61080e04babd662a6282d83c</td>\n",
       "      <td>132</td>\n",
       "      <td>NaN</td>\n",
       "      <td>M</td>\n",
       "      <td>0</td>\n",
       "      <td>{'head': {'value': 42.5, 'unit': 'cm', 'std': ...</td>\n",
       "      <td>NaN</td>\n",
       "      <td>NaN</td>\n",
       "    </tr>\n",
       "    <tr>\n",
       "      <th>225178</th>\n",
       "      <td>59bfb0b41787fa4328598fe9</td>\n",
       "      <td>132</td>\n",
       "      <td>NaN</td>\n",
       "      <td>M</td>\n",
       "      <td>0</td>\n",
       "      <td>{'head': {'unit': 'cm', 'value': 43, 'std': 43}}</td>\n",
       "      <td>NaN</td>\n",
       "      <td>NaN</td>\n",
       "    </tr>\n",
       "    <tr>\n",
       "      <th>226391</th>\n",
       "      <td>5a1cb41c01a81b7476aa0877</td>\n",
       "      <td>133</td>\n",
       "      <td>NaN</td>\n",
       "      <td>M</td>\n",
       "      <td>0</td>\n",
       "      <td>{'head': {'value': 42.9, 'unit': 'cm', 'std': ...</td>\n",
       "      <td>NaN</td>\n",
       "      <td>NaN</td>\n",
       "    </tr>\n",
       "    <tr>\n",
       "      <th>227432</th>\n",
       "      <td>5c7924b0f69662488be8eea4</td>\n",
       "      <td>134</td>\n",
       "      <td>누워서 낮잠도 예쁘게 잘자고 잘놀고 이쁜짓을 많이 해서 할아버지가 하루종일 이쁘다고...</td>\n",
       "      <td>F</td>\n",
       "      <td>0</td>\n",
       "      <td>{'head': {'std': 42, 'value': 42, 'unit': 'cm'}}</td>\n",
       "      <td>NaN</td>\n",
       "      <td>NaN</td>\n",
       "    </tr>\n",
       "  </tbody>\n",
       "</table>\n",
       "<p>219 rows × 8 columns</p>\n",
       "</div>"
      ],
      "text/plain": [
       "                             _id  days  \\\n",
       "2239    63490ebc4f30a39628aefdc9    19   \n",
       "6393    63a96fee0ec395c9ce32feb3    54   \n",
       "9350    6325346f204f507df3e5a1b3    78   \n",
       "9414    638bd1daffe5f9567ae18982    79   \n",
       "9920    63639f4e7382e0031c9b5560    83   \n",
       "...                          ...   ...   \n",
       "223985  590c7241b9ede03a5c586eb9   131   \n",
       "224346  61080e04babd662a6282d83c   132   \n",
       "225178  59bfb0b41787fa4328598fe9   132   \n",
       "226391  5a1cb41c01a81b7476aa0877   133   \n",
       "227432  5c7924b0f69662488be8eea4   134   \n",
       "\n",
       "                                                     desc gender  __v  \\\n",
       "2239    어찌저찌 어제보다는 오늘 한결 수월하다!\\n그래도 할일은 너무 많고\\n너가 울면 어...      M    0   \n",
       "6393                                                  NaN      M    0   \n",
       "9350    78일차 아가 성장표\\n\\n🎀모빌도 좋아하지만 이제는 아기체육관을 더 좋아함\\n🎀잘...      F    0   \n",
       "9414    🤎11시간 통잠 4일차 \\n🤎밤잠 시작 시간을 7:30pm으로 본인이 정한 듯함\\n...      F    0   \n",
       "9920                                                  NaN      M    0   \n",
       "...                                                   ...    ...  ...   \n",
       "223985                                                NaN      M    0   \n",
       "224346                                                NaN      M    0   \n",
       "225178                                                NaN      M    0   \n",
       "226391                                                NaN      M    0   \n",
       "227432  누워서 낮잠도 예쁘게 잘자고 잘놀고 이쁜짓을 많이 해서 할아버지가 하루종일 이쁘다고...      F    0   \n",
       "\n",
       "                                                   growth  height  weight  \n",
       "2239     {'head': {'value': 37, 'unit': 'cm', 'std': 37}}     NaN     NaN  \n",
       "6393     {'head': {'value': 39, 'unit': 'cm', 'std': 39}}     NaN     NaN  \n",
       "9350     {'head': {'value': 41, 'unit': 'cm', 'std': 41}}     NaN     NaN  \n",
       "9414     {'head': {'value': 39, 'unit': 'cm', 'std': 39}}     NaN     NaN  \n",
       "9920    {'head': {'value': 39.6, 'unit': 'cm', 'std': ...     NaN     NaN  \n",
       "...                                                   ...     ...     ...  \n",
       "223985   {'head': {'std': 43, 'value': 43, 'unit': 'cm'}}     NaN     NaN  \n",
       "224346  {'head': {'value': 42.5, 'unit': 'cm', 'std': ...     NaN     NaN  \n",
       "225178   {'head': {'unit': 'cm', 'value': 43, 'std': 43}}     NaN     NaN  \n",
       "226391  {'head': {'value': 42.9, 'unit': 'cm', 'std': ...     NaN     NaN  \n",
       "227432   {'head': {'std': 42, 'value': 42, 'unit': 'cm'}}     NaN     NaN  \n",
       "\n",
       "[219 rows x 8 columns]"
      ]
     },
     "execution_count": 5,
     "metadata": {},
     "output_type": "execute_result"
    }
   ],
   "source": [
    "baby_growth_df[baby_growth_df['weight'].isna() & baby_growth_df['height'].isna()] \n",
    "# height,weight 둘 다 결측치인 행 확인"
   ]
  },
  {
   "cell_type": "code",
   "execution_count": 6,
   "id": "5a538e12",
   "metadata": {},
   "outputs": [],
   "source": [
    "baby_growth_df = baby_growth_df.dropna(axis='index', how='all', subset=['height','weight']) \n",
    "# 둘 다 결측치인 행 제거"
   ]
  },
  {
   "cell_type": "code",
   "execution_count": 7,
   "id": "d75e4a55",
   "metadata": {},
   "outputs": [],
   "source": [
    "baby_growth_df = baby_growth_df[baby_growth_df['gender'] != 'U'] \n",
    "# 성별이 Unknown인 행 삭제"
   ]
  },
  {
   "cell_type": "code",
   "execution_count": 8,
   "id": "f38f84fb",
   "metadata": {},
   "outputs": [],
   "source": [
    "# 'gender' column 추출\n",
    "gender = baby_growth_df['gender']\n",
    "\n",
    "# 'gender' column을 one-hot 인코딩하여 새로운 데이터프레임 생성\n",
    "gender_onehot = pd.get_dummies(gender, prefix='gender')\n",
    "\n",
    "# 원래 데이터프레임과 합치기\n",
    "baby_growth_df = pd.concat([baby_growth_df, gender_onehot], axis=1)\n",
    "\n",
    "# 'gender' column 삭제\n",
    "baby_growth_df = baby_growth_df.drop('gender', axis=1)"
   ]
  },
  {
   "cell_type": "code",
   "execution_count": 9,
   "id": "e6c57abb",
   "metadata": {},
   "outputs": [],
   "source": [
    "baby_growth_df.sort_values(by='days', inplace=True) # 생후 개월 수로 오름차순 정렬"
   ]
  },
  {
   "cell_type": "code",
   "execution_count": 10,
   "id": "b0ded8e9",
   "metadata": {},
   "outputs": [],
   "source": [
    "baby_growth_df['days'] = pd.to_numeric(baby_growth_df['days'])"
   ]
  },
  {
   "cell_type": "code",
   "execution_count": 11,
   "id": "91145bea",
   "metadata": {},
   "outputs": [],
   "source": [
    "male_df = baby_growth_df[baby_growth_df['gender_M']==1].copy()\n",
    "female_df = baby_growth_df[baby_growth_df['gender_F']==1].copy()"
   ]
  },
  {
   "cell_type": "code",
   "execution_count": 12,
   "id": "79b92ad8",
   "metadata": {},
   "outputs": [],
   "source": [
    "male_df.drop(['gender_F'], axis=1, inplace=True)"
   ]
  },
  {
   "cell_type": "code",
   "execution_count": 13,
   "id": "2d431e82",
   "metadata": {},
   "outputs": [],
   "source": [
    "female_df.drop(['gender_M'], axis=1, inplace=True)"
   ]
  },
  {
   "cell_type": "markdown",
   "id": "1ee4ed89",
   "metadata": {},
   "source": [
    "## 결측치 처리"
   ]
  },
  {
   "cell_type": "code",
   "execution_count": 14,
   "id": "a95fceb4",
   "metadata": {},
   "outputs": [],
   "source": [
    "#imputer = KNNImputer(n_neighbors=5)"
   ]
  },
  {
   "cell_type": "code",
   "execution_count": 15,
   "id": "53eb0e41",
   "metadata": {},
   "outputs": [
    {
     "data": {
      "text/plain": [
       "\"\\nmale_df_height = male_df['height'].values.reshape(-1, 1)\\nimputed_male_df_height = imputer.fit_transform(male_df_height)\\nmale_df['height'] = imputed_male_df_height\\n\\n# female_df에서 height 칼럼의 결측치 처리\\nfemale_df_height = female_df['height'].values.reshape(-1, 1)\\nimputed_female_df_height = imputer.fit_transform(female_df_height)\\nfemale_df['height'] = imputed_female_df_height\""
      ]
     },
     "execution_count": 15,
     "metadata": {},
     "output_type": "execute_result"
    }
   ],
   "source": [
    "# male_df에서 height 칼럼의 결측치 처리\n",
    "\"\"\"\n",
    "male_df_height = male_df['height'].values.reshape(-1, 1)\n",
    "imputed_male_df_height = imputer.fit_transform(male_df_height)\n",
    "male_df['height'] = imputed_male_df_height\n",
    "\n",
    "# female_df에서 height 칼럼의 결측치 처리\n",
    "female_df_height = female_df['height'].values.reshape(-1, 1)\n",
    "imputed_female_df_height = imputer.fit_transform(female_df_height)\n",
    "female_df['height'] = imputed_female_df_height\"\"\""
   ]
  },
  {
   "cell_type": "code",
   "execution_count": 16,
   "id": "19c08b88",
   "metadata": {},
   "outputs": [
    {
     "data": {
      "text/plain": [
       "\"# male_df에서 weight 칼럼의 결측치 처리\\nmale_df_weight = male_df['weight'].values.reshape(-1, 1)\\nimputed_male_df_weight = imputer.fit_transform(male_df_weight)\\nmale_df['weight'] = imputed_male_df_weight\\n\\n# female_df에서 weight 칼럼의 결측치 처리\\nfemale_df_weight = female_df['weight'].values.reshape(-1, 1)\\nimputed_female_df_weight = imputer.fit_transform(female_df_height)\\nfemale_df['weight'] = imputed_female_df_weight\""
      ]
     },
     "execution_count": 16,
     "metadata": {},
     "output_type": "execute_result"
    }
   ],
   "source": [
    "\"\"\"# male_df에서 weight 칼럼의 결측치 처리\n",
    "male_df_weight = male_df['weight'].values.reshape(-1, 1)\n",
    "imputed_male_df_weight = imputer.fit_transform(male_df_weight)\n",
    "male_df['weight'] = imputed_male_df_weight\n",
    "\n",
    "# female_df에서 weight 칼럼의 결측치 처리\n",
    "female_df_weight = female_df['weight'].values.reshape(-1, 1)\n",
    "imputed_female_df_weight = imputer.fit_transform(female_df_height)\n",
    "female_df['weight'] = imputed_female_df_weight\"\"\""
   ]
  },
  {
   "cell_type": "code",
   "execution_count": 17,
   "id": "bc07c095",
   "metadata": {},
   "outputs": [],
   "source": [
    "male_df['height'] = male_df.groupby('days')['height'].transform(lambda x: x.fillna(x.median()))\n",
    "male_df['weight'] = male_df.groupby('days')['weight'].transform(lambda x: x.fillna(x.median()))\n",
    "female_df['height'] = female_df.groupby('days')['height'].transform(lambda x: x.fillna(x.median()))\n",
    "female_df['weight'] = female_df.groupby('days')['weight'].transform(lambda x: x.fillna(x.median()))"
   ]
  },
  {
   "cell_type": "code",
   "execution_count": 18,
   "id": "68040bb7",
   "metadata": {},
   "outputs": [],
   "source": [
    "# 이상치 제거 함수\n",
    "def remove_outliers(df, col):\n",
    "    q1 = df[col].quantile(0.25)\n",
    "    q3 = df[col].quantile(0.75)\n",
    "    iqr = q3 - q1\n",
    "    lower_bound = q1 - 1.5*iqr\n",
    "    upper_bound = q3 + 1.5*iqr\n",
    "    df = df.loc[(df[col] >= lower_bound) & (df[col] <= upper_bound)]\n",
    "    return df"
   ]
  },
  {
   "cell_type": "code",
   "execution_count": 19,
   "id": "66f58c44",
   "metadata": {},
   "outputs": [],
   "source": [
    "# 남성 생후 일 수 별로 그룹화\n",
    "grouped_male = male_df.groupby('days')\n",
    "\n",
    "# 각 생후 일 수별로 이상치 제거된 데이터프레임을 저장할 빈 데이터프레임 생성\n",
    "cleaned_df_male = pd.DataFrame(columns=male_df.columns)\n",
    "\n",
    "# 생후 일 수(days)별로 이상치 제거된 데이터를 cleaned_df_male에 추가\n",
    "for name, group in grouped_male:\n",
    "    group = remove_outliers(group, 'height')\n",
    "    group = remove_outliers(group, 'weight')\n",
    "    cleaned_df_male = pd.concat([cleaned_df_male, group])\n"
   ]
  },
  {
   "cell_type": "code",
   "execution_count": 20,
   "id": "f7875fbd",
   "metadata": {},
   "outputs": [],
   "source": [
    "# 여성 생후 일 수 별로 그룹화\n",
    "grouped_female = female_df.groupby('days')\n",
    "\n",
    "# 각 생후 일 수별로 이상치 제거된 데이터프레임을 저장할 빈 데이터프레임 생성\n",
    "cleaned_df_female = pd.DataFrame(columns=female_df.columns)\n",
    "\n",
    "# 생후 일 수(days)별로 이상치 제거된 데이터를 cleaned_df_female에 추가\n",
    "for name, group in grouped_female:\n",
    "    group = remove_outliers(group, 'height')\n",
    "    group = remove_outliers(group, 'weight')\n",
    "    cleaned_df_female = pd.concat([cleaned_df_female, group])\n"
   ]
  },
  {
   "cell_type": "code",
   "execution_count": 21,
   "id": "d6607821",
   "metadata": {},
   "outputs": [],
   "source": [
    "baby_growth_df = pd.concat([cleaned_df_male, cleaned_df_female], ignore_index=True)"
   ]
  },
  {
   "cell_type": "code",
   "execution_count": 22,
   "id": "f0152d3e",
   "metadata": {},
   "outputs": [],
   "source": [
    "baby_growth_df['gender_F'].fillna(0, inplace=True)\n",
    "baby_growth_df['gender_M'].fillna(0, inplace=True)"
   ]
  },
  {
   "cell_type": "code",
   "execution_count": 23,
   "id": "e73e1d7e",
   "metadata": {},
   "outputs": [],
   "source": [
    "baby_growth_df['gender'] = 0\n",
    "baby_growth_df.loc[baby_growth_df['gender_M'] == True, 'gender'] = 1"
   ]
  },
  {
   "cell_type": "code",
   "execution_count": 24,
   "id": "ecd2c043",
   "metadata": {},
   "outputs": [],
   "source": [
    "baby_growth_df.drop(['gender_M', 'gender_F'], axis = 1, inplace = True)"
   ]
  },
  {
   "cell_type": "code",
   "execution_count": 25,
   "id": "8a7c24e6",
   "metadata": {},
   "outputs": [],
   "source": [
    "baby_growth_df.drop(['_id', 'desc', '__v', 'growth'], axis = 1, inplace = True)"
   ]
  },
  {
   "cell_type": "markdown",
   "id": "b85a2865",
   "metadata": {},
   "source": [
    "## 현재 성장정도 예측"
   ]
  },
  {
   "cell_type": "code",
   "execution_count": 26,
   "id": "1385b81b",
   "metadata": {},
   "outputs": [],
   "source": [
    "import pandas as pd\n",
    "import numpy as np\n",
    "import ast"
   ]
  },
  {
   "cell_type": "code",
   "execution_count": 27,
   "id": "5a847cf7",
   "metadata": {},
   "outputs": [],
   "source": [
    "baby_growth_df = pd.read_csv(\"./baby_growth_df.csv\")"
   ]
  },
  {
   "cell_type": "code",
   "execution_count": 28,
   "id": "2ca4cc81",
   "metadata": {},
   "outputs": [
    {
     "name": "stdout",
     "output_type": "stream",
     "text": [
      "0, 150, 64.4, 7.0\n"
     ]
    }
   ],
   "source": [
    "input_gender, input_days, input_height, input_weight = map(float, input().split(','))\n",
    "# Male(남자) = 1, Female(여자) = 0"
   ]
  },
  {
   "cell_type": "code",
   "execution_count": 29,
   "id": "6f420a67",
   "metadata": {},
   "outputs": [],
   "source": [
    "compare_df = baby_growth_df[(baby_growth_df['gender'] == input_gender) \n",
    "                            & (baby_growth_df['days'] == input_days)]\n",
    "# 생후일수와 성별이 동일한 아이들의 집합 데이터프레임"
   ]
  },
  {
   "cell_type": "code",
   "execution_count": 30,
   "id": "9df9e20a",
   "metadata": {},
   "outputs": [
    {
     "data": {
      "text/html": [
       "<div>\n",
       "<style scoped>\n",
       "    .dataframe tbody tr th:only-of-type {\n",
       "        vertical-align: middle;\n",
       "    }\n",
       "\n",
       "    .dataframe tbody tr th {\n",
       "        vertical-align: top;\n",
       "    }\n",
       "\n",
       "    .dataframe thead th {\n",
       "        text-align: right;\n",
       "    }\n",
       "</style>\n",
       "<table border=\"1\" class=\"dataframe\">\n",
       "  <thead>\n",
       "    <tr style=\"text-align: right;\">\n",
       "      <th></th>\n",
       "      <th>days</th>\n",
       "      <th>height</th>\n",
       "      <th>weight</th>\n",
       "      <th>gender</th>\n",
       "    </tr>\n",
       "  </thead>\n",
       "  <tbody>\n",
       "    <tr>\n",
       "      <th>75957</th>\n",
       "      <td>150</td>\n",
       "      <td>66.0</td>\n",
       "      <td>7.10</td>\n",
       "      <td>0</td>\n",
       "    </tr>\n",
       "    <tr>\n",
       "      <th>75958</th>\n",
       "      <td>150</td>\n",
       "      <td>66.0</td>\n",
       "      <td>7.18</td>\n",
       "      <td>0</td>\n",
       "    </tr>\n",
       "    <tr>\n",
       "      <th>75959</th>\n",
       "      <td>150</td>\n",
       "      <td>66.0</td>\n",
       "      <td>5.80</td>\n",
       "      <td>0</td>\n",
       "    </tr>\n",
       "    <tr>\n",
       "      <th>75960</th>\n",
       "      <td>150</td>\n",
       "      <td>66.0</td>\n",
       "      <td>7.50</td>\n",
       "      <td>0</td>\n",
       "    </tr>\n",
       "    <tr>\n",
       "      <th>75961</th>\n",
       "      <td>150</td>\n",
       "      <td>66.0</td>\n",
       "      <td>8.10</td>\n",
       "      <td>0</td>\n",
       "    </tr>\n",
       "    <tr>\n",
       "      <th>75962</th>\n",
       "      <td>150</td>\n",
       "      <td>65.0</td>\n",
       "      <td>7.00</td>\n",
       "      <td>0</td>\n",
       "    </tr>\n",
       "    <tr>\n",
       "      <th>75963</th>\n",
       "      <td>150</td>\n",
       "      <td>66.1</td>\n",
       "      <td>8.20</td>\n",
       "      <td>0</td>\n",
       "    </tr>\n",
       "    <tr>\n",
       "      <th>75964</th>\n",
       "      <td>150</td>\n",
       "      <td>66.0</td>\n",
       "      <td>7.00</td>\n",
       "      <td>0</td>\n",
       "    </tr>\n",
       "    <tr>\n",
       "      <th>75965</th>\n",
       "      <td>150</td>\n",
       "      <td>66.0</td>\n",
       "      <td>6.50</td>\n",
       "      <td>0</td>\n",
       "    </tr>\n",
       "    <tr>\n",
       "      <th>75966</th>\n",
       "      <td>150</td>\n",
       "      <td>65.0</td>\n",
       "      <td>8.90</td>\n",
       "      <td>0</td>\n",
       "    </tr>\n",
       "    <tr>\n",
       "      <th>75967</th>\n",
       "      <td>150</td>\n",
       "      <td>66.0</td>\n",
       "      <td>8.00</td>\n",
       "      <td>0</td>\n",
       "    </tr>\n",
       "    <tr>\n",
       "      <th>75968</th>\n",
       "      <td>150</td>\n",
       "      <td>66.0</td>\n",
       "      <td>7.30</td>\n",
       "      <td>0</td>\n",
       "    </tr>\n",
       "    <tr>\n",
       "      <th>75969</th>\n",
       "      <td>150</td>\n",
       "      <td>66.0</td>\n",
       "      <td>7.20</td>\n",
       "      <td>0</td>\n",
       "    </tr>\n",
       "    <tr>\n",
       "      <th>75970</th>\n",
       "      <td>150</td>\n",
       "      <td>66.0</td>\n",
       "      <td>8.20</td>\n",
       "      <td>0</td>\n",
       "    </tr>\n",
       "    <tr>\n",
       "      <th>75971</th>\n",
       "      <td>150</td>\n",
       "      <td>66.0</td>\n",
       "      <td>7.10</td>\n",
       "      <td>0</td>\n",
       "    </tr>\n",
       "  </tbody>\n",
       "</table>\n",
       "</div>"
      ],
      "text/plain": [
       "       days  height  weight  gender\n",
       "75957   150    66.0    7.10       0\n",
       "75958   150    66.0    7.18       0\n",
       "75959   150    66.0    5.80       0\n",
       "75960   150    66.0    7.50       0\n",
       "75961   150    66.0    8.10       0\n",
       "75962   150    65.0    7.00       0\n",
       "75963   150    66.1    8.20       0\n",
       "75964   150    66.0    7.00       0\n",
       "75965   150    66.0    6.50       0\n",
       "75966   150    65.0    8.90       0\n",
       "75967   150    66.0    8.00       0\n",
       "75968   150    66.0    7.30       0\n",
       "75969   150    66.0    7.20       0\n",
       "75970   150    66.0    8.20       0\n",
       "75971   150    66.0    7.10       0"
      ]
     },
     "execution_count": 30,
     "metadata": {},
     "output_type": "execute_result"
    }
   ],
   "source": [
    "compare_df"
   ]
  },
  {
   "cell_type": "code",
   "execution_count": 49,
   "id": "af8a1b9b",
   "metadata": {},
   "outputs": [],
   "source": [
    "height_rank = (compare_df['height'] > input_height).sum() + 1\n",
    "weight_rank = (compare_df['weight'] > input_weight).sum() + 1\n",
    "\n",
    "height_percent = (height_rank/(len(compare_df)+1))*100\n",
    "weight_percent = (weight_rank/(len(compare_df)+1))*100"
   ]
  },
  {
   "cell_type": "code",
   "execution_count": 50,
   "id": "e39c93e7",
   "metadata": {},
   "outputs": [
    {
     "data": {
      "text/plain": [
       "75.0"
      ]
     },
     "execution_count": 50,
     "metadata": {},
     "output_type": "execute_result"
    }
   ],
   "source": [
    "weight_percent"
   ]
  },
  {
   "cell_type": "code",
   "execution_count": 52,
   "id": "83612cd3",
   "metadata": {},
   "outputs": [
    {
     "name": "stdout",
     "output_type": "stream",
     "text": [
      "아이의 신장은 상위 100.00% 입니다.\n",
      "아이의 체중은 상위 75.00% 입니다.\n",
      "DTaP\n",
      "폴리오\n",
      "뇌수막염\n",
      "폐렴구균\n",
      "로티바이러스(로타릭스)\n",
      "로타바이러스(로타텍)\n"
     ]
    }
   ],
   "source": [
    "print(\"아이의 신장은 상위 %.2f%% 입니다.\" %height_percent)\n",
    "print(\"아이의 체중은 상위 %.2f%% 입니다.\" %weight_percent)\n",
    "\n",
    "if 0 <= input_days <= 30 :\n",
    "    print(\"BCG 접종\")\n",
    "    print(\"B형 간염\")\n",
    "elif 30 < input_days <= 60 :\n",
    "    print(\"B형 간염\")\n",
    "elif 60 < input_days <= 90 : # 2개월\n",
    "    print(\"DTap 접종\")\n",
    "    print(\"폴리오 접종\")\n",
    "    print(\"뇌수막염\")\n",
    "    print(\"폐렴구균\")\n",
    "    print(\"로티바이러스(로타릭스)\")\n",
    "    print(\"로타바이러스(로타텍)\")\n",
    "elif 120 < input_days <= 150 : # 4개월\n",
    "    print(\"DTaP\")\n",
    "    print(\"폴리오\")\n",
    "    print(\"뇌수막염\")\n",
    "    print(\"폐렴구균\")\n",
    "    print(\"로티바이러스(로타릭스)\")\n",
    "    print(\"로타바이러스(로타텍)\")\n",
    "elif 180 < input_days <= 210 :\n",
    "    print(\"B형 간염\")\n",
    "    print(\"폴리오\")\n",
    "    print(\"뇌수막염\")\n",
    "    print(\"폐렴구균\")\n",
    "    print(\"로타바이러스(로타텍)\")\n",
    "elif 330 <= input_days <= 360 : \n",
    "    print(\"MMR 접종\")\n",
    "    print(\"수두 접종\")\n",
    "    print(\"일본뇌염(사백신)\")\n",
    "    print(\"일본뇌염(생백신)\")\n",
    "    print(\"뇌수막염\")\n",
    "    print(\"폐렴구균\")\n",
    "    print(\"A형 간염\")\n",
    "else :\n",
    "    print(\"예방 접종 기간 아닙니다.\")"
   ]
  },
  {
   "cell_type": "code",
   "execution_count": 53,
   "id": "6fd010fe",
   "metadata": {},
   "outputs": [],
   "source": [
    "std_height_male = [49.9, 54.7, 58.4, 61.4, 63.9, 65.9, 67.6, 69.2, 70.6, 72.0, 73.3, 74.5, 75.7]\n",
    "\n",
    "std_height_female = [49.1, 53.7, 57.1, 59.8, 62.1, 64.0, 65.7, 67.3, 68.7, 70.1, 71.5, 72.8, 74.0]\n",
    "\n",
    "std_weight_male = [3.3, 4.5, 5.6, 6.4, 7.0, 7.5, 7.9, 8.3, 8.6, 8.9, 9.2, 9.4, 9.6]\n",
    "\n",
    "std_weight_female = [3.2, 4.2, 5.1, 5.8, 6.4, 6.9, 7.3, 7.6, 7.9, 8.2, 8.5, 8.7, 8.9]"
   ]
  },
  {
   "cell_type": "code",
   "execution_count": 54,
   "id": "7288c599",
   "metadata": {},
   "outputs": [],
   "source": [
    "def match_std_month(days) :\n",
    "    if 0 <= days < 30 :\n",
    "        return 0\n",
    "    elif 30 <= days < 60 :\n",
    "        return 1\n",
    "    elif 60 <= days < 90 :\n",
    "        return 2\n",
    "    elif 90 <= days < 120 :\n",
    "        return 3\n",
    "    elif 120 <= days < 150 :\n",
    "        return 4\n",
    "    elif 150 <= days < 180 :\n",
    "        return 5\n",
    "    elif 180 <= days < 210 :\n",
    "        return 6\n",
    "    elif 210 <= days < 240 :\n",
    "        return 7\n",
    "    elif 240 <= days < 270 :\n",
    "        return 8\n",
    "    elif 270 <= days < 300 :\n",
    "        return 9\n",
    "    elif 300 <= days < 330 :\n",
    "        return 10\n",
    "    elif 330 <= days < 360 :\n",
    "        return 11\n",
    "    else :\n",
    "        return 12"
   ]
  },
  {
   "cell_type": "code",
   "execution_count": 59,
   "id": "ef7a8ee0",
   "metadata": {},
   "outputs": [],
   "source": [
    "if input_gender == 0 :\n",
    "    plot_std_height = std_height_female[match_std_month(input_days)]\n",
    "    plot_std_weight = std_weight_female[match_std_month(input_days)]\n",
    "    plot_data_mean_height = compare_df['height'].mean()\n",
    "    plot_data_mean_weight = compare_df['weight'].mean()\n",
    "if input_gender == 1 :\n",
    "    plot_std_height = std_height_male[match_std_month(input_days)]\n",
    "    plot_std_weight = std_weight_male[match_std_month(input_days)]\n",
    "    plot_data_mean_height = compare_df['height'].mean()\n",
    "    plot_data_mean_weight = compare_df['weight'].mean()\n",
    "# back to front data : plot_std_height, plot_std_weight, \n",
    "#                      plot_data_mean_height, plot_data_mean_weight, height, weight"
   ]
  },
  {
   "cell_type": "code",
   "execution_count": 61,
   "id": "2aea778e",
   "metadata": {},
   "outputs": [
    {
     "name": "stdout",
     "output_type": "stream",
     "text": [
      "64.0\n",
      "6.9\n",
      "65.87333333333333\n",
      "7.405333333333333\n"
     ]
    }
   ],
   "source": [
    "print(plot_std_height)\n",
    "print(plot_std_weight)\n",
    "print(plot_data_mean_height)\n",
    "print(plot_data_mean_weight)"
   ]
  },
  {
   "cell_type": "code",
   "execution_count": 56,
   "id": "51ff2ed8",
   "metadata": {},
   "outputs": [
    {
     "data": {
      "image/png": "[encoded data removed]",
      "text/plain": [
       "<Figure size 640x480 with 1 Axes>"
      ]
     },
     "metadata": {},
     "output_type": "display_data"
    }
   ],
   "source": [
    "height_x = ['std_height', 'data_mean_height', 'baby_height']\n",
    "height_y = [plot_std_height, plot_data_mean_height, input_height]\n",
    "plt.barh(height_x, height_y, color=['lavender', 'plum', 'mistyrose'])\n",
    "plt.show()"
   ]
  },
  {
   "cell_type": "code",
   "execution_count": 57,
   "id": "934b5952",
   "metadata": {},
   "outputs": [
    {
     "data": {
      "image/png": "[encoded data removed]",
      "text/plain": [
       "<Figure size 640x480 with 1 Axes>"
      ]
     },
     "metadata": {},
     "output_type": "display_data"
    }
   ],
   "source": [
    "weight_x = ['std_weight', 'data_mean_weight', 'baby_weight']\n",
    "weight_y = [plot_std_weight, plot_data_mean_weight, input_weight]\n",
    "plt.barh(weight_x, weight_y, color=['lavender', 'plum', 'mistyrose'])\n",
    "plt.show()"
   ]
  },
  {
   "cell_type": "code",
   "execution_count": 58,
   "id": "8aac64bc",
   "metadata": {},
   "outputs": [],
   "source": [
    "def check_obesity(day, weight) :\n",
    "    if 0 <= day < 75 :\n",
    "        if weight > 3.6 :\n",
    "            return \"소아비만\"\n",
    "    elif 75 <= day < 165 :\n",
    "        if weight > 5.8 :\n",
    "            return \"소아비만\"\n",
    "    elif 165 <= day < 255 :\n",
    "        if weight > 9.15 :\n",
    "            return \"소아비만\"\n",
    "    elif 255 <= day < 375 :\n",
    "        if weight > 10.5 :\n",
    "            return \"소아비만\""
   ]
  },
  {
   "cell_type": "code",
   "execution_count": 72,
   "id": "c825ed2c",
   "metadata": {},
   "outputs": [
    {
     "name": "stdout",
     "output_type": "stream",
     "text": [
      "소아비만\n"
     ]
    }
   ],
   "source": [
    "is_obesity = check_obesity(input_days, input_weight)\n",
    "is_obesity"
   ]
  }
 ],
 "metadata": {
  "kernelspec": {
   "display_name": "Python 3 (ipykernel)",
   "language": "python",
   "name": "python3"
  },
  "language_info": {
   "codemirror_mode": {
    "name": "ipython",
    "version": 3
   },
   "file_extension": ".py",
   "mimetype": "text/x-python",
   "name": "python",
   "nbconvert_exporter": "python",
   "pygments_lexer": "ipython3",
   "version": "3.9.15"
  }
 },
 "nbformat": 4,
 "nbformat_minor": 5
}

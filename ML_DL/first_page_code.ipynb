{
 "cells": [
  {
   "cell_type": "code",
   "execution_count": 1,
   "metadata": {},
   "outputs": [],
   "source": [
    "import pandas as pd\n",
    "import numpy as np"
   ]
  },
  {
   "cell_type": "code",
   "execution_count": 2,
   "metadata": {},
   "outputs": [],
   "source": [
    "import warnings\n",
    "warnings.filterwarnings(action='ignore')"
   ]
  },
  {
   "cell_type": "markdown",
   "metadata": {},
   "source": [
    "### 전처리된 데이터 불러오기"
   ]
  },
  {
   "cell_type": "code",
   "execution_count": 3,
   "metadata": {},
   "outputs": [
    {
     "data": {
      "text/html": [
       "<div>\n",
       "<style scoped>\n",
       "    .dataframe tbody tr th:only-of-type {\n",
       "        vertical-align: middle;\n",
       "    }\n",
       "\n",
       "    .dataframe tbody tr th {\n",
       "        vertical-align: top;\n",
       "    }\n",
       "\n",
       "    .dataframe thead th {\n",
       "        text-align: right;\n",
       "    }\n",
       "</style>\n",
       "<table border=\"1\" class=\"dataframe\">\n",
       "  <thead>\n",
       "    <tr style=\"text-align: right;\">\n",
       "      <th></th>\n",
       "      <th>days</th>\n",
       "      <th>height</th>\n",
       "      <th>weight</th>\n",
       "      <th>gender</th>\n",
       "    </tr>\n",
       "  </thead>\n",
       "  <tbody>\n",
       "    <tr>\n",
       "      <th>0</th>\n",
       "      <td>0</td>\n",
       "      <td>52.0</td>\n",
       "      <td>3.78</td>\n",
       "      <td>1</td>\n",
       "    </tr>\n",
       "    <tr>\n",
       "      <th>1</th>\n",
       "      <td>0</td>\n",
       "      <td>52.0</td>\n",
       "      <td>3.78</td>\n",
       "      <td>1</td>\n",
       "    </tr>\n",
       "    <tr>\n",
       "      <th>2</th>\n",
       "      <td>0</td>\n",
       "      <td>50.0</td>\n",
       "      <td>3.20</td>\n",
       "      <td>1</td>\n",
       "    </tr>\n",
       "    <tr>\n",
       "      <th>3</th>\n",
       "      <td>1</td>\n",
       "      <td>51.0</td>\n",
       "      <td>2.45</td>\n",
       "      <td>1</td>\n",
       "    </tr>\n",
       "    <tr>\n",
       "      <th>4</th>\n",
       "      <td>1</td>\n",
       "      <td>50.0</td>\n",
       "      <td>2.80</td>\n",
       "      <td>1</td>\n",
       "    </tr>\n",
       "    <tr>\n",
       "      <th>...</th>\n",
       "      <td>...</td>\n",
       "      <td>...</td>\n",
       "      <td>...</td>\n",
       "      <td>...</td>\n",
       "    </tr>\n",
       "    <tr>\n",
       "      <th>79344</th>\n",
       "      <td>365</td>\n",
       "      <td>74.6</td>\n",
       "      <td>9.60</td>\n",
       "      <td>0</td>\n",
       "    </tr>\n",
       "    <tr>\n",
       "      <th>79345</th>\n",
       "      <td>365</td>\n",
       "      <td>74.6</td>\n",
       "      <td>8.60</td>\n",
       "      <td>0</td>\n",
       "    </tr>\n",
       "    <tr>\n",
       "      <th>79346</th>\n",
       "      <td>365</td>\n",
       "      <td>74.6</td>\n",
       "      <td>9.40</td>\n",
       "      <td>0</td>\n",
       "    </tr>\n",
       "    <tr>\n",
       "      <th>79347</th>\n",
       "      <td>365</td>\n",
       "      <td>74.6</td>\n",
       "      <td>9.40</td>\n",
       "      <td>0</td>\n",
       "    </tr>\n",
       "    <tr>\n",
       "      <th>79348</th>\n",
       "      <td>365</td>\n",
       "      <td>74.6</td>\n",
       "      <td>8.20</td>\n",
       "      <td>0</td>\n",
       "    </tr>\n",
       "  </tbody>\n",
       "</table>\n",
       "<p>79349 rows × 4 columns</p>\n",
       "</div>"
      ],
      "text/plain": [
       "       days  height  weight  gender\n",
       "0         0    52.0    3.78       1\n",
       "1         0    52.0    3.78       1\n",
       "2         0    50.0    3.20       1\n",
       "3         1    51.0    2.45       1\n",
       "4         1    50.0    2.80       1\n",
       "...     ...     ...     ...     ...\n",
       "79344   365    74.6    9.60       0\n",
       "79345   365    74.6    8.60       0\n",
       "79346   365    74.6    9.40       0\n",
       "79347   365    74.6    9.40       0\n",
       "79348   365    74.6    8.20       0\n",
       "\n",
       "[79349 rows x 4 columns]"
      ]
     },
     "execution_count": 3,
     "metadata": {},
     "output_type": "execute_result"
    }
   ],
   "source": [
    "baby_growth_df = pd.read_csv(\"./baby_growth_df.csv\")\n",
    "baby_growth_df"
   ]
  },
  {
   "cell_type": "code",
   "execution_count": 14,
   "metadata": {},
   "outputs": [],
   "source": [
    "from sklearn.model_selection import train_test_split\n",
    "from sklearn.linear_model import LinearRegression\n",
    "from sklearn.ensemble import RandomForestRegressor\n",
    "from xgboost import XGBRegressor\n",
    "from lightgbm import LGBMRegressor\n",
    "from sklearn.ensemble import GradientBoostingRegressor\n",
    "from sklearn.preprocessing import PolynomialFeatures\n",
    "from sklearn.model_selection import GridSearchCV\n",
    "from sklearn.metrics import mean_squared_error, mean_absolute_error, r2_score"
   ]
  },
  {
   "cell_type": "markdown",
   "metadata": {},
   "source": [
    "### height 예측 모델링"
   ]
  },
  {
   "cell_type": "code",
   "execution_count": 15,
   "metadata": {},
   "outputs": [],
   "source": [
    "# 독립 변수와 종속 변수 분리\n",
    "X = baby_growth_df[['days','gender']]\n",
    "y = baby_growth_df['height']\n",
    "\n",
    "# train/test 데이터 분리, 성별 비중 유지\n",
    "X_train, X_test, y_train, y_test = train_test_split(X, y, test_size=0.25, stratify=X['gender'], random_state=42)"
   ]
  },
  {
   "cell_type": "markdown",
   "metadata": {},
   "source": [
    "### (1) LinearRegression - height 예측 모델"
   ]
  },
  {
   "cell_type": "code",
   "execution_count": 16,
   "metadata": {},
   "outputs": [
    {
     "name": "stdout",
     "output_type": "stream",
     "text": [
      "R-squared: 0.9053437089619766\n",
      "LinearRegression MSE: 3.528196169173679\n",
      "훈련 세트 정확도: 0.905\n",
      "테스트 세트 정확도: 0.905\n"
     ]
    }
   ],
   "source": [
    "# linear regression 모델 학습\n",
    "lr_height = LinearRegression()\n",
    "lr_height.fit(X_train, y_train)\n",
    "\n",
    "# test 데이터로 예측\n",
    "y_pred = lr_height.predict(X_test)\n",
    "\n",
    "# 모델 성능 평가\n",
    "r2 = r2_score(y_test, y_pred)\n",
    "print('R-squared:', r2)\n",
    "\n",
    "# MSE 평가\n",
    "mse = mean_squared_error(y_test, y_pred)\n",
    "print(\"LinearRegression MSE:\", mse)\n",
    "\n",
    "# 정확도 평가\n",
    "print(\"훈련 세트 정확도: {:.3f}\".format(lr_height.score(X_train, y_train)))\n",
    "print(\"테스트 세트 정확도: {:.3f}\".format(lr_height.score(X_test, y_test)))"
   ]
  },
  {
   "cell_type": "markdown",
   "metadata": {},
   "source": [
    "### (1-1) 이차항 선형 회귀 - height 예측 모델"
   ]
  },
  {
   "cell_type": "code",
   "execution_count": 7,
   "metadata": {},
   "outputs": [
    {
     "name": "stdout",
     "output_type": "stream",
     "text": [
      "linearRegression2 Mean Squared Error: 0.6987426294820094\n",
      "훈련 세트 정확도: 0.981\n",
      "테스트 세트 정확도: 0.981\n"
     ]
    }
   ],
   "source": [
    "# 이차항 생성\n",
    "poly = PolynomialFeatures(degree=2, include_bias=False)\n",
    "X_poly_height = poly.fit_transform(X)\n",
    "\n",
    "# 데이터 분할\n",
    "X_train, X_test, y_train, y_test = train_test_split(X_poly_height, y, test_size=0.25, stratify=X['gender'], random_state=42)\n",
    "\n",
    "# 모델 학습\n",
    "lr2_height = LinearRegression()\n",
    "lr2_height.fit(X_train, y_train)\n",
    "\n",
    "# 예측\n",
    "y_pred = lr2_height.predict(X_test)\n",
    "\n",
    "# 평가\n",
    "mse = mean_squared_error(y_test, y_pred)\n",
    "print(\"linearRegression2 Mean Squared Error:\", mse)\n",
    "\n",
    "# 정확도 평가\n",
    "print(\"훈련 세트 정확도: {:.3f}\".format(lr2_height.score(X_train, y_train)))\n",
    "print(\"테스트 세트 정확도: {:.3f}\".format(lr2_height.score(X_test, y_test)))\n"
   ]
  },
  {
   "cell_type": "markdown",
   "metadata": {},
   "source": [
    "### (2) RandomForestRegressor - height 예측 모델"
   ]
  },
  {
   "cell_type": "code",
   "execution_count": 8,
   "metadata": {},
   "outputs": [
    {
     "name": "stdout",
     "output_type": "stream",
     "text": [
      "RandomForestRegressor Mean Squared Error: 0.2537233045093775\n",
      "훈련 세트 정확도: 0.993\n",
      "테스트 세트 정확도: 0.993\n"
     ]
    }
   ],
   "source": [
    "# RandomForestRegressor 모델 객체 생성\n",
    "rf_height = RandomForestRegressor(random_state=42)\n",
    "\n",
    "# 모델 학습\n",
    "rf_height.fit(X_train, y_train)\n",
    "\n",
    "# 모델 평가 - 예측값 생성\n",
    "y_pred = rf_height.predict(X_test)\n",
    "\n",
    "# 모델 평가 - 평균 제곱 오차 계산\n",
    "mse = mean_squared_error(y_test, y_pred)\n",
    "print(\"RandomForestRegressor Mean Squared Error:\", mse)\n",
    "\n",
    "# 정확도 평가\n",
    "print(\"훈련 세트 정확도: {:.3f}\".format(rf_height.score(X_train, y_train)))\n",
    "print(\"테스트 세트 정확도: {:.3f}\".format(rf_height.score(X_test, y_test)))"
   ]
  },
  {
   "cell_type": "markdown",
   "metadata": {},
   "source": [
    "### (3) XGBRegressor - height 예측 모델"
   ]
  },
  {
   "cell_type": "code",
   "execution_count": 93,
   "metadata": {},
   "outputs": [
    {
     "name": "stdout",
     "output_type": "stream",
     "text": [
      "xgboost MSE: 0.316\n",
      "xgboost MAE: 0.204\n",
      "xgboost R-squared: 0.992\n",
      "훈련 세트 정확도: 0.992\n",
      "테스트 세트 정확도: 0.992\n"
     ]
    }
   ],
   "source": [
    "# 모델 객체 생성\n",
    "xgb_height = XGBRegressor(objective='reg:squarederror', tree_method='hist', random_state=42)\n",
    "\n",
    "# 모델 학습\n",
    "xgb_height.fit(X_train, y_train)\n",
    "\n",
    "# 검증용 데이터를 사용하여 예측 수행\n",
    "y_pred = xgb_height.predict(X_test)\n",
    "\n",
    "# 모델 성능 평가\n",
    "mse = mean_squared_error(y_test, y_pred)\n",
    "mae = mean_absolute_error(y_test, y_pred)\n",
    "r2 = r2_score(y_test, y_pred)\n",
    "\n",
    "print(f\"xgboost MSE: {mse:.3f}\")\n",
    "print(f\"xgboost MAE: {mae:.3f}\")\n",
    "print(f\"xgboost R-squared: {r2:.3f}\")\n",
    "\n",
    "# 정확도 평가\n",
    "print(\"훈련 세트 정확도: {:.3f}\".format(xgb_height.score(X_train, y_train)))\n",
    "print(\"테스트 세트 정확도: {:.3f}\".format(xgb_height.score(X_test, y_test)))"
   ]
  },
  {
   "cell_type": "markdown",
   "metadata": {},
   "source": [
    "### RandomForestRegressor hyperparameter tuning"
   ]
  },
  {
   "cell_type": "code",
   "execution_count": 9,
   "metadata": {},
   "outputs": [
    {
     "name": "stdout",
     "output_type": "stream",
     "text": [
      "Best hyperparameters: {'max_depth': 20, 'min_samples_split': 2, 'n_estimators': 50}\n",
      "Best CV score: 0.2536826197356331\n",
      "Test MSE: 0.2537769441848588\n",
      "훈련 세트 정확도: 0.993\n",
      "테스트 세트 정확도: 0.993\n"
     ]
    }
   ],
   "source": [
    "# 하이퍼파라미터 후보 값들\n",
    "param_grid = {\n",
    "    'n_estimators': [50, 100, 200],\n",
    "    'max_depth': [5, 10, 20],\n",
    "    'min_samples_split': [2, 5, 10]\n",
    "}\n",
    "\n",
    "# GridSearchCV 수행\n",
    "rf_height = RandomForestRegressor(random_state=42)\n",
    "grid_search = GridSearchCV(rf_height, param_grid, cv=5, scoring='neg_mean_squared_error')\n",
    "grid_search.fit(X_train, y_train)\n",
    "\n",
    "# 최적의 하이퍼파라미터와 그 때의 성능 출력\n",
    "print(\"Best hyperparameters:\", grid_search.best_params_)\n",
    "print(\"Best CV score:\", -grid_search.best_score_)\n",
    "\n",
    "# 최적의 하이퍼파라미터로 모델 학습 및 평가\n",
    "rf_height_best = RandomForestRegressor(n_estimators=grid_search.best_params_['n_estimators'],\n",
    "                                 max_depth=grid_search.best_params_['max_depth'],\n",
    "                                 min_samples_split=grid_search.best_params_['min_samples_split'],\n",
    "                                 random_state=42)\n",
    "rf_height_best.fit(X_train, y_train)\n",
    "y_pred_rf = rf_height_best.predict(X_test)\n",
    "print(\"Test MSE:\", mean_squared_error(y_test, y_pred_rf))\n",
    "\n",
    "# 정확도 평가\n",
    "print(\"훈련 세트 정확도: {:.3f}\".format(rf_height_best.score(X_train, y_train)))\n",
    "print(\"테스트 세트 정확도: {:.3f}\".format(rf_height_best.score(X_test, y_test)))\n"
   ]
  },
  {
   "cell_type": "markdown",
   "metadata": {},
   "source": [
    "### (4) LightGBM - height 예측 모델"
   ]
  },
  {
   "cell_type": "code",
   "execution_count": 159,
   "metadata": {},
   "outputs": [
    {
     "name": "stdout",
     "output_type": "stream",
     "text": [
      "lightGBM MSE: 0.30606518685357387\n",
      "훈련 세트 정확도: 0.992\n",
      "테스트 세트 정확도: 0.992\n"
     ]
    }
   ],
   "source": [
    "# LightGBM 모델링\n",
    "lgbm_height = LGBMRegressor(random_state=42)\n",
    "lgbm_height.fit(X_train, y_train)\n",
    "\n",
    "# 예측값 생성\n",
    "y_pred = lgbm_height.predict(X_test)\n",
    "\n",
    "# MSE 평가\n",
    "mse = mean_squared_error(y_test, y_pred)\n",
    "print(\"lightGBM MSE:\", mse)\n",
    "\n",
    "# 정확도 평가\n",
    "print(\"훈련 세트 정확도: {:.3f}\".format(lgbm_height.score(X_train, y_train)))\n",
    "print(\"테스트 세트 정확도: {:.3f}\".format(lgbm_height.score(X_test, y_test)))"
   ]
  },
  {
   "cell_type": "markdown",
   "metadata": {},
   "source": [
    "### (5) GradientBoosting - height 예측 모델"
   ]
  },
  {
   "cell_type": "code",
   "execution_count": 95,
   "metadata": {},
   "outputs": [
    {
     "name": "stdout",
     "output_type": "stream",
     "text": [
      "GradientBoostingRegressor MSE: 0.35741078812332194\n",
      "훈련 세트 정확도: 0.990\n",
      "테스트 세트 정확도: 0.990\n"
     ]
    }
   ],
   "source": [
    "# Gradient Boosting 모델 학습\n",
    "gbr_height = GradientBoostingRegressor(random_state=42)\n",
    "gbr_height.fit(X_train, y_train)\n",
    "\n",
    "# 모델 예측\n",
    "y_pred = gbr_height.predict(X_test)\n",
    "\n",
    "# 모델 평가\n",
    "mse = mean_squared_error(y_test, y_pred)\n",
    "print(\"GradientBoostingRegressor MSE:\", mse)\n",
    "\n",
    "# 정확도 평가\n",
    "print(\"훈련 세트 정확도: {:.3f}\".format(gbr_height.score(X_train, y_train)))\n",
    "print(\"테스트 세트 정확도: {:.3f}\".format(gbr_height.score(X_test, y_test)))"
   ]
  },
  {
   "cell_type": "markdown",
   "metadata": {},
   "source": [
    "### Weight 예측 모델링"
   ]
  },
  {
   "cell_type": "code",
   "execution_count": 17,
   "metadata": {},
   "outputs": [],
   "source": [
    "# 독립 변수와 종속 변수 분리\n",
    "X_data = baby_growth_df[['days','gender','height']]\n",
    "y_target = baby_growth_df['weight']\n",
    "\n",
    "# train/test 데이터 분리, 성별 비중 유지\n",
    "X_train, X_test, y_train, y_test = train_test_split(X_data, y_target, test_size=0.25, stratify=X_data['gender'], random_state=42)"
   ]
  },
  {
   "cell_type": "code",
   "execution_count": 11,
   "metadata": {},
   "outputs": [
    {
     "name": "stdout",
     "output_type": "stream",
     "text": [
      "linearRegression2 Mean Squared Error: 0.3476746801007055\n",
      "훈련 세트 정확도: 0.890\n",
      "테스트 세트 정확도: 0.890\n"
     ]
    }
   ],
   "source": [
    "# 이차항 생성\n",
    "poly = PolynomialFeatures(degree=2, include_bias=False)\n",
    "X_poly_weight = poly.fit_transform(X_data)\n",
    "\n",
    "# 데이터 분할\n",
    "X_train, X_test, y_train, y_test = train_test_split(X_poly_weight, y_target, test_size=0.25, stratify=X_data['gender'], random_state=42)\n",
    "\n",
    "# 모델 학습\n",
    "lr2_weight = LinearRegression()\n",
    "lr2_weight.fit(X_train, y_train)\n",
    "\n",
    "# 예측\n",
    "y_pred = lr2_weight.predict(X_test)\n",
    "\n",
    "# 평가\n",
    "mse = mean_squared_error(y_test, y_pred)\n",
    "print(\"linearRegression2 Mean Squared Error:\", mse)\n",
    "\n",
    "# 정확도 평가\n",
    "print(\"훈련 세트 정확도: {:.3f}\".format(lr2_weight.score(X_train, y_train)))\n",
    "print(\"테스트 세트 정확도: {:.3f}\".format(lr2_weight.score(X_test, y_test)))\n"
   ]
  },
  {
   "cell_type": "markdown",
   "metadata": {},
   "source": [
    "### (1) RandomForestRegressor - weight 예측 모델"
   ]
  },
  {
   "cell_type": "code",
   "execution_count": 47,
   "metadata": {},
   "outputs": [
    {
     "name": "stdout",
     "output_type": "stream",
     "text": [
      "Best hyperparameters: {'max_depth': 10, 'min_samples_split': 10, 'n_estimators': 100}\n",
      "Best CV score: 0.3465750289982933\n",
      "Test MSE: 0.34468287750259985\n",
      "훈련 세트 정확도: 0.894\n",
      "테스트 세트 정확도: 0.891\n"
     ]
    },
    {
     "ename": "AttributeError",
     "evalue": "'RandomForestRegressor' object has no attribute 'oob_score_'",
     "output_type": "error",
     "traceback": [
      "\u001b[1;31m---------------------------------------------------------------------------\u001b[0m",
      "\u001b[1;31mAttributeError\u001b[0m                            Traceback (most recent call last)",
      "\u001b[1;32m~\\AppData\\Local\\Temp/ipykernel_29036/3489200801.py\u001b[0m in \u001b[0;36m<module>\u001b[1;34m\u001b[0m\n\u001b[0;32m     27\u001b[0m \u001b[0mprint\u001b[0m\u001b[1;33m(\u001b[0m\u001b[1;34m\"훈련 세트 정확도: {:.3f}\"\u001b[0m\u001b[1;33m.\u001b[0m\u001b[0mformat\u001b[0m\u001b[1;33m(\u001b[0m\u001b[0mrf_weight_best\u001b[0m\u001b[1;33m.\u001b[0m\u001b[0mscore\u001b[0m\u001b[1;33m(\u001b[0m\u001b[0mX_train\u001b[0m\u001b[1;33m,\u001b[0m \u001b[0my_train\u001b[0m\u001b[1;33m)\u001b[0m\u001b[1;33m)\u001b[0m\u001b[1;33m)\u001b[0m\u001b[1;33m\u001b[0m\u001b[1;33m\u001b[0m\u001b[0m\n\u001b[0;32m     28\u001b[0m \u001b[0mprint\u001b[0m\u001b[1;33m(\u001b[0m\u001b[1;34m\"테스트 세트 정확도: {:.3f}\"\u001b[0m\u001b[1;33m.\u001b[0m\u001b[0mformat\u001b[0m\u001b[1;33m(\u001b[0m\u001b[0mrf_weight_best\u001b[0m\u001b[1;33m.\u001b[0m\u001b[0mscore\u001b[0m\u001b[1;33m(\u001b[0m\u001b[0mX_test\u001b[0m\u001b[1;33m,\u001b[0m \u001b[0my_test\u001b[0m\u001b[1;33m)\u001b[0m\u001b[1;33m)\u001b[0m\u001b[1;33m)\u001b[0m\u001b[1;33m\u001b[0m\u001b[1;33m\u001b[0m\u001b[0m\n\u001b[1;32m---> 29\u001b[1;33m \u001b[0mprint\u001b[0m\u001b[1;33m(\u001b[0m\u001b[1;34m\"OOB 샘플의 정확도: {:.3f}\"\u001b[0m\u001b[1;33m.\u001b[0m\u001b[0mformat\u001b[0m\u001b[1;33m(\u001b[0m\u001b[0mrf_weight_best\u001b[0m\u001b[1;33m.\u001b[0m\u001b[0moob_score_\u001b[0m\u001b[1;33m)\u001b[0m\u001b[1;33m)\u001b[0m\u001b[1;33m\u001b[0m\u001b[1;33m\u001b[0m\u001b[0m\n\u001b[0m",
      "\u001b[1;31mAttributeError\u001b[0m: 'RandomForestRegressor' object has no attribute 'oob_score_'"
     ]
    }
   ],
   "source": [
    "# 하이퍼파라미터 후보 값들\n",
    "param_grid = {\n",
    "    'n_estimators': [50, 100, 200],\n",
    "    'max_depth': [5, 10, 20],\n",
    "    'min_samples_split': [2, 5, 10]\n",
    "}\n",
    "\n",
    "# GridSearchCV 수행\n",
    "rf_weight = RandomForestRegressor(random_state=42)\n",
    "grid_search = GridSearchCV(rf_weight, param_grid, cv=5, scoring='neg_mean_squared_error')\n",
    "grid_search.fit(X_train, y_train)\n",
    "\n",
    "# 최적의 하이퍼파라미터와 그 때의 성능 출력\n",
    "print(\"Best hyperparameters:\", grid_search.best_params_)\n",
    "print(\"Best CV score:\", -grid_search.best_score_)\n",
    "\n",
    "# 최적의 하이퍼파라미터로 모델 학습 및 평가\n",
    "rf_weight_best = RandomForestRegressor(n_estimators=grid_search.best_params_['n_estimators'],\n",
    "                                 max_depth=grid_search.best_params_['max_depth'],\n",
    "                                 min_samples_split=grid_search.best_params_['min_samples_split'],\n",
    "                                 random_state=42)\n",
    "rf_weight_best.fit(X_train, y_train)\n",
    "y_pred_rf = rf_weight_best.predict(X_test)\n",
    "print(\"Test MSE:\", mean_squared_error(y_test, y_pred_rf))\n",
    "\n",
    "# 정확도 평가\n",
    "print(\"훈련 세트 정확도: {:.3f}\".format(rf_weight_best.score(X_train, y_train)))\n",
    "print(\"테스트 세트 정확도: {:.3f}\".format(rf_weight_best.score(X_test, y_test)))\n"
   ]
  },
  {
   "cell_type": "markdown",
   "metadata": {},
   "source": [
    "### (2) LinearRegressor - weight 예측 모델"
   ]
  },
  {
   "cell_type": "code",
   "execution_count": 18,
   "metadata": {},
   "outputs": [
    {
     "name": "stdout",
     "output_type": "stream",
     "text": [
      "훈련 세트 정확도: 0.885\n",
      "테스트 세트 정확도: 0.885\n"
     ]
    }
   ],
   "source": [
    "lr_weight = LinearRegression()\n",
    "\n",
    "lr_weight.fit(X_train, y_train)\n",
    "lr_weight.score(X_test, y_test)\n",
    "\n",
    "print(\"훈련 세트 정확도: {:.3f}\".format(lr_weight.score(X_train, y_train)))\n",
    "print(\"테스트 세트 정확도: {:.3f}\".format(lr_weight.score(X_test, y_test)))"
   ]
  },
  {
   "cell_type": "markdown",
   "metadata": {},
   "source": [
    "### (3) GradientBoostingRegressor - weight 예측 모델"
   ]
  },
  {
   "cell_type": "code",
   "execution_count": 98,
   "metadata": {},
   "outputs": [
    {
     "name": "stdout",
     "output_type": "stream",
     "text": [
      "훈련 세트 정확도: 0.892\n",
      "테스트 세트 정확도: 0.891\n"
     ]
    }
   ],
   "source": [
    "gbr_weight = GradientBoostingRegressor()\n",
    "\n",
    "gbr_weight.fit(X_train, y_train)\n",
    "\n",
    "# 평가\n",
    "print(\"훈련 세트 정확도: {:.3f}\".format(gbr_weight.score(X_train, y_train)))\n",
    "print(\"테스트 세트 정확도: {:.3f}\".format(gbr_weight.score(X_test, y_test)))"
   ]
  },
  {
   "cell_type": "markdown",
   "metadata": {},
   "source": [
    "### (4) lightGBM - weight 예측 모델"
   ]
  },
  {
   "cell_type": "code",
   "execution_count": 161,
   "metadata": {},
   "outputs": [
    {
     "name": "stdout",
     "output_type": "stream",
     "text": [
      "lightGBM MSE: 0.34462365868841655\n",
      "훈련 세트 정확도: 0.893\n",
      "테스트 세트 정확도: 0.891\n"
     ]
    }
   ],
   "source": [
    "# LightGBM 모델링\n",
    "lgbm_weight = LGBMRegressor(random_state=42)\n",
    "lgbm_weight.fit(X_train, y_train)\n",
    "\n",
    "# 예측값 생성\n",
    "y_pred = lgbm_weight.predict(X_test)\n",
    "\n",
    "# MSE 평가\n",
    "mse = mean_squared_error(y_test, y_pred)\n",
    "print(\"lightGBM MSE:\", mse)\n",
    "\n",
    "# 정확도 평가\n",
    "print(\"훈련 세트 정확도: {:.3f}\".format(lgbm_weight.score(X_train, y_train)))\n",
    "print(\"테스트 세트 정확도: {:.3f}\".format(lgbm_weight.score(X_test, y_test)))"
   ]
  },
  {
   "cell_type": "code",
   "execution_count": 23,
   "metadata": {},
   "outputs": [
    {
     "name": "stdout",
     "output_type": "stream",
     "text": [
      "생후 일 수를 입력하세요: 150\n",
      "아기의 현재 키를 입력하세요 (단위: cm): 64.4\n",
      "아기의 현재 몸무게를 입력하세요 (단위: kg): 7\n",
      "아기의 성별을 입력하세요 (F/M): F\n",
      "아기의 1개월 뒤 예상 키는 66.9cm 입니다.\n",
      "아기의 3개월 뒤 예상 키는 71.9cm 입니다.\n",
      "아기의 6개월 뒤 예상 키는 79.3cm 입니다.\n",
      "아기의 1개월 뒤 예상 몸무게는 7.9kg 입니다.\n",
      "아기의 3개월 뒤 예상 몸무게는 9.2kg 입니다.\n",
      "아기의 6개월 뒤 예상 몸무게는 11.2kg 입니다.\n"
     ]
    }
   ],
   "source": [
    "# 사용자로부터 데이터 입력받기\n",
    "input_days = int(input(\"생후 일 수를 입력하세요: \"))\n",
    "input_height = float(input(\"아기의 현재 키를 입력하세요 (단위: cm): \"))\n",
    "input_weight = float(input(\"아기의 현재 몸무게를 입력하세요 (단위: kg): \"))\n",
    "input_gender = input(\"아기의 성별을 입력하세요 (F/M): \")\n",
    "\n",
    "# 입력받은 데이터로 1개월, 3개월, 6개월 뒤의 키 예측\n",
    "if input_gender == 'F':\n",
    "    gender = 0\n",
    "elif input_gender == 'M':\n",
    "    gender = 1\n",
    "else:\n",
    "    print(\"성별은 'F' 또는 'M' 중에서 입력해주세요.\")\n",
    "    exit()\n",
    "\n",
    "\n",
    "# polynomial regression\n",
    "#one_month_pred_height = lr2_height.predict([[(input_days+30)**2, (input_days + 30), gender]])\n",
    "#three_month_pred_height = lr2_height.predict(np.array([[((input_days+90)**2), (input_days+90), gender]])) \n",
    "#six_month_pred_height = lr2_height.predict(np.array([[((input_days+180)**2), (input_days+180), gender]])) \n",
    "\n",
    "#one_month_pred_weight = lr2_weight.predict(np.array([[((input_days+30)**2), (input_days+30), gender, one_month_pred_height]]))\n",
    "#three_month_pred_weight = lr2_weight.predict(np.array([[((input_days+90)**2), (input_days+90), gender, three_month_pred_height]])) \n",
    "#six_month_pred_weight = lr2_weight.predict(np.array([[((input_days+180)**2), (input_days+180), gender, six_month_pred_height]])) \n",
    "one_month_pred_height = lr_height.predict([[input_days+30, gender]])\n",
    "three_month_pred_height = lr_height.predict([[input_days+90, gender]])\n",
    "six_month_pred_height = lr_height.predict([[input_days+180, gender]])\n",
    "\n",
    "one_month_pred_weight = lr_weight.predict([[input_days+30, gender, one_month_pred_height]])\n",
    "three_month_pred_weight = lr_weight.predict([[input_days+90, gender, three_month_pred_height]])\n",
    "six_month_pred_weight = lr_weight.predict([[input_days+180, gender, six_month_pred_height]])\n",
    "\n",
    "\n",
    "# 결과 출력\n",
    "print(f\"아기의 1개월 뒤 예상 키는 {one_month_pred_height[0]:.1f}cm 입니다.\")\n",
    "print(f\"아기의 3개월 뒤 예상 키는 {three_month_pred_height[0]:.1f}cm 입니다.\")\n",
    "print(f\"아기의 6개월 뒤 예상 키는 {six_month_pred_height[0]:.1f}cm 입니다.\")\n",
    "print(f\"아기의 1개월 뒤 예상 몸무게는 {one_month_pred_weight[0]:.1f}kg 입니다.\")\n",
    "print(f\"아기의 3개월 뒤 예상 몸무게는 {three_month_pred_weight[0]:.1f}kg 입니다.\")\n",
    "print(f\"아기의 6개월 뒤 예상 몸무게는 {six_month_pred_weight[0]:.1f}kg 입니다.\")"
   ]
  },
  {
   "cell_type": "code",
   "execution_count": 24,
   "metadata": {},
   "outputs": [],
   "source": [
    "# 독립 변수와 종속 변수 분리\n",
    "X = baby_growth_df[['days','gender']]\n",
    "y = baby_growth_df['height']\n",
    "\n",
    "# train/test 데이터 분리, 성별 비중 유지\n",
    "X_train, X_test, y_train, y_test = train_test_split(X, y, test_size=0.25, stratify=X['gender'], random_state=42)"
   ]
  },
  {
   "cell_type": "code",
   "execution_count": 25,
   "metadata": {
    "scrolled": false
   },
   "outputs": [
    {
     "data": {
      "text/plain": [
       "[64.4,\n",
       " 64.52,\n",
       " 64.6,\n",
       " 64.68,\n",
       " 64.76,\n",
       " 64.85,\n",
       " 64.93,\n",
       " 65.01,\n",
       " 65.1,\n",
       " 65.18,\n",
       " 65.26,\n",
       " 65.34,\n",
       " 65.43,\n",
       " 65.51,\n",
       " 65.59,\n",
       " 65.67,\n",
       " 65.76,\n",
       " 65.84,\n",
       " 65.92,\n",
       " 66.01,\n",
       " 66.09,\n",
       " 66.17,\n",
       " 66.25,\n",
       " 66.34,\n",
       " 66.42,\n",
       " 66.5,\n",
       " 66.58,\n",
       " 66.67,\n",
       " 66.75,\n",
       " 66.83,\n",
       " 66.92,\n",
       " 67.0,\n",
       " 67.08,\n",
       " 67.16,\n",
       " 67.25,\n",
       " 67.33,\n",
       " 67.41,\n",
       " 67.49,\n",
       " 67.58,\n",
       " 67.66,\n",
       " 67.74,\n",
       " 67.83,\n",
       " 67.91,\n",
       " 67.99,\n",
       " 68.07,\n",
       " 68.16,\n",
       " 68.24,\n",
       " 68.32,\n",
       " 68.4,\n",
       " 68.49,\n",
       " 68.57,\n",
       " 68.65,\n",
       " 68.74,\n",
       " 68.82,\n",
       " 68.9,\n",
       " 68.98,\n",
       " 69.07,\n",
       " 69.15,\n",
       " 69.23,\n",
       " 69.31,\n",
       " 69.4,\n",
       " 69.48,\n",
       " 69.56,\n",
       " 69.65,\n",
       " 69.73,\n",
       " 69.81,\n",
       " 69.89,\n",
       " 69.98,\n",
       " 70.06,\n",
       " 70.14,\n",
       " 70.22,\n",
       " 70.31,\n",
       " 70.39,\n",
       " 70.47,\n",
       " 70.56,\n",
       " 70.64,\n",
       " 70.72,\n",
       " 70.8,\n",
       " 70.89,\n",
       " 70.97,\n",
       " 71.05,\n",
       " 71.13,\n",
       " 71.22,\n",
       " 71.3,\n",
       " 71.38,\n",
       " 71.47,\n",
       " 71.55,\n",
       " 71.63,\n",
       " 71.71,\n",
       " 71.8,\n",
       " 71.88,\n",
       " 71.96,\n",
       " 72.04,\n",
       " 72.13,\n",
       " 72.21,\n",
       " 72.29,\n",
       " 72.38,\n",
       " 72.46,\n",
       " 72.54,\n",
       " 72.62,\n",
       " 72.71,\n",
       " 72.79,\n",
       " 72.87,\n",
       " 72.95,\n",
       " 73.04,\n",
       " 73.12,\n",
       " 73.2,\n",
       " 73.29,\n",
       " 73.37,\n",
       " 73.45,\n",
       " 73.53,\n",
       " 73.62,\n",
       " 73.7,\n",
       " 73.78,\n",
       " 73.86,\n",
       " 73.95,\n",
       " 74.03,\n",
       " 74.11,\n",
       " 74.2,\n",
       " 74.28,\n",
       " 74.36,\n",
       " 74.44,\n",
       " 74.53,\n",
       " 74.61,\n",
       " 74.69,\n",
       " 74.77,\n",
       " 74.86,\n",
       " 74.94,\n",
       " 75.02,\n",
       " 75.11,\n",
       " 75.19,\n",
       " 75.27,\n",
       " 75.35,\n",
       " 75.44,\n",
       " 75.52,\n",
       " 75.6,\n",
       " 75.68,\n",
       " 75.77,\n",
       " 75.85,\n",
       " 75.93,\n",
       " 76.02,\n",
       " 76.1,\n",
       " 76.18,\n",
       " 76.26,\n",
       " 76.35,\n",
       " 76.43,\n",
       " 76.51,\n",
       " 76.6,\n",
       " 76.68,\n",
       " 76.76,\n",
       " 76.84,\n",
       " 76.93,\n",
       " 77.01,\n",
       " 77.09,\n",
       " 77.17,\n",
       " 77.26,\n",
       " 77.34,\n",
       " 77.42,\n",
       " 77.51,\n",
       " 77.59,\n",
       " 77.67,\n",
       " 77.75,\n",
       " 77.84,\n",
       " 77.92,\n",
       " 78.0,\n",
       " 78.08,\n",
       " 78.17,\n",
       " 78.25,\n",
       " 78.33,\n",
       " 78.42,\n",
       " 78.5,\n",
       " 78.58,\n",
       " 78.66,\n",
       " 78.75,\n",
       " 78.83,\n",
       " 78.91,\n",
       " 78.99,\n",
       " 79.08,\n",
       " 79.16,\n",
       " 79.24,\n",
       " 79.33]"
      ]
     },
     "execution_count": 25,
     "metadata": {},
     "output_type": "execute_result"
    }
   ],
   "source": [
    "# for height graph\n",
    "graph_height = [input_height] # 0일 뒤 키 == 현재 입력 키\n",
    "x_height_days = list(range(1,181)) # 1일 뒤부터 180일 뒤 까지\n",
    "for i in range(1,181):\n",
    "    graph_height.append(round(lr_height.predict([[input_days + i, gender]])[0],2))\n",
    "graph_height\n"
   ]
  },
  {
   "cell_type": "code",
   "execution_count": 22,
   "metadata": {},
   "outputs": [
    {
     "data": {
      "text/plain": [
       "[6.6,\n",
       " 7.21,\n",
       " 7.23,\n",
       " 7.25,\n",
       " 7.27,\n",
       " 7.3,\n",
       " 7.32,\n",
       " 7.34,\n",
       " 7.36,\n",
       " 7.39,\n",
       " 7.41,\n",
       " 7.43,\n",
       " 7.45,\n",
       " 7.48,\n",
       " 7.5,\n",
       " 7.52,\n",
       " 7.54,\n",
       " 7.57,\n",
       " 7.59,\n",
       " 7.61,\n",
       " 7.63,\n",
       " 7.66,\n",
       " 7.68,\n",
       " 7.7,\n",
       " 7.72,\n",
       " 7.75,\n",
       " 7.77,\n",
       " 7.79,\n",
       " 7.81,\n",
       " 7.84,\n",
       " 7.86,\n",
       " 7.88,\n",
       " 7.9,\n",
       " 7.92,\n",
       " 7.95,\n",
       " 7.97,\n",
       " 7.99,\n",
       " 8.01,\n",
       " 8.04,\n",
       " 8.06,\n",
       " 8.08,\n",
       " 8.11,\n",
       " 8.13,\n",
       " 8.15,\n",
       " 8.17,\n",
       " 8.2,\n",
       " 8.22,\n",
       " 8.24,\n",
       " 8.26,\n",
       " 8.29,\n",
       " 8.31,\n",
       " 8.33,\n",
       " 8.35,\n",
       " 8.38,\n",
       " 8.4,\n",
       " 8.42,\n",
       " 8.44,\n",
       " 8.47,\n",
       " 8.49,\n",
       " 8.51,\n",
       " 8.53,\n",
       " 8.56,\n",
       " 8.58,\n",
       " 8.6,\n",
       " 8.62,\n",
       " 8.65,\n",
       " 8.67,\n",
       " 8.69,\n",
       " 8.71,\n",
       " 8.74,\n",
       " 8.76,\n",
       " 8.78,\n",
       " 8.8,\n",
       " 8.83,\n",
       " 8.85,\n",
       " 8.87,\n",
       " 8.89,\n",
       " 8.92,\n",
       " 8.94,\n",
       " 8.96,\n",
       " 8.98,\n",
       " 9.0,\n",
       " 9.03,\n",
       " 9.05,\n",
       " 9.07,\n",
       " 9.1,\n",
       " 9.12,\n",
       " 9.14,\n",
       " 9.16,\n",
       " 9.19,\n",
       " 9.21,\n",
       " 9.23,\n",
       " 9.25,\n",
       " 9.28,\n",
       " 9.3,\n",
       " 9.32,\n",
       " 9.35,\n",
       " 9.37,\n",
       " 9.39,\n",
       " 9.41,\n",
       " 9.43,\n",
       " 9.46,\n",
       " 9.48,\n",
       " 9.5,\n",
       " 9.52,\n",
       " 9.55,\n",
       " 9.57,\n",
       " 9.59,\n",
       " 9.61,\n",
       " 9.64,\n",
       " 9.66,\n",
       " 9.68,\n",
       " 9.7,\n",
       " 9.73,\n",
       " 9.75,\n",
       " 9.77,\n",
       " 9.79,\n",
       " 9.82,\n",
       " 9.84,\n",
       " 9.86,\n",
       " 9.88,\n",
       " 9.91,\n",
       " 9.93,\n",
       " 9.95,\n",
       " 9.97,\n",
       " 10.0,\n",
       " 10.02,\n",
       " 10.04,\n",
       " 10.06,\n",
       " 10.09,\n",
       " 10.11,\n",
       " 10.13,\n",
       " 10.15,\n",
       " 10.18,\n",
       " 10.2,\n",
       " 10.22,\n",
       " 10.24,\n",
       " 10.27,\n",
       " 10.29,\n",
       " 10.31,\n",
       " 10.34,\n",
       " 10.36,\n",
       " 10.38,\n",
       " 10.4,\n",
       " 10.43,\n",
       " 10.45,\n",
       " 10.47,\n",
       " 10.49,\n",
       " 10.51,\n",
       " 10.54,\n",
       " 10.56,\n",
       " 10.58,\n",
       " 10.6,\n",
       " 10.63,\n",
       " 10.65,\n",
       " 10.67,\n",
       " 10.69,\n",
       " 10.72,\n",
       " 10.74,\n",
       " 10.76,\n",
       " 10.78,\n",
       " 10.81,\n",
       " 10.83,\n",
       " 10.85,\n",
       " 10.87,\n",
       " 10.9,\n",
       " 10.92,\n",
       " 10.94,\n",
       " 10.96,\n",
       " 10.99,\n",
       " 11.01,\n",
       " 11.03,\n",
       " 11.05,\n",
       " 11.08,\n",
       " 11.1,\n",
       " 11.12,\n",
       " 11.14,\n",
       " 11.17,\n",
       " 11.19,\n",
       " 11.21,\n",
       " 11.24]"
      ]
     },
     "execution_count": 22,
     "metadata": {},
     "output_type": "execute_result"
    }
   ],
   "source": [
    "# for weight graph\n",
    "graph_weight = [input_weight] # 0일 뒤 몸무게 == 현재 입력 몸무게\n",
    "x_weight_days = list(range(1,181)) # 1일 뒤부터 180일 뒤 까지\n",
    "for i in range(1,181):\n",
    "    graph_weight.append(round(lr_weight.predict([[input_days + i, gender, graph_height[i]]])[0], 2))\n",
    "graph_weight\n"
   ]
  },
  {
   "cell_type": "code",
   "execution_count": null,
   "metadata": {},
   "outputs": [],
   "source": []
  }
 ],
 "metadata": {
  "kernelspec": {
   "display_name": "Python 3 (ipykernel)",
   "language": "python",
   "name": "python3"
  },
  "language_info": {
   "codemirror_mode": {
    "name": "ipython",
    "version": 3
   },
   "file_extension": ".py",
   "mimetype": "text/x-python",
   "name": "python",
   "nbconvert_exporter": "python",
   "pygments_lexer": "ipython3",
   "version": "3.9.15"
  }
 },
 "nbformat": 4,
 "nbformat_minor": 2
}
